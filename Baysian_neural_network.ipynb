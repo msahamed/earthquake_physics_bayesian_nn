{
 "cells": [
  {
   "cell_type": "markdown",
   "metadata": {},
   "source": [
    "### Import Libraries"
   ]
  },
  {
   "cell_type": "code",
   "execution_count": 390,
   "metadata": {},
   "outputs": [],
   "source": [
    "import warnings\n",
    "warnings.filterwarnings('ignore')"
   ]
  },
  {
   "cell_type": "code",
   "execution_count": 343,
   "metadata": {},
   "outputs": [],
   "source": [
    "seed = 2018\n",
    "import math\n",
    "import numpy as np\n",
    "import edward as ed\n",
    "import pandas as pd\n",
    "import tensorflow as tf\n",
    "np.random.seed(seed= seed)\n",
    "# ed.set_seed(seed)\n",
    "\n",
    "from time import time\n",
    "from edward.models import Categorical, Normal\n",
    "from keras.utils import to_categorical\n",
    "from plot_feature import plot_feature\n",
    "\n",
    "import seaborn as sns\n",
    "from scipy import stats\n",
    "from tqdm import tqdm\n",
    "import matplotlib.pyplot as plt\n",
    "from matplotlib import ticker\n",
    "from sklearn.utils import resample\n",
    "import scipy.special\n",
    "from matplotlib.mlab import griddata\n",
    "import matplotlib.tri as tri"
   ]
  },
  {
   "cell_type": "code",
   "execution_count": 3,
   "metadata": {},
   "outputs": [
    {
     "data": {
      "text/html": [
       "\n",
       "    <div class=\"bk-root\">\n",
       "        <a href=\"https://bokeh.pydata.org\" target=\"_blank\" class=\"bk-logo bk-logo-small bk-logo-notebook\"></a>\n",
       "        <span id=\"6746cc99-f589-4dd0-8f09-e498707f356b\">Loading BokehJS ...</span>\n",
       "    </div>"
      ]
     },
     "metadata": {},
     "output_type": "display_data"
    },
    {
     "data": {
      "application/javascript": [
       "\n",
       "(function(root) {\n",
       "  function now() {\n",
       "    return new Date();\n",
       "  }\n",
       "\n",
       "  var force = true;\n",
       "\n",
       "  if (typeof (root._bokeh_onload_callbacks) === \"undefined\" || force === true) {\n",
       "    root._bokeh_onload_callbacks = [];\n",
       "    root._bokeh_is_loading = undefined;\n",
       "  }\n",
       "\n",
       "  var JS_MIME_TYPE = 'application/javascript';\n",
       "  var HTML_MIME_TYPE = 'text/html';\n",
       "  var EXEC_MIME_TYPE = 'application/vnd.bokehjs_exec.v0+json';\n",
       "  var CLASS_NAME = 'output_bokeh rendered_html';\n",
       "\n",
       "  /**\n",
       "   * Render data to the DOM node\n",
       "   */\n",
       "  function render(props, node) {\n",
       "    var script = document.createElement(\"script\");\n",
       "    node.appendChild(script);\n",
       "  }\n",
       "\n",
       "  /**\n",
       "   * Handle when an output is cleared or removed\n",
       "   */\n",
       "  function handleClearOutput(event, handle) {\n",
       "    var cell = handle.cell;\n",
       "\n",
       "    var id = cell.output_area._bokeh_element_id;\n",
       "    var server_id = cell.output_area._bokeh_server_id;\n",
       "    // Clean up Bokeh references\n",
       "    if (id !== undefined) {\n",
       "      Bokeh.index[id].model.document.clear();\n",
       "      delete Bokeh.index[id];\n",
       "    }\n",
       "\n",
       "    if (server_id !== undefined) {\n",
       "      // Clean up Bokeh references\n",
       "      var cmd = \"from bokeh.io.state import curstate; print(curstate().uuid_to_server['\" + server_id + \"'].get_sessions()[0].document.roots[0]._id)\";\n",
       "      cell.notebook.kernel.execute(cmd, {\n",
       "        iopub: {\n",
       "          output: function(msg) {\n",
       "            var element_id = msg.content.text.trim();\n",
       "            Bokeh.index[element_id].model.document.clear();\n",
       "            delete Bokeh.index[element_id];\n",
       "          }\n",
       "        }\n",
       "      });\n",
       "      // Destroy server and session\n",
       "      var cmd = \"import bokeh.io.notebook as ion; ion.destroy_server('\" + server_id + \"')\";\n",
       "      cell.notebook.kernel.execute(cmd);\n",
       "    }\n",
       "  }\n",
       "\n",
       "  /**\n",
       "   * Handle when a new output is added\n",
       "   */\n",
       "  function handleAddOutput(event, handle) {\n",
       "    var output_area = handle.output_area;\n",
       "    var output = handle.output;\n",
       "\n",
       "    // limit handleAddOutput to display_data with EXEC_MIME_TYPE content only\n",
       "    if ((output.output_type != \"display_data\") || (!output.data.hasOwnProperty(EXEC_MIME_TYPE))) {\n",
       "      return\n",
       "    }\n",
       "\n",
       "    var toinsert = output_area.element.find(\".\" + CLASS_NAME.split(' ')[0]);\n",
       "\n",
       "    if (output.metadata[EXEC_MIME_TYPE][\"id\"] !== undefined) {\n",
       "      toinsert[toinsert.length - 1].firstChild.textContent = output.data[JS_MIME_TYPE];\n",
       "      // store reference to embed id on output_area\n",
       "      output_area._bokeh_element_id = output.metadata[EXEC_MIME_TYPE][\"id\"];\n",
       "    }\n",
       "    if (output.metadata[EXEC_MIME_TYPE][\"server_id\"] !== undefined) {\n",
       "      var bk_div = document.createElement(\"div\");\n",
       "      bk_div.innerHTML = output.data[HTML_MIME_TYPE];\n",
       "      var script_attrs = bk_div.children[0].attributes;\n",
       "      for (var i = 0; i < script_attrs.length; i++) {\n",
       "        toinsert[toinsert.length - 1].firstChild.setAttribute(script_attrs[i].name, script_attrs[i].value);\n",
       "      }\n",
       "      // store reference to server id on output_area\n",
       "      output_area._bokeh_server_id = output.metadata[EXEC_MIME_TYPE][\"server_id\"];\n",
       "    }\n",
       "  }\n",
       "\n",
       "  function register_renderer(events, OutputArea) {\n",
       "\n",
       "    function append_mime(data, metadata, element) {\n",
       "      // create a DOM node to render to\n",
       "      var toinsert = this.create_output_subarea(\n",
       "        metadata,\n",
       "        CLASS_NAME,\n",
       "        EXEC_MIME_TYPE\n",
       "      );\n",
       "      this.keyboard_manager.register_events(toinsert);\n",
       "      // Render to node\n",
       "      var props = {data: data, metadata: metadata[EXEC_MIME_TYPE]};\n",
       "      render(props, toinsert[toinsert.length - 1]);\n",
       "      element.append(toinsert);\n",
       "      return toinsert\n",
       "    }\n",
       "\n",
       "    /* Handle when an output is cleared or removed */\n",
       "    events.on('clear_output.CodeCell', handleClearOutput);\n",
       "    events.on('delete.Cell', handleClearOutput);\n",
       "\n",
       "    /* Handle when a new output is added */\n",
       "    events.on('output_added.OutputArea', handleAddOutput);\n",
       "\n",
       "    /**\n",
       "     * Register the mime type and append_mime function with output_area\n",
       "     */\n",
       "    OutputArea.prototype.register_mime_type(EXEC_MIME_TYPE, append_mime, {\n",
       "      /* Is output safe? */\n",
       "      safe: true,\n",
       "      /* Index of renderer in `output_area.display_order` */\n",
       "      index: 0\n",
       "    });\n",
       "  }\n",
       "\n",
       "  // register the mime type if in Jupyter Notebook environment and previously unregistered\n",
       "  if (root.Jupyter !== undefined) {\n",
       "    var events = require('base/js/events');\n",
       "    var OutputArea = require('notebook/js/outputarea').OutputArea;\n",
       "\n",
       "    if (OutputArea.prototype.mime_types().indexOf(EXEC_MIME_TYPE) == -1) {\n",
       "      register_renderer(events, OutputArea);\n",
       "    }\n",
       "  }\n",
       "\n",
       "  \n",
       "  if (typeof (root._bokeh_timeout) === \"undefined\" || force === true) {\n",
       "    root._bokeh_timeout = Date.now() + 5000;\n",
       "    root._bokeh_failed_load = false;\n",
       "  }\n",
       "\n",
       "  var NB_LOAD_WARNING = {'data': {'text/html':\n",
       "     \"<div style='background-color: #fdd'>\\n\"+\n",
       "     \"<p>\\n\"+\n",
       "     \"BokehJS does not appear to have successfully loaded. If loading BokehJS from CDN, this \\n\"+\n",
       "     \"may be due to a slow or bad network connection. Possible fixes:\\n\"+\n",
       "     \"</p>\\n\"+\n",
       "     \"<ul>\\n\"+\n",
       "     \"<li>re-rerun `output_notebook()` to attempt to load from CDN again, or</li>\\n\"+\n",
       "     \"<li>use INLINE resources instead, as so:</li>\\n\"+\n",
       "     \"</ul>\\n\"+\n",
       "     \"<code>\\n\"+\n",
       "     \"from bokeh.resources import INLINE\\n\"+\n",
       "     \"output_notebook(resources=INLINE)\\n\"+\n",
       "     \"</code>\\n\"+\n",
       "     \"</div>\"}};\n",
       "\n",
       "  function display_loaded() {\n",
       "    var el = document.getElementById(\"6746cc99-f589-4dd0-8f09-e498707f356b\");\n",
       "    if (el != null) {\n",
       "      el.textContent = \"BokehJS is loading...\";\n",
       "    }\n",
       "    if (root.Bokeh !== undefined) {\n",
       "      if (el != null) {\n",
       "        el.textContent = \"BokehJS \" + root.Bokeh.version + \" successfully loaded.\";\n",
       "      }\n",
       "    } else if (Date.now() < root._bokeh_timeout) {\n",
       "      setTimeout(display_loaded, 100)\n",
       "    }\n",
       "  }\n",
       "\n",
       "\n",
       "  function run_callbacks() {\n",
       "    try {\n",
       "      root._bokeh_onload_callbacks.forEach(function(callback) { callback() });\n",
       "    }\n",
       "    finally {\n",
       "      delete root._bokeh_onload_callbacks\n",
       "    }\n",
       "    console.info(\"Bokeh: all callbacks have finished\");\n",
       "  }\n",
       "\n",
       "  function load_libs(js_urls, callback) {\n",
       "    root._bokeh_onload_callbacks.push(callback);\n",
       "    if (root._bokeh_is_loading > 0) {\n",
       "      console.log(\"Bokeh: BokehJS is being loaded, scheduling callback at\", now());\n",
       "      return null;\n",
       "    }\n",
       "    if (js_urls == null || js_urls.length === 0) {\n",
       "      run_callbacks();\n",
       "      return null;\n",
       "    }\n",
       "    console.log(\"Bokeh: BokehJS not loaded, scheduling load and callback at\", now());\n",
       "    root._bokeh_is_loading = js_urls.length;\n",
       "    for (var i = 0; i < js_urls.length; i++) {\n",
       "      var url = js_urls[i];\n",
       "      var s = document.createElement('script');\n",
       "      s.src = url;\n",
       "      s.async = false;\n",
       "      s.onreadystatechange = s.onload = function() {\n",
       "        root._bokeh_is_loading--;\n",
       "        if (root._bokeh_is_loading === 0) {\n",
       "          console.log(\"Bokeh: all BokehJS libraries loaded\");\n",
       "          run_callbacks()\n",
       "        }\n",
       "      };\n",
       "      s.onerror = function() {\n",
       "        console.warn(\"failed to load library \" + url);\n",
       "      };\n",
       "      console.log(\"Bokeh: injecting script tag for BokehJS library: \", url);\n",
       "      document.getElementsByTagName(\"head\")[0].appendChild(s);\n",
       "    }\n",
       "  };var element = document.getElementById(\"6746cc99-f589-4dd0-8f09-e498707f356b\");\n",
       "  if (element == null) {\n",
       "    console.log(\"Bokeh: ERROR: autoload.js configured with elementid '6746cc99-f589-4dd0-8f09-e498707f356b' but no matching script tag was found. \")\n",
       "    return false;\n",
       "  }\n",
       "\n",
       "  var js_urls = [\"https://cdn.pydata.org/bokeh/release/bokeh-0.12.16.min.js\", \"https://cdn.pydata.org/bokeh/release/bokeh-widgets-0.12.16.min.js\", \"https://cdn.pydata.org/bokeh/release/bokeh-tables-0.12.16.min.js\", \"https://cdn.pydata.org/bokeh/release/bokeh-gl-0.12.16.min.js\"];\n",
       "\n",
       "  var inline_js = [\n",
       "    function(Bokeh) {\n",
       "      Bokeh.set_log_level(\"info\");\n",
       "    },\n",
       "    \n",
       "    function(Bokeh) {\n",
       "      \n",
       "    },\n",
       "    function(Bokeh) {\n",
       "      console.log(\"Bokeh: injecting CSS: https://cdn.pydata.org/bokeh/release/bokeh-0.12.16.min.css\");\n",
       "      Bokeh.embed.inject_css(\"https://cdn.pydata.org/bokeh/release/bokeh-0.12.16.min.css\");\n",
       "      console.log(\"Bokeh: injecting CSS: https://cdn.pydata.org/bokeh/release/bokeh-widgets-0.12.16.min.css\");\n",
       "      Bokeh.embed.inject_css(\"https://cdn.pydata.org/bokeh/release/bokeh-widgets-0.12.16.min.css\");\n",
       "      console.log(\"Bokeh: injecting CSS: https://cdn.pydata.org/bokeh/release/bokeh-tables-0.12.16.min.css\");\n",
       "      Bokeh.embed.inject_css(\"https://cdn.pydata.org/bokeh/release/bokeh-tables-0.12.16.min.css\");\n",
       "    }\n",
       "  ];\n",
       "\n",
       "  function run_inline_js() {\n",
       "    \n",
       "    if ((root.Bokeh !== undefined) || (force === true)) {\n",
       "      for (var i = 0; i < inline_js.length; i++) {\n",
       "        inline_js[i].call(root, root.Bokeh);\n",
       "      }if (force === true) {\n",
       "        display_loaded();\n",
       "      }} else if (Date.now() < root._bokeh_timeout) {\n",
       "      setTimeout(run_inline_js, 100);\n",
       "    } else if (!root._bokeh_failed_load) {\n",
       "      console.log(\"Bokeh: BokehJS failed to load within specified timeout.\");\n",
       "      root._bokeh_failed_load = true;\n",
       "    } else if (force !== true) {\n",
       "      var cell = $(document.getElementById(\"6746cc99-f589-4dd0-8f09-e498707f356b\")).parents('.cell').data().cell;\n",
       "      cell.output_area.append_execute_result(NB_LOAD_WARNING)\n",
       "    }\n",
       "\n",
       "  }\n",
       "\n",
       "  if (root._bokeh_is_loading === 0) {\n",
       "    console.log(\"Bokeh: BokehJS loaded, going straight to plotting\");\n",
       "    run_inline_js();\n",
       "  } else {\n",
       "    load_libs(js_urls, function() {\n",
       "      console.log(\"Bokeh: BokehJS plotting callback run at\", now());\n",
       "      run_inline_js();\n",
       "    });\n",
       "  }\n",
       "}(window));"
      ],
      "application/vnd.bokehjs_load.v0+json": "\n(function(root) {\n  function now() {\n    return new Date();\n  }\n\n  var force = true;\n\n  if (typeof (root._bokeh_onload_callbacks) === \"undefined\" || force === true) {\n    root._bokeh_onload_callbacks = [];\n    root._bokeh_is_loading = undefined;\n  }\n\n  \n\n  \n  if (typeof (root._bokeh_timeout) === \"undefined\" || force === true) {\n    root._bokeh_timeout = Date.now() + 5000;\n    root._bokeh_failed_load = false;\n  }\n\n  var NB_LOAD_WARNING = {'data': {'text/html':\n     \"<div style='background-color: #fdd'>\\n\"+\n     \"<p>\\n\"+\n     \"BokehJS does not appear to have successfully loaded. If loading BokehJS from CDN, this \\n\"+\n     \"may be due to a slow or bad network connection. Possible fixes:\\n\"+\n     \"</p>\\n\"+\n     \"<ul>\\n\"+\n     \"<li>re-rerun `output_notebook()` to attempt to load from CDN again, or</li>\\n\"+\n     \"<li>use INLINE resources instead, as so:</li>\\n\"+\n     \"</ul>\\n\"+\n     \"<code>\\n\"+\n     \"from bokeh.resources import INLINE\\n\"+\n     \"output_notebook(resources=INLINE)\\n\"+\n     \"</code>\\n\"+\n     \"</div>\"}};\n\n  function display_loaded() {\n    var el = document.getElementById(\"6746cc99-f589-4dd0-8f09-e498707f356b\");\n    if (el != null) {\n      el.textContent = \"BokehJS is loading...\";\n    }\n    if (root.Bokeh !== undefined) {\n      if (el != null) {\n        el.textContent = \"BokehJS \" + root.Bokeh.version + \" successfully loaded.\";\n      }\n    } else if (Date.now() < root._bokeh_timeout) {\n      setTimeout(display_loaded, 100)\n    }\n  }\n\n\n  function run_callbacks() {\n    try {\n      root._bokeh_onload_callbacks.forEach(function(callback) { callback() });\n    }\n    finally {\n      delete root._bokeh_onload_callbacks\n    }\n    console.info(\"Bokeh: all callbacks have finished\");\n  }\n\n  function load_libs(js_urls, callback) {\n    root._bokeh_onload_callbacks.push(callback);\n    if (root._bokeh_is_loading > 0) {\n      console.log(\"Bokeh: BokehJS is being loaded, scheduling callback at\", now());\n      return null;\n    }\n    if (js_urls == null || js_urls.length === 0) {\n      run_callbacks();\n      return null;\n    }\n    console.log(\"Bokeh: BokehJS not loaded, scheduling load and callback at\", now());\n    root._bokeh_is_loading = js_urls.length;\n    for (var i = 0; i < js_urls.length; i++) {\n      var url = js_urls[i];\n      var s = document.createElement('script');\n      s.src = url;\n      s.async = false;\n      s.onreadystatechange = s.onload = function() {\n        root._bokeh_is_loading--;\n        if (root._bokeh_is_loading === 0) {\n          console.log(\"Bokeh: all BokehJS libraries loaded\");\n          run_callbacks()\n        }\n      };\n      s.onerror = function() {\n        console.warn(\"failed to load library \" + url);\n      };\n      console.log(\"Bokeh: injecting script tag for BokehJS library: \", url);\n      document.getElementsByTagName(\"head\")[0].appendChild(s);\n    }\n  };var element = document.getElementById(\"6746cc99-f589-4dd0-8f09-e498707f356b\");\n  if (element == null) {\n    console.log(\"Bokeh: ERROR: autoload.js configured with elementid '6746cc99-f589-4dd0-8f09-e498707f356b' but no matching script tag was found. \")\n    return false;\n  }\n\n  var js_urls = [\"https://cdn.pydata.org/bokeh/release/bokeh-0.12.16.min.js\", \"https://cdn.pydata.org/bokeh/release/bokeh-widgets-0.12.16.min.js\", \"https://cdn.pydata.org/bokeh/release/bokeh-tables-0.12.16.min.js\", \"https://cdn.pydata.org/bokeh/release/bokeh-gl-0.12.16.min.js\"];\n\n  var inline_js = [\n    function(Bokeh) {\n      Bokeh.set_log_level(\"info\");\n    },\n    \n    function(Bokeh) {\n      \n    },\n    function(Bokeh) {\n      console.log(\"Bokeh: injecting CSS: https://cdn.pydata.org/bokeh/release/bokeh-0.12.16.min.css\");\n      Bokeh.embed.inject_css(\"https://cdn.pydata.org/bokeh/release/bokeh-0.12.16.min.css\");\n      console.log(\"Bokeh: injecting CSS: https://cdn.pydata.org/bokeh/release/bokeh-widgets-0.12.16.min.css\");\n      Bokeh.embed.inject_css(\"https://cdn.pydata.org/bokeh/release/bokeh-widgets-0.12.16.min.css\");\n      console.log(\"Bokeh: injecting CSS: https://cdn.pydata.org/bokeh/release/bokeh-tables-0.12.16.min.css\");\n      Bokeh.embed.inject_css(\"https://cdn.pydata.org/bokeh/release/bokeh-tables-0.12.16.min.css\");\n    }\n  ];\n\n  function run_inline_js() {\n    \n    if ((root.Bokeh !== undefined) || (force === true)) {\n      for (var i = 0; i < inline_js.length; i++) {\n        inline_js[i].call(root, root.Bokeh);\n      }if (force === true) {\n        display_loaded();\n      }} else if (Date.now() < root._bokeh_timeout) {\n      setTimeout(run_inline_js, 100);\n    } else if (!root._bokeh_failed_load) {\n      console.log(\"Bokeh: BokehJS failed to load within specified timeout.\");\n      root._bokeh_failed_load = true;\n    } else if (force !== true) {\n      var cell = $(document.getElementById(\"6746cc99-f589-4dd0-8f09-e498707f356b\")).parents('.cell').data().cell;\n      cell.output_area.append_execute_result(NB_LOAD_WARNING)\n    }\n\n  }\n\n  if (root._bokeh_is_loading === 0) {\n    console.log(\"Bokeh: BokehJS loaded, going straight to plotting\");\n    run_inline_js();\n  } else {\n    load_libs(js_urls, function() {\n      console.log(\"Bokeh: BokehJS plotting callback run at\", now());\n      run_inline_js();\n    });\n  }\n}(window));"
     },
     "metadata": {},
     "output_type": "display_data"
    }
   ],
   "source": [
    "from sklearn import metrics\n",
    "from sklearn.metrics import roc_auc_score\n",
    "from bokeh.layouts import gridplot\n",
    "from bokeh.plotting import figure, output_file, show, output_notebook\n",
    "output_notebook()\n",
    "TOOLS = 'save, zoom_in, zoom_out, hover, pan'"
   ]
  },
  {
   "cell_type": "markdown",
   "metadata": {},
   "source": [
    "### Sklearn related modules"
   ]
  },
  {
   "cell_type": "code",
   "execution_count": 4,
   "metadata": {},
   "outputs": [],
   "source": [
    "from sklearn.utils import shuffle\n",
    "from sklearn import preprocessing\n",
    "from sklearn.preprocessing import StandardScaler\n",
    "from sklearn.model_selection import train_test_split\n",
    "from sklearn.metrics import accuracy_score, classification_report, confusion_matrix, f1_score\n",
    "from sklearn.decomposition import PCA"
   ]
  },
  {
   "cell_type": "markdown",
   "metadata": {},
   "source": [
    "### Plot related setups"
   ]
  },
  {
   "cell_type": "code",
   "execution_count": 239,
   "metadata": {},
   "outputs": [],
   "source": [
    "# inspired by http://nipunbatra.github.io/2014/08/latexify/\n",
    "%matplotlib inline\n",
    "\n",
    "plt.style.use(['default'])\n",
    "params = {\n",
    "    'text.latex.preamble': ['\\\\usepackage{gensymb}'],\n",
    "    'image.origin': 'lower',\n",
    "    'image.interpolation': 'nearest',\n",
    "    'axes.grid': False,\n",
    "    'savefig.dpi': 150,  # to adjust notebook inline plot size\n",
    "    'axes.labelsize': 12, # fontsize for x and y labels (was 10)\n",
    "    'axes.titlesize': 12,\n",
    "    'font.size': 12, # was 10\n",
    "    'legend.fontsize': 12, # was 10\n",
    "    'xtick.labelsize': 12,\n",
    "    'ytick.labelsize': 12,\n",
    "    'text.usetex': True,\n",
    "    'font.family': 'serif',\n",
    "}\n",
    "plt.rcParams.update(params)"
   ]
  },
  {
   "cell_type": "markdown",
   "metadata": {},
   "source": [
    "### Import Data"
   ]
  },
  {
   "cell_type": "code",
   "execution_count": 6,
   "metadata": {},
   "outputs": [],
   "source": [
    "## look data with pandas\n",
    "train_file = \"data/rupturemodel_train.txt\"\n",
    "val_file = \"data/rupturemodel_xvalidate.txt\"\n",
    "test_file = \"data/rupturemodel_test.txt\"\n",
    "\n",
    "df_train= pd.read_csv(train_file, sep=\" \", header = None, dtype = np.float32)\n",
    "df_val= pd.read_csv(val_file, sep=\" \", header = None, dtype = np.float32)\n",
    "df_test= pd.read_csv(test_file, sep=\" \", header = None, dtype = np.float32)\n",
    "\n",
    "features_name =  ['height', 'width', 'sxx', 'sxy', 'syy', 'sdrop', 'mud', 'dc', 'label']\n",
    "df_train.columns = features_name\n",
    "df_val.columns = features_name\n",
    "df_test.columns = features_name\n",
    "\n",
    "df_train_all = df_train.append(df_val)"
   ]
  },
  {
   "cell_type": "markdown",
   "metadata": {},
   "source": [
    "### Data processing\n",
    "We use StandardScaler preprocessing method of scikit. It standardizes features \n",
    "by removing the mean and scaling to unit variance"
   ]
  },
  {
   "cell_type": "code",
   "execution_count": 7,
   "metadata": {},
   "outputs": [],
   "source": [
    "df = shuffle(df_train_all, random_state = seed)\n",
    "df_test = shuffle(df_test, random_state = seed)"
   ]
  },
  {
   "cell_type": "code",
   "execution_count": 8,
   "metadata": {},
   "outputs": [
    {
     "data": {
      "text/plain": [
       "(1600, 9)"
      ]
     },
     "execution_count": 8,
     "metadata": {},
     "output_type": "execute_result"
    }
   ],
   "source": [
    "df.shape"
   ]
  },
  {
   "cell_type": "markdown",
   "metadata": {},
   "source": [
    "### Class Balance"
   ]
  },
  {
   "cell_type": "code",
   "execution_count": 9,
   "metadata": {},
   "outputs": [
    {
     "data": {
      "text/plain": [
       "0.0    1041\n",
       "1.0     559\n",
       "Name: label, dtype: int64"
      ]
     },
     "execution_count": 9,
     "metadata": {},
     "output_type": "execute_result"
    }
   ],
   "source": [
    "df.label.value_counts()"
   ]
  },
  {
   "cell_type": "code",
   "execution_count": 10,
   "metadata": {},
   "outputs": [],
   "source": [
    "df_major = df[df.label == 0]\n",
    "df_minor = df[df.label == 1]"
   ]
  },
  {
   "cell_type": "code",
   "execution_count": 11,
   "metadata": {},
   "outputs": [
    {
     "data": {
      "text/plain": [
       "559"
      ]
     },
     "execution_count": 11,
     "metadata": {},
     "output_type": "execute_result"
    }
   ],
   "source": [
    "df_minor.shape[0]"
   ]
  },
  {
   "cell_type": "code",
   "execution_count": 12,
   "metadata": {},
   "outputs": [],
   "source": [
    "df_minor_upsmapled = resample(df_minor, replace = True, n_samples = df_major.shape[0], random_state = 2018)"
   ]
  },
  {
   "cell_type": "code",
   "execution_count": 13,
   "metadata": {},
   "outputs": [],
   "source": [
    "df_minor_upsmapled = pd.concat([df_minor_upsmapled, df_major])"
   ]
  },
  {
   "cell_type": "code",
   "execution_count": 14,
   "metadata": {},
   "outputs": [
    {
     "data": {
      "text/plain": [
       "0.0    1041\n",
       "1.0    1041\n",
       "Name: label, dtype: int64"
      ]
     },
     "execution_count": 14,
     "metadata": {},
     "output_type": "execute_result"
    }
   ],
   "source": [
    "df_minor_upsmapled.label.value_counts()"
   ]
  },
  {
   "cell_type": "markdown",
   "metadata": {},
   "source": [
    "### Analysis"
   ]
  },
  {
   "cell_type": "code",
   "execution_count": 15,
   "metadata": {},
   "outputs": [],
   "source": [
    "features =['height', 'width', 'sxx', 'sxy', 'syy', 'sdrop', 'mud', 'dc']"
   ]
  },
  {
   "cell_type": "code",
   "execution_count": 16,
   "metadata": {},
   "outputs": [
    {
     "data": {
      "image/png": "[encoded data removed]",
      "text/plain": [
       "<Figure size 1000x400 with 8 Axes>"
      ]
     },
     "metadata": {},
     "output_type": "display_data"
    }
   ],
   "source": [
    "plt.figure(figsize=(10, 4))\n",
    "\n",
    "for i, feature in enumerate(features):\n",
    "    plt.subplot(2, 4, i + 1)\n",
    "    sns.kdeplot(df[feature][df.label == 0], shade= True, legend=False)\n",
    "    sns.kdeplot(df[feature][df.label == 1], shade= True, legend=False)\n",
    "    plt.title(feature)\n",
    "    \n",
    "plt.tight_layout()\n",
    "plt.show()"
   ]
  },
  {
   "cell_type": "markdown",
   "metadata": {},
   "source": [
    "### Fetaure Scaling"
   ]
  },
  {
   "cell_type": "code",
   "execution_count": 17,
   "metadata": {},
   "outputs": [],
   "source": [
    "mms = StandardScaler()\n",
    "train_scale = mms.fit(df_minor_upsmapled.drop('label', axis=1))\n",
    "\n",
    "xtrain = train_scale.transform(df_minor_upsmapled.drop('label', axis=1))\n",
    "ytrain =  np.array(df_minor_upsmapled['label'].values)\n",
    "ytrain = ytrain.reshape(ytrain.shape[0], 1)\n",
    "\n",
    "xtest = train_scale.transform(df_test.drop('label', axis=1))\n",
    "ytest = np.array(df_test['label'].values)\n",
    "ytest = ytest.reshape(ytest.shape[0], 1)"
   ]
  },
  {
   "cell_type": "code",
   "execution_count": 18,
   "metadata": {},
   "outputs": [
    {
     "data": {
      "text/plain": [
       "(2082, 8)"
      ]
     },
     "execution_count": 18,
     "metadata": {},
     "output_type": "execute_result"
    }
   ],
   "source": [
    "np.shape(xtrain)"
   ]
  },
  {
   "cell_type": "markdown",
   "metadata": {},
   "source": [
    "### Feature analysis"
   ]
  },
  {
   "cell_type": "code",
   "execution_count": 19,
   "metadata": {},
   "outputs": [
    {
     "data": {
      "image/png": "[encoded data removed]",
      "text/plain": [
       "<Figure size 1080x270 with 2 Axes>"
      ]
     },
     "metadata": {},
     "output_type": "display_data"
    }
   ],
   "source": [
    "plot_feature(df, 'height', True, False)"
   ]
  },
  {
   "cell_type": "code",
   "execution_count": 20,
   "metadata": {},
   "outputs": [
    {
     "data": {
      "image/png": "[encoded data removed]",
      "text/plain": [
       "<Figure size 1080x270 with 2 Axes>"
      ]
     },
     "metadata": {},
     "output_type": "display_data"
    }
   ],
   "source": [
    "plot_feature(df, 'width', True, False)"
   ]
  },
  {
   "cell_type": "code",
   "execution_count": 21,
   "metadata": {},
   "outputs": [
    {
     "data": {
      "image/png": "[encoded data removed]",
      "text/plain": [
       "<Figure size 1080x270 with 2 Axes>"
      ]
     },
     "metadata": {},
     "output_type": "display_data"
    }
   ],
   "source": [
    "plot_feature(df, 'sdrop', True, False)"
   ]
  },
  {
   "cell_type": "code",
   "execution_count": 22,
   "metadata": {},
   "outputs": [],
   "source": [
    "from sklearn.linear_model import Lasso, Ridge"
   ]
  },
  {
   "cell_type": "code",
   "execution_count": 23,
   "metadata": {},
   "outputs": [],
   "source": [
    "#A helper method for pretty-printing linear models\n",
    "def pretty_print_linear(coefs, names = None, sort = False):\n",
    "    if names == None:\n",
    "        names = [\"X%s\" % x for x in range(len(coefs))]\n",
    "    lst = zip(coefs, names)\n",
    "    if sort:\n",
    "        lst = sorted(lst,  key = lambda x:-np.abs(x[0]))\n",
    "    return \" + \".join(\"%s * %s\" % (np.round(coef, 3), name)\n",
    "                                   for coef, name in lst)"
   ]
  },
  {
   "cell_type": "code",
   "execution_count": 24,
   "metadata": {},
   "outputs": [
    {
     "name": "stdout",
     "output_type": "stream",
     "text": [
      "Lasso model:  -0.032 * height + -0.018 * width + -0.085 * sxx + -0.002 * sxy + -0.098 * syy + -0.049 * sdrop + 0.111 * mud + 0.008 * dc\n",
      "Ridge model:  [-0.032 -0.019 -0.086 -0.008 -0.103 -0.046  0.111  0.008] * height\n"
     ]
    }
   ],
   "source": [
    "lasso = Lasso(alpha=0.0005)\n",
    "lasso.fit(xtrain, ytrain)\n",
    "print(\"Lasso model: \", pretty_print_linear(lasso.coef_, features, sort = False))\n",
    "\n",
    "ridge = Ridge(alpha=10)\n",
    "ridge.fit(xtrain, ytrain)\n",
    "print(\"Ridge model: \", pretty_print_linear(ridge.coef_, features, sort = False))"
   ]
  },
  {
   "cell_type": "markdown",
   "metadata": {},
   "source": [
    "## Model setup"
   ]
  },
  {
   "cell_type": "markdown",
   "metadata": {},
   "source": [
    "### 1. Hyperparameters "
   ]
  },
  {
   "cell_type": "code",
   "execution_count": 25,
   "metadata": {},
   "outputs": [],
   "source": [
    "## Hyperparameters\n",
    "N = np.shape(xtrain)[0]\n",
    "in_size = np.shape(xtrain)[1]\n",
    "out_size = 1\n",
    "l1 = 12 # Number of neurons in the first layer\n",
    "BATCH_SIZE = 32"
   ]
  },
  {
   "cell_type": "markdown",
   "metadata": {},
   "source": [
    "### 2. Define neural network"
   ]
  },
  {
   "cell_type": "code",
   "execution_count": 26,
   "metadata": {},
   "outputs": [],
   "source": [
    "def neural_network(X, W_0, W_1, b_0, b_1):\n",
    "    hidden1 = tf.nn.relu(tf.matmul(X, W_0) + b_0)\n",
    "    output = tf.nn.sigmoid(tf.matmul(hidden1, W_1) + b_1)\n",
    "    return output"
   ]
  },
  {
   "cell_type": "code",
   "execution_count": 27,
   "metadata": {},
   "outputs": [],
   "source": [
    "\n",
    "with tf.name_scope('model_prior'):\n",
    "    \n",
    "    W_0 = Normal(loc = tf.zeros([in_size, l1], name=\"weights/loc_w_0\"), \n",
    "                 scale=tf.ones([in_size, l1], name=\"weights/scale_w_0\"),\n",
    "                 name  = 'weight_w_0')\n",
    "    W_1 = Normal(loc=tf.zeros([l1, out_size], name=\"weights/loc_w_1\"), \n",
    "                 scale=tf.ones([l1, out_size], name=\"weights/scale_w_1\"),\n",
    "                 name  = 'weight_w_1')\n",
    "    b_0 = Normal(loc=tf.zeros(l1, name=\"weights/loc_b_0\"), \n",
    "                 scale=tf.ones(l1, name=\"weights/scale_b_0\"),\n",
    "                 name  = 'weight_b_0')\n",
    "    b_1 = Normal(loc=tf.zeros(out_size, name=\"weights/loc_b_1\"),\n",
    "                 scale=tf.ones(out_size, name=\"weights/scale_b_1\"),\n",
    "                 name  = 'weight_b_1')\n",
    "    \n",
    "    X = tf.placeholder(tf.float32, shape = (None, in_size)) \n",
    "    y = Normal(loc = neural_network(X, W_0, W_1, b_0, b_1), scale = 1.0)"
   ]
  },
  {
   "cell_type": "markdown",
   "metadata": {},
   "source": [
    "### 3. Model Prior parameter distributions"
   ]
  },
  {
   "cell_type": "code",
   "execution_count": 28,
   "metadata": {},
   "outputs": [],
   "source": [
    "with tf.name_scope('posterior'):\n",
    "    qW_0 = Normal(loc = tf.Variable(tf.random_normal([in_size, l1]), name = \"weights/loc_qw_0\" ), \n",
    "                  scale = tf.Variable(tf.random_normal([in_size, l1]), name = \"weights/scale_qw_0\"),\n",
    "                  name = \"weight_qw_0\")\n",
    "    \n",
    "    qW_1 = Normal(loc = tf.Variable(tf.random_normal([l1, out_size]), name = \"weights/loc_qw_1\" ), \n",
    "                  scale = tf.Variable(tf.random_normal([l1, out_size]), name = \"weights/loc_qw_1\" ),\n",
    "                  name = \"weight_qw_1\")\n",
    "    \n",
    "    qb_0 = Normal(loc = tf.Variable(tf.random_normal([l1]), name = \"weights/loc_qb_0\" ), \n",
    "                scale = tf.Variable(tf.random_normal([l1]), name = \"weights/loc_qb_0\" ),\n",
    "                name = \"weight_qb_0\")\n",
    "    qb_1 = Normal(loc = tf.Variable(tf.random_normal([out_size]), name = \"weights/loc_qb_1\" ), \n",
    "                scale = tf.Variable(tf.random_normal([out_size]), name = \"weights/loc_qb_1\" ),\n",
    "                name = \"weight_qb_1\")"
   ]
  },
  {
   "cell_type": "markdown",
   "metadata": {},
   "source": [
    "### Model posterior weights"
   ]
  },
  {
   "cell_type": "code",
   "execution_count": 29,
   "metadata": {},
   "outputs": [],
   "source": [
    "with tf.name_scope('posterior'):\n",
    "    qW_0 = Normal(loc = tf.Variable(tf.random_normal([in_size, l1]), name = \"weights/loc_qw_0\" ), \n",
    "                  scale = tf.Variable(tf.random_normal([in_size, l1]), name = \"weights/scale_qw_0\"),\n",
    "                  name = \"weight_qw_0\")\n",
    "    \n",
    "    qW_1 = Normal(loc = tf.Variable(tf.random_normal([l1, out_size]), name = \"weights/loc_qw_1\" ), \n",
    "                  scale = tf.Variable(tf.random_normal([l1, out_size]), name = \"weights/loc_qw_1\" ),\n",
    "                  name = \"weight_qw_1\")\n",
    "    \n",
    "    qb_0 = Normal(loc = tf.Variable(tf.random_normal([l1]), name = \"weights/loc_qb_0\" ), \n",
    "                scale = tf.Variable(tf.random_normal([l1]), name = \"weights/loc_qb_0\" ),\n",
    "                name = \"weight_qb_0\")\n",
    "    qb_1 = Normal(loc = tf.Variable(tf.random_normal([out_size]), name = \"weights/loc_qb_1\" ), \n",
    "                scale = tf.Variable(tf.random_normal([out_size]), name = \"weights/loc_qb_1\" ),\n",
    "                name = \"weight_qb_1\")"
   ]
  },
  {
   "cell_type": "markdown",
   "metadata": {},
   "source": [
    "## Inference"
   ]
  },
  {
   "cell_type": "code",
   "execution_count": 30,
   "metadata": {},
   "outputs": [
    {
     "name": "stdout",
     "output_type": "stream",
     "text": [
      "5000/5000 [100%] ██████████████████████████████ Elapsed: 10s | Loss: 2206.568\n"
     ]
    }
   ],
   "source": [
    "with tf.name_scope(\"inference\"):\n",
    "    \n",
    "    inference = ed.KLqp({W_0: qW_0, b_0: qb_0,\n",
    "                         W_1: qW_1, b_1: qb_1}, \n",
    "                        data={X: xtrain, \n",
    "                              y: ytrain})\n",
    "\n",
    "    global_step = tf.Variable(0, trainable = True, name = \"global_step\")\n",
    "    initial_learning_rate = tf.Variable(0.001, trainable = True, name = \"initial_learning_rate\")\n",
    "\n",
    "    learning_rate = tf.train.exponential_decay(initial_learning_rate, global_step,\n",
    "                                               10000, 0.3, staircase = True)\n",
    "\n",
    "    optimizer = tf.train.AdamOptimizer(learning_rate)\n",
    "\n",
    "    inference.run(n_iter = 5000, optimizer = optimizer, global_step = global_step, logdir = r'./log')"
   ]
  },
  {
   "cell_type": "markdown",
   "metadata": {},
   "source": [
    "## Sampling "
   ]
  },
  {
   "cell_type": "code",
   "execution_count": 31,
   "metadata": {},
   "outputs": [
    {
     "name": "stdout",
     "output_type": "stream",
     "text": [
      "CPU times: user 5 µs, sys: 1 µs, total: 6 µs\n",
      "Wall time: 12.9 µs\n",
      "Preparing to sample...\n",
      "Took 65 secs.\n",
      "Sampling...\n",
      "Took 178 secs.\n"
     ]
    }
   ],
   "source": [
    "%time\n",
    "\n",
    "n_samples = 5000\n",
    "\n",
    "qW_0_samples = qW_0.sample(sample_shape=n_samples)\n",
    "qW_1_samples = qW_1.sample(sample_shape=n_samples)\n",
    "qb_0_samples = qb_0.sample(sample_shape=n_samples)\n",
    "qb_1_samples = qb_1.sample(sample_shape=n_samples)\n",
    "\n",
    "print(\"Preparing to sample...\")\n",
    "\n",
    "t0 = time()\n",
    "samplenodes = tf.stack([neural_network(X, qW_0_samples[i], qW_1_samples[i],\n",
    "                                       qb_0_samples[i], qb_1_samples[i]) \n",
    "                        for i in range(n_samples)], axis=0)\n",
    "\n",
    "print(\"Took\", np.int(time() - t0), \"secs.\")\n",
    "\n",
    "print(\"Sampling...\")\n",
    "t0 = time()\n",
    "samplepredictions = samplenodes.eval(feed_dict={X: xtest})\n",
    "print(\"Took\", np.int(time() - t0), \"secs.\")\n",
    "predictions_samp = samplepredictions[:, :, 0]"
   ]
  },
  {
   "cell_type": "markdown",
   "metadata": {},
   "source": [
    "### Prior and posterior weight vizualization"
   ]
  },
  {
   "cell_type": "code",
   "execution_count": 32,
   "metadata": {},
   "outputs": [],
   "source": [
    "### prior weights\n",
    "prior_weights = W_0.eval(), W_1.eval(), b_0.eval(), b_1.eval()\n",
    "\n",
    "### Posterior mean weights\n",
    "post_weights_mean = qW_0_samples.eval().mean(axis = 0), qW_1_samples.eval().mean(axis = 0),\\\n",
    "               qb_0_samples.eval().mean(axis = 0), qb_1_samples.eval().mean(axis = 0)"
   ]
  },
  {
   "cell_type": "code",
   "execution_count": 33,
   "metadata": {},
   "outputs": [],
   "source": [
    "### Posterior standard deviation of weights\n",
    "post_weights_std = qW_0_samples.eval().std(axis = 0), qW_1_samples.eval().std(axis = 0),\\\n",
    "               qb_0_samples.eval().std(axis = 0), qb_1_samples.eval().std(axis = 0)"
   ]
  },
  {
   "cell_type": "code",
   "execution_count": 187,
   "metadata": {},
   "outputs": [
    {
     "data": {
      "text/plain": [
       "(8, 12)"
      ]
     },
     "execution_count": 187,
     "metadata": {},
     "output_type": "execute_result"
    }
   ],
   "source": [
    "np.shape(prior_weights[0])"
   ]
  },
  {
   "cell_type": "code",
   "execution_count": 188,
   "metadata": {},
   "outputs": [
    {
     "data": {
      "text/plain": [
       "(5000, 8, 12)"
      ]
     },
     "execution_count": 188,
     "metadata": {},
     "output_type": "execute_result"
    }
   ],
   "source": [
    "np.shape(qW_0_samples.eval())"
   ]
  },
  {
   "cell_type": "code",
   "execution_count": 210,
   "metadata": {},
   "outputs": [],
   "source": [
    "wgt = ['w$^0$', 'w$^1$', 'b$^0$', 'b$^1$']\n",
    "lbl = ['a', 'b', 'c', 'd']\n",
    "def plot_weight_distribution(prior = True):\n",
    "\n",
    "    plt.figure(figsize=(8, 6))\n",
    "    \n",
    "    for i in range(len(prior_weights)):\n",
    "        plt.subplot(2, 2, i+1)\n",
    "        if i == 3:\n",
    "            plt.plot(prior_weights[i].reshape(-1), \"ro\", label = 'Prior')\n",
    "            plt.plot(post_weights_mean[i].reshape(-1), \"bo\", label = 'Prior')\n",
    "        else:\n",
    "            sns.kdeplot(prior_weights[i].reshape(-1), shade = True, color = \"r\", label = 'Prior')\n",
    "            sns.kdeplot(post_weights_mean[i].reshape(-1), shade = True, color = \"b\", label = 'Posterior')\n",
    "\n",
    "        plt.title('(' + lbl[i] + ') ' + wgt[i])\n",
    "        plt.ylabel('Density')\n",
    "        plt.xlabel('Weight')\n",
    "        \n",
    "    plt.legend(frameon=False)\n",
    "    plt.tight_layout()\n",
    "#     plt.show()\n",
    "    plt.savefig('../paper/figures/posterior_weight.png')"
   ]
  },
  {
   "cell_type": "code",
   "execution_count": 211,
   "metadata": {},
   "outputs": [
    {
     "name": "stderr",
     "output_type": "stream",
     "text": [
      "/Users/sabber/anaconda3/lib/python3.6/site-packages/matplotlib/tight_layout.py:231: UserWarning: tight_layout : falling back to Agg renderer\n",
      "  warnings.warn(\"tight_layout : falling back to Agg renderer\")\n"
     ]
    },
    {
     "data": {
      "image/png": "[encoded data removed]",
      "text/plain": [
       "<Figure size 576x432 with 4 Axes>"
      ]
     },
     "metadata": {},
     "output_type": "display_data"
    }
   ],
   "source": [
    "plot_weight_distribution()"
   ]
  },
  {
   "cell_type": "markdown",
   "metadata": {},
   "source": [
    "### Statistics on prior and posterior weigth distribution"
   ]
  },
  {
   "cell_type": "code",
   "execution_count": 214,
   "metadata": {},
   "outputs": [
    {
     "name": "stdout",
     "output_type": "stream",
     "text": [
      "w$^0$\n",
      "-0.056490015\n",
      "0.0336118\n",
      "1.0278634\n",
      "0.5250203\n",
      "w$^1$\n",
      "0.17717205\n",
      "-0.09415656\n",
      "0.80817145\n",
      "0.7283847\n",
      "b$^0$\n",
      "-0.3824927\n",
      "-0.43993047\n",
      "1.1170884\n",
      "0.29290244\n",
      "b$^1$\n",
      "1.6093408\n",
      "0.23902255\n",
      "0.0\n",
      "0.0\n"
     ]
    }
   ],
   "source": [
    "for i, wt in enumerate(wgt):\n",
    "    print(wt)\n",
    "    print(np.mean(prior_weights[i].reshape(-1)))\n",
    "    print(np.mean(post_weights_mean[i].reshape(-1)))\n",
    "    print(np.std(prior_weights[i].reshape(-1)))\n",
    "    print(np.std(post_weights_mean[i].reshape(-1)))"
   ]
  },
  {
   "cell_type": "markdown",
   "metadata": {},
   "source": [
    "### Model weights mean and standard deviation"
   ]
  },
  {
   "cell_type": "code",
   "execution_count": 436,
   "metadata": {},
   "outputs": [
    {
     "data": {
      "image/png": "[encoded data removed]",
      "text/plain": [
       "<Figure size 1200x400 with 8 Axes>"
      ]
     },
     "metadata": {},
     "output_type": "display_data"
    }
   ],
   "source": [
    "# %matplotlib notebook\n",
    "\n",
    "plt.figure(figsize=(12, 4))\n",
    "\n",
    "wgt = ['Mean of w0', 'Mean of w1', 'Std. of w0', 'Std. of w1']\n",
    "lbl = ['a', 'b', 'c', 'd']\n",
    "\n",
    "k = 0\n",
    "for i in range(2):\n",
    "    if i == 0:\n",
    "        weights = post_weights_mean\n",
    "    else:\n",
    "        weights = post_weights_std\n",
    "        \n",
    "    plt.subplot(1,4, k + i + 1)\n",
    "    aa = np.transpose(weights[0])\n",
    "    plt.pcolormesh(aa, cmap = 'viridis', vmin = np.min(weights[0]), vmax = np.amax(weights[0]))\n",
    "    labels = ['Height', 'Width', 'OP normal', 'Shear', 'IP normal', 'Dynamic Fric', 'Fric Drop', '$d_c$']\n",
    "\n",
    "    plt.xticks([0.5+float(x) for x in range(0,8)], labels, rotation='vertical')\n",
    "    plt.yticks([0.5+float(x) for x in range(0,12)], list(range(1,13)))\n",
    "    plt.ylabel('Hidden Units')\n",
    "    plt.title('('+ lbl[k + i] + ') ' + wgt[k + i])\n",
    "\n",
    "    plt.subplots_adjust(left=None, bottom=None, right=None, top=None, wspace=None, hspace=0.35)\n",
    "\n",
    "    cb = plt.colorbar(orientation=\"vertical\",fraction=0.07, pad=0.1)\n",
    "    tick_locator = ticker.MaxNLocator(nbins=5)\n",
    "    cb.locator = tick_locator\n",
    "    cb.update_ticks()\n",
    "\n",
    "    # Layer two plot\n",
    "    plt.subplot(1, 4, k+i+2)\n",
    "    bb = np.reshape(weights[1], (12, 1))\n",
    "    plt.pcolormesh(bb, cmap = 'viridis', vmin = np.min(weights[1]), vmax = np.amax(weights[1]))\n",
    "    plt.xticks([0.5],['Output Unit'],rotation='vertical')\n",
    "    plt.yticks([0.5+float(x) for x in range(0,12)], list(range(1,13)))\n",
    "    plt.title('('+ lbl[k+i+1] + ') ' + wgt[k+i+1])\n",
    "\n",
    "    cb = plt.colorbar(orientation=\"vertical\",fraction=0.07, pad=0.1)\n",
    "    tick_locator = ticker.MaxNLocator(nbins=5)\n",
    "    cb.locator = tick_locator\n",
    "    cb.update_ticks()\n",
    "    k = 1\n",
    "\n",
    "plt.tight_layout()\n",
    "plt.savefig('../paper/figures/network_uncertainity.eps')\n",
    "plt.show()"
   ]
  },
  {
   "cell_type": "markdown",
   "metadata": {},
   "source": [
    "### Evaluation"
   ]
  },
  {
   "cell_type": "code",
   "execution_count": 221,
   "metadata": {},
   "outputs": [],
   "source": [
    "###\n",
    "results = pd.DataFrame()\n",
    "results['target'] = list(ytest)\n",
    "results.target = results.target.apply(lambda x: int(x[0]))"
   ]
  },
  {
   "cell_type": "code",
   "execution_count": 222,
   "metadata": {},
   "outputs": [],
   "source": [
    "results['predictions'] = predictions_samp.mean(axis = 0)\n",
    "results['predStd'] = predictions_samp.std(axis = 0)\n",
    "results['predVar'] = predictions_samp.var(axis = 0)"
   ]
  },
  {
   "cell_type": "code",
   "execution_count": 223,
   "metadata": {},
   "outputs": [],
   "source": [
    "zzz = stats.norm.interval(0.95, loc = results['predictions'], scale = results['predStd'])\n",
    "results['confidenceLow'] = np.transpose(zzz)[:, 0]\n",
    "results['confidenceHigh'] = np.transpose(zzz)[:, 1]\n",
    "results['confidenceRange'] = np.absolute(results['confidenceHigh'] - results['confidenceLow'])"
   ]
  },
  {
   "cell_type": "code",
   "execution_count": 232,
   "metadata": {},
   "outputs": [
    {
     "data": {
      "text/plain": [
       "0.0    272\n",
       "1.0    128\n",
       "Name: label, dtype: int64"
      ]
     },
     "execution_count": 232,
     "metadata": {},
     "output_type": "execute_result"
    }
   ],
   "source": [
    "df_test.label.value_counts()"
   ]
  },
  {
   "cell_type": "code",
   "execution_count": 252,
   "metadata": {},
   "outputs": [
    {
     "data": {
      "image/png": "[encoded data removed]",
      "text/plain": [
       "<Figure size 1200x300 with 2 Axes>"
      ]
     },
     "metadata": {},
     "output_type": "display_data"
    }
   ],
   "source": [
    "plt.figure(figsize=(12, 3))\n",
    "plt.subplot(121)\n",
    "sns.distplot(results.predictions, kde = False, bins = 80, color = 'blue')\n",
    "plt.xlabel('Prediction Probabilities')\n",
    "plt.title('(a) Frequency of prediction probabilities')\n",
    "plt.ylabel('Frequency')\n",
    "\n",
    "plt.subplot(122)\n",
    "sns.lineplot(x = \"predictions\", y = \"predStd\", data = results, color = 'blue')\n",
    "plt.xlabel('Prediction Probabilities')\n",
    "plt.title('(b) Standard deviation of prediction probabilities')\n",
    "plt.ylabel('Standard deviation')\n",
    "plt.tight_layout()\n",
    "plt.savefig('../paper/figures/uncertainity_statistics.eps')\n",
    "# plt.show()"
   ]
  },
  {
   "cell_type": "code",
   "execution_count": 46,
   "metadata": {},
   "outputs": [
    {
     "data": {
      "text/html": [
       "\n",
       "<div class=\"bk-root\">\n",
       "    <div class=\"bk-plotdiv\" id=\"971fdc07-32ca-4c0e-8e83-384adf908cb2\"></div>\n",
       "</div>"
      ]
     },
     "metadata": {},
     "output_type": "display_data"
    },
    {
     "data": {
      "application/javascript": [
       "(function(root) {\n",
       "  function embed_document(root) {\n",
       "    \n",
       "  var docs_json = {\"398385a7-da64-48f6-b17e-66932c7ee48c\":{\"roots\":{\"references\":[{\"attributes\":{},\"id\":\"8dc41dd8-2686-49a9-a6cf-e39b47ece8de\",\"type\":\"BasicTicker\"},{\"attributes\":{\"axis_label\":\"True positive rate\",\"formatter\":{\"id\":\"cd7c5ee4-c630-439d-bdf1-ed026d5ac7b2\",\"type\":\"BasicTickFormatter\"},\"plot\":{\"id\":\"5d632371-db88-4df8-83b4-f6836d7568a6\",\"subtype\":\"Figure\",\"type\":\"Plot\"},\"ticker\":{\"id\":\"c795d243-60d1-4985-8dbd-38ce590392ad\",\"type\":\"BasicTicker\"}},\"id\":\"0fc8617b-2fd4-4971-a14a-d400a2fe3b06\",\"type\":\"LinearAxis\"},{\"attributes\":{},\"id\":\"c795d243-60d1-4985-8dbd-38ce590392ad\",\"type\":\"BasicTicker\"},{\"attributes\":{\"dimension\":1,\"plot\":{\"id\":\"5d632371-db88-4df8-83b4-f6836d7568a6\",\"subtype\":\"Figure\",\"type\":\"Plot\"},\"ticker\":{\"id\":\"c795d243-60d1-4985-8dbd-38ce590392ad\",\"type\":\"BasicTicker\"}},\"id\":\"a6c13304-f808-44b6-bc1c-50ca0139b59b\",\"type\":\"Grid\"},{\"attributes\":{},\"id\":\"77cf2ecb-8f4b-4eb4-90a0-0b2b5f36ccc6\",\"type\":\"BasicTickFormatter\"},{\"attributes\":{},\"id\":\"cd7c5ee4-c630-439d-bdf1-ed026d5ac7b2\",\"type\":\"BasicTickFormatter\"},{\"attributes\":{\"line_color\":\"red\",\"line_width\":2,\"x\":{\"field\":\"x\"},\"y\":{\"field\":\"y\"}},\"id\":\"298c89e1-1084-4077-bacf-0dfdc05c8b0a\",\"type\":\"Line\"},{\"attributes\":{},\"id\":\"870e37bb-7c4d-4510-b7d5-5e8d6d9f2aeb\",\"type\":\"SaveTool\"},{\"attributes\":{\"callback\":null},\"id\":\"70fc1630-8ea1-4e12-b1d1-ba2dc5af7e4a\",\"type\":\"DataRange1d\"},{\"attributes\":{},\"id\":\"428ed24a-ed55-4d04-80a2-0d84e136b73a\",\"type\":\"ZoomInTool\"},{\"attributes\":{},\"id\":\"e212daf0-897c-45ba-bea3-f3d86b13a220\",\"type\":\"ZoomOutTool\"},{\"attributes\":{\"callback\":null,\"renderers\":\"auto\"},\"id\":\"61b8f410-000b-49e0-8659-51c2ad1d8ba6\",\"type\":\"HoverTool\"},{\"attributes\":{},\"id\":\"b449c6dd-4d38-491d-97a1-5d66608b69a1\",\"type\":\"PanTool\"},{\"attributes\":{\"source\":{\"id\":\"bc6dc953-7555-493b-b711-d0f7701138e0\",\"type\":\"ColumnDataSource\"}},\"id\":\"f52c7b3e-8488-4cf8-a30c-28f73db158df\",\"type\":\"CDSView\"},{\"attributes\":{\"line_alpha\":0.1,\"line_color\":\"#1f77b4\",\"line_width\":2,\"x\":{\"field\":\"x\"},\"y\":{\"field\":\"y\"}},\"id\":\"358d5f55-93a3-4e10-b2e5-cb3794c0a0a5\",\"type\":\"Line\"},{\"attributes\":{\"data_source\":{\"id\":\"f8eb5241-0a88-44fa-980b-702a21331d01\",\"type\":\"ColumnDataSource\"},\"glyph\":{\"id\":\"298c89e1-1084-4077-bacf-0dfdc05c8b0a\",\"type\":\"Line\"},\"hover_glyph\":null,\"muted_glyph\":null,\"nonselection_glyph\":{\"id\":\"358d5f55-93a3-4e10-b2e5-cb3794c0a0a5\",\"type\":\"Line\"},\"selection_glyph\":null,\"view\":{\"id\":\"814eff08-c9e3-4f87-bd18-ca5705b70645\",\"type\":\"CDSView\"}},\"id\":\"9b98fe55-5979-4349-b17c-e009a97398f2\",\"type\":\"GlyphRenderer\"},{\"attributes\":{\"source\":{\"id\":\"f8eb5241-0a88-44fa-980b-702a21331d01\",\"type\":\"ColumnDataSource\"}},\"id\":\"814eff08-c9e3-4f87-bd18-ca5705b70645\",\"type\":\"CDSView\"},{\"attributes\":{},\"id\":\"a6ff7458-6ebe-45af-ab3a-e1c9a68aec5a\",\"type\":\"Selection\"},{\"attributes\":{},\"id\":\"0ec7655e-c11d-4b2f-8b3b-1f3c3148fe77\",\"type\":\"UnionRenderers\"},{\"attributes\":{},\"id\":\"4aa251d9-0131-4253-bb67-54644c807ac1\",\"type\":\"UnionRenderers\"},{\"attributes\":{\"data_source\":{\"id\":\"bc6dc953-7555-493b-b711-d0f7701138e0\",\"type\":\"ColumnDataSource\"},\"glyph\":{\"id\":\"0b56cc6e-19e5-42f9-a4ac-8e1a6a934133\",\"type\":\"Line\"},\"hover_glyph\":null,\"muted_glyph\":null,\"nonselection_glyph\":{\"id\":\"9292c940-dcec-4108-acd0-ef95b9082021\",\"type\":\"Line\"},\"selection_glyph\":null,\"view\":{\"id\":\"f52c7b3e-8488-4cf8-a30c-28f73db158df\",\"type\":\"CDSView\"}},\"id\":\"da6c4423-0220-4072-8888-f7be4381ab9f\",\"type\":\"GlyphRenderer\"},{\"attributes\":{\"line_color\":\"blue\",\"line_width\":2,\"x\":{\"field\":\"x\"},\"y\":{\"field\":\"y\"}},\"id\":\"0b56cc6e-19e5-42f9-a4ac-8e1a6a934133\",\"type\":\"Line\"},{\"attributes\":{},\"id\":\"bb5ca2fa-9916-4a1e-b982-b31a4439f882\",\"type\":\"Selection\"},{\"attributes\":{\"below\":[{\"id\":\"b27f5219-66ce-4fd1-8960-025ae10b4705\",\"type\":\"LinearAxis\"}],\"left\":[{\"id\":\"0fc8617b-2fd4-4971-a14a-d400a2fe3b06\",\"type\":\"LinearAxis\"}],\"plot_height\":400,\"renderers\":[{\"id\":\"b27f5219-66ce-4fd1-8960-025ae10b4705\",\"type\":\"LinearAxis\"},{\"id\":\"c862d7c5-eb4b-4bc5-8e9f-2260fb178f61\",\"type\":\"Grid\"},{\"id\":\"0fc8617b-2fd4-4971-a14a-d400a2fe3b06\",\"type\":\"LinearAxis\"},{\"id\":\"a6c13304-f808-44b6-bc1c-50ca0139b59b\",\"type\":\"Grid\"},{\"id\":\"da6c4423-0220-4072-8888-f7be4381ab9f\",\"type\":\"GlyphRenderer\"},{\"id\":\"9b98fe55-5979-4349-b17c-e009a97398f2\",\"type\":\"GlyphRenderer\"}],\"title\":{\"id\":\"a67c25b0-2c01-4dfe-a869-514d065f7910\",\"type\":\"Title\"},\"toolbar\":{\"id\":\"8fbfc6b8-92e1-4fa6-af05-741142e58113\",\"type\":\"Toolbar\"},\"x_range\":{\"id\":\"70fc1630-8ea1-4e12-b1d1-ba2dc5af7e4a\",\"type\":\"DataRange1d\"},\"x_scale\":{\"id\":\"42cbb57f-9937-423b-8762-ee3509502ae3\",\"type\":\"LinearScale\"},\"y_range\":{\"id\":\"a0ac9b89-868e-4bf5-a065-26306885e7da\",\"type\":\"DataRange1d\"},\"y_scale\":{\"id\":\"9054d31f-07fe-43e9-bfae-e52c5de70630\",\"type\":\"LinearScale\"}},\"id\":\"5d632371-db88-4df8-83b4-f6836d7568a6\",\"subtype\":\"Figure\",\"type\":\"Plot\"},{\"attributes\":{},\"id\":\"9054d31f-07fe-43e9-bfae-e52c5de70630\",\"type\":\"LinearScale\"},{\"attributes\":{\"line_alpha\":0.1,\"line_color\":\"#1f77b4\",\"line_width\":2,\"x\":{\"field\":\"x\"},\"y\":{\"field\":\"y\"}},\"id\":\"9292c940-dcec-4108-acd0-ef95b9082021\",\"type\":\"Line\"},{\"attributes\":{\"callback\":null,\"data\":{\"x\":{\"__ndarray__\":\"AAAAAAAAAAAAAAAAAAAAAB4eHh4eHm4/Hh4eHh4ebj8eHh4eHh5+Px4eHh4eHn4/l5aWlpaWhj+XlpaWlpaGP9PS0tLS0pI/09LS0tLSkj9aWlpaWlqaP1paWlpaWpo/09LS0tLSoj/T0tLS0tKiP7W0tLS0tKQ/tbS0tLS0pD+XlpaWlpamP5eWlpaWlqY/WlpaWlpaqj9aWlpaWlqqPzw8PDw8PKw/PDw8PDw8rD8eHh4eHh6uPx4eHh4eHq4/AAAAAAAAsD8AAAAAAACwP/Hw8PDw8LA/8fDw8PDwsD94eHh4eHi4P3h4eHh4eLg/aWlpaWlpuT9paWlpaWm5P1paWlpaWro/WlpaWlpauj9LS0tLS0u7P0tLS0tLS7s/PDw8PDw8vD88PDw8PDy8Py0tLS0tLb0/LS0tLS0tvT8AAAAAAADAPwAAAAAAAMA/4uHh4eHhwT/i4eHh4eHBP1paWlpaWsI/WlpaWlpawj9LS0tLS0vDP0tLS0tLS8M/xMPDw8PDwz/Ew8PDw8PDPzw8PDw8PMQ/PDw8PDw8xD94eHh4eHjIP3h4eHh4eMg/4uHh4eHhyT/i4eHh4eHJPzw8PDw8PMw/PDw8PDw8zD+1tLS0tLTMP7W0tLS0tMw/l5aWlpaWzj+XlpaWlpbOPzw8PDw8PNA/PDw8PDw80D+1tLS0tLTQP7W0tLS0tNA/8fDw8PDw0D/x8PDw8PDQPy0tLS0tLdE/LS0tLS0t0T+XlpaWlpbSP5eWlpaWltI/S0tLS0tL0z9LS0tLS0vTP3h4eHh4eNQ/eHh4eHh41D/T0tLS0tLWP9PS0tLS0tY/Dw8PDw8P1z8PDw8PDw/XP3h4eHh4eNg/eHh4eHh42D/i4eHh4eHZP+Lh4eHh4dk/AAAAAAAA8D8=\",\"dtype\":\"float64\",\"shape\":[85]},\"y\":{\"__ndarray__\":\"AAAAAAAAgD8AAAAAAADHPwAAAAAAAMc/AAAAAAAAyj8AAAAAAADKPwAAAAAAAM4/AAAAAAAAzj8AAAAAAADaPwAAAAAAANo/AAAAAACA2j8AAAAAAIDaPwAAAAAAANs/AAAAAAAA2z8AAAAAAADdPwAAAAAAAN0/AAAAAACA3T8AAAAAAIDdPwAAAAAAAN8/AAAAAAAA3z8AAAAAAADgPwAAAAAAAOA/AAAAAAAA4T8AAAAAAADhPwAAAAAAwOE/AAAAAADA4T8AAAAAAIDiPwAAAAAAgOI/AAAAAAAA4z8AAAAAAADjPwAAAAAAgOM/AAAAAACA4z8AAAAAAMDjPwAAAAAAwOM/AAAAAAAA5D8AAAAAAADkPwAAAAAAAOU/AAAAAAAA5T8AAAAAAMDlPwAAAAAAwOU/AAAAAAAA5j8AAAAAAADmPwAAAAAAQOY/AAAAAABA5j8AAAAAAIDmPwAAAAAAgOY/AAAAAADA5j8AAAAAAMDmPwAAAAAAwOg/AAAAAADA6D8AAAAAAIDpPwAAAAAAgOk/AAAAAAAA6j8AAAAAAADqPwAAAAAAAOs/AAAAAAAA6z8AAAAAAEDrPwAAAAAAQOs/AAAAAACA6z8AAAAAAIDrPwAAAAAAwOs/AAAAAADA6z8AAAAAAIDsPwAAAAAAgOw/AAAAAADA7D8AAAAAAMDsPwAAAAAAAO0/AAAAAAAA7T8AAAAAAMDtPwAAAAAAwO0/AAAAAAAA7j8AAAAAAADuPwAAAAAAgO4/AAAAAACA7j8AAAAAAMDuPwAAAAAAwO4/AAAAAAAA7z8AAAAAAADvPwAAAAAAQO8/AAAAAABA7z8AAAAAAIDvPwAAAAAAgO8/AAAAAADA7z8AAAAAAMDvPwAAAAAAAPA/AAAAAAAA8D8=\",\"dtype\":\"float64\",\"shape\":[85]}},\"selected\":{\"id\":\"a6ff7458-6ebe-45af-ab3a-e1c9a68aec5a\",\"type\":\"Selection\"},\"selection_policy\":{\"id\":\"4aa251d9-0131-4253-bb67-54644c807ac1\",\"type\":\"UnionRenderers\"}},\"id\":\"bc6dc953-7555-493b-b711-d0f7701138e0\",\"type\":\"ColumnDataSource\"},{\"attributes\":{\"plot\":null,\"text\":\"ROC-AUC score: 0.9098690257352942\"},\"id\":\"a67c25b0-2c01-4dfe-a869-514d065f7910\",\"type\":\"Title\"},{\"attributes\":{\"callback\":null,\"data\":{\"x\":{\"__ndarray__\":\"AAAAAAAAgD8AAAAAAADHPwAAAAAAAMc/AAAAAAAAyj8AAAAAAADKPwAAAAAAAM4/AAAAAAAAzj8AAAAAAADaPwAAAAAAANo/AAAAAACA2j8AAAAAAIDaPwAAAAAAANs/AAAAAAAA2z8AAAAAAADdPwAAAAAAAN0/AAAAAACA3T8AAAAAAIDdPwAAAAAAAN8/AAAAAAAA3z8AAAAAAADgPwAAAAAAAOA/AAAAAAAA4T8AAAAAAADhPwAAAAAAwOE/AAAAAADA4T8AAAAAAIDiPwAAAAAAgOI/AAAAAAAA4z8AAAAAAADjPwAAAAAAgOM/AAAAAACA4z8AAAAAAMDjPwAAAAAAwOM/AAAAAAAA5D8AAAAAAADkPwAAAAAAAOU/AAAAAAAA5T8AAAAAAMDlPwAAAAAAwOU/AAAAAAAA5j8AAAAAAADmPwAAAAAAQOY/AAAAAABA5j8AAAAAAIDmPwAAAAAAgOY/AAAAAADA5j8AAAAAAMDmPwAAAAAAwOg/AAAAAADA6D8AAAAAAIDpPwAAAAAAgOk/AAAAAAAA6j8AAAAAAADqPwAAAAAAAOs/AAAAAAAA6z8AAAAAAEDrPwAAAAAAQOs/AAAAAACA6z8AAAAAAIDrPwAAAAAAwOs/AAAAAADA6z8AAAAAAIDsPwAAAAAAgOw/AAAAAADA7D8AAAAAAMDsPwAAAAAAAO0/AAAAAAAA7T8AAAAAAMDtPwAAAAAAwO0/AAAAAAAA7j8AAAAAAADuPwAAAAAAgO4/AAAAAACA7j8AAAAAAMDuPwAAAAAAwO4/AAAAAAAA7z8AAAAAAADvPwAAAAAAQO8/AAAAAABA7z8AAAAAAIDvPwAAAAAAgO8/AAAAAADA7z8AAAAAAMDvPwAAAAAAAPA/AAAAAAAA8D8=\",\"dtype\":\"float64\",\"shape\":[85]},\"y\":{\"__ndarray__\":\"Dr9+P9K3ej+Ktno/W7J5P2+ieT+wD3g/jQh4P38fbD+6CWo/91hpPwHWZz/2w2c/rf1mP6r9Yz8p9GM/251jP4LvYj9/vmE/MZlgP9jgXj8YVVk/gAtWP/D2VT8ynVM/QmxTP6FSTj/qaE0/Um1MP3gXRD8h7js//6Y7P8FsOj+DVTk/AhI5P48UOD8jBzQ/iTEzP5RRLj9rIC4/N4ssP/2zKz8S/io/QtYkPxKbJD/erCM/ENwiP+obIT802Rs/cUEbP6y1Fz8KARY//ncUP4cJCz/ZYwU/49wBP4mcAD/BRfo+rvb0PqUu8j5JEfA+wUDqPjSi6D7/Mt0+yqvbPjDa2D5E79Y+9zLUPke/zT5Ucsg+WXDGPqbFvT4Aybg+yK+3PjTDtD5DxaQ+vxujPtGRkj7XV48+LFCNPu3hiz4nPIQ+JNuCPj2Sbz6QeG0+S/1zOw==\",\"dtype\":\"float32\",\"shape\":[85]}},\"selected\":{\"id\":\"bb5ca2fa-9916-4a1e-b982-b31a4439f882\",\"type\":\"Selection\"},\"selection_policy\":{\"id\":\"0ec7655e-c11d-4b2f-8b3b-1f3c3148fe77\",\"type\":\"UnionRenderers\"}},\"id\":\"f8eb5241-0a88-44fa-980b-702a21331d01\",\"type\":\"ColumnDataSource\"},{\"attributes\":{\"active_drag\":\"auto\",\"active_inspect\":\"auto\",\"active_scroll\":\"auto\",\"active_tap\":\"auto\",\"tools\":[{\"id\":\"870e37bb-7c4d-4510-b7d5-5e8d6d9f2aeb\",\"type\":\"SaveTool\"},{\"id\":\"428ed24a-ed55-4d04-80a2-0d84e136b73a\",\"type\":\"ZoomInTool\"},{\"id\":\"e212daf0-897c-45ba-bea3-f3d86b13a220\",\"type\":\"ZoomOutTool\"},{\"id\":\"61b8f410-000b-49e0-8659-51c2ad1d8ba6\",\"type\":\"HoverTool\"},{\"id\":\"b449c6dd-4d38-491d-97a1-5d66608b69a1\",\"type\":\"PanTool\"}]},\"id\":\"8fbfc6b8-92e1-4fa6-af05-741142e58113\",\"type\":\"Toolbar\"},{\"attributes\":{\"callback\":null},\"id\":\"a0ac9b89-868e-4bf5-a065-26306885e7da\",\"type\":\"DataRange1d\"},{\"attributes\":{},\"id\":\"42cbb57f-9937-423b-8762-ee3509502ae3\",\"type\":\"LinearScale\"},{\"attributes\":{\"plot\":{\"id\":\"5d632371-db88-4df8-83b4-f6836d7568a6\",\"subtype\":\"Figure\",\"type\":\"Plot\"},\"ticker\":{\"id\":\"8dc41dd8-2686-49a9-a6cf-e39b47ece8de\",\"type\":\"BasicTicker\"}},\"id\":\"c862d7c5-eb4b-4bc5-8e9f-2260fb178f61\",\"type\":\"Grid\"},{\"attributes\":{\"axis_label\":\"False positive rate\",\"formatter\":{\"id\":\"77cf2ecb-8f4b-4eb4-90a0-0b2b5f36ccc6\",\"type\":\"BasicTickFormatter\"},\"plot\":{\"id\":\"5d632371-db88-4df8-83b4-f6836d7568a6\",\"subtype\":\"Figure\",\"type\":\"Plot\"},\"ticker\":{\"id\":\"8dc41dd8-2686-49a9-a6cf-e39b47ece8de\",\"type\":\"BasicTicker\"}},\"id\":\"b27f5219-66ce-4fd1-8960-025ae10b4705\",\"type\":\"LinearAxis\"}],\"root_ids\":[\"5d632371-db88-4df8-83b4-f6836d7568a6\"]},\"title\":\"Bokeh Application\",\"version\":\"0.12.16\"}};\n",
       "  var render_items = [{\"docid\":\"398385a7-da64-48f6-b17e-66932c7ee48c\",\"elementid\":\"971fdc07-32ca-4c0e-8e83-384adf908cb2\",\"modelid\":\"5d632371-db88-4df8-83b4-f6836d7568a6\"}];\n",
       "  root.Bokeh.embed.embed_items_notebook(docs_json, render_items);\n",
       "\n",
       "  }\n",
       "  if (root.Bokeh !== undefined) {\n",
       "    embed_document(root);\n",
       "  } else {\n",
       "    var attempts = 0;\n",
       "    var timer = setInterval(function(root) {\n",
       "      if (root.Bokeh !== undefined) {\n",
       "        embed_document(root);\n",
       "        clearInterval(timer);\n",
       "      }\n",
       "      attempts++;\n",
       "      if (attempts > 100) {\n",
       "        console.log(\"Bokeh: ERROR: Unable to run BokehJS code because BokehJS library is missing\")\n",
       "        clearInterval(timer);\n",
       "      }\n",
       "    }, 10, root)\n",
       "  }\n",
       "})(window);"
      ],
      "application/vnd.bokehjs_exec.v0+json": ""
     },
     "metadata": {
      "application/vnd.bokehjs_exec.v0+json": {
       "id": "5d632371-db88-4df8-83b4-f6836d7568a6"
      }
     },
     "output_type": "display_data"
    }
   ],
   "source": [
    "fpr, tpr, thresholds = metrics.roc_curve(ytest, results.predictions, pos_label=1)\n",
    "p = figure(plot_width=600, plot_height=400, tools = TOOLS, x_axis_label = 'False positive rate', y_axis_label = 'True positive rate', title = 'ROC-AUC score: {}'.format(roc_auc_score(ytest, results.predictions)))\n",
    "p.line(x = fpr, y = tpr, line_width=2, color = 'blue')\n",
    "p.line(x = tpr, y = thresholds, line_width = 2, color = 'red')\n",
    "show(p)"
   ]
  },
  {
   "cell_type": "code",
   "execution_count": 133,
   "metadata": {},
   "outputs": [],
   "source": [
    "def get_optimal_threshold():  \n",
    "    thresholds = list(np.linspace(0, 1, 400))\n",
    "    f1_scores = []\n",
    "    for threshold in thresholds:\n",
    "        ypred = results.predictions.apply(lambda x: 1 if x >= threshold else 0)\n",
    "        f1_scores.append(f1_score(ytest, ypred, average = 'weighted'))\n",
    "        \n",
    "    return print('Threshold:{}, f1_score: {}'.format(th[np.argmax(f1_scores)]))"
   ]
  },
  {
   "cell_type": "code",
   "execution_count": 134,
   "metadata": {},
   "outputs": [
    {
     "name": "stderr",
     "output_type": "stream",
     "text": [
      "/Users/sabber/anaconda3/lib/python3.6/site-packages/sklearn/metrics/classification.py:1135: UndefinedMetricWarning: F-score is ill-defined and being set to 0.0 in labels with no predicted samples.\n",
      "  'precision', 'predicted', average, warn_for)\n",
      "/Users/sabber/anaconda3/lib/python3.6/site-packages/sklearn/metrics/classification.py:1135: UndefinedMetricWarning: F-score is ill-defined and being set to 0.0 in labels with no predicted samples.\n",
      "  'precision', 'predicted', average, warn_for)\n",
      "/Users/sabber/anaconda3/lib/python3.6/site-packages/sklearn/metrics/classification.py:1135: UndefinedMetricWarning: F-score is ill-defined and being set to 0.0 in labels with no predicted samples.\n",
      "  'precision', 'predicted', average, warn_for)\n",
      "/Users/sabber/anaconda3/lib/python3.6/site-packages/sklearn/metrics/classification.py:1135: UndefinedMetricWarning: F-score is ill-defined and being set to 0.0 in labels with no predicted samples.\n",
      "  'precision', 'predicted', average, warn_for)\n"
     ]
    }
   ],
   "source": [
    "f1_scores, th = get_optimal_threshold()"
   ]
  },
  {
   "cell_type": "code",
   "execution_count": 138,
   "metadata": {},
   "outputs": [
    {
     "data": {
      "image/png": "[encoded data removed]",
      "text/plain": [
       "<Figure size 640x480 with 1 Axes>"
      ]
     },
     "metadata": {},
     "output_type": "display_data"
    }
   ],
   "source": [
    "plt.plot(th, f1_scores)\n",
    "plt.show()"
   ]
  },
  {
   "cell_type": "code",
   "execution_count": 406,
   "metadata": {},
   "outputs": [
    {
     "data": {
      "text/plain": [
       "0.5789473684210527"
      ]
     },
     "execution_count": 406,
     "metadata": {},
     "output_type": "execute_result"
    }
   ],
   "source": [
    "th[np.argmax(f1_scores)]"
   ]
  },
  {
   "cell_type": "code",
   "execution_count": 408,
   "metadata": {},
   "outputs": [
    {
     "name": "stdout",
     "output_type": "stream",
     "text": [
      "Accuracy of the model: 0.815\n",
      "\n",
      "F1-score of the model: 0.819848991478805\n",
      "\n",
      "Classification report: \n",
      "             precision    recall  f1-score   support\n",
      "\n",
      "        0.0       0.92      0.80      0.85       272\n",
      "        1.0       0.66      0.85      0.75       128\n",
      "\n",
      "avg / total       0.84      0.81      0.82       400\n",
      "\n",
      "\n",
      "Confusion matrix: \n",
      "[[217  55]\n",
      " [ 19 109]]\n",
      "\n"
     ]
    }
   ],
   "source": [
    "threshold = 0.50\n",
    "results['binPred'] = results.predictions.apply(lambda x: 1 if x >= threshold else 0)\n",
    "\n",
    "def prediction(ytest, ypred):\n",
    "    print('Accuracy of the model: {}\\n'.format(accuracy_score(ytest, ypred)))\n",
    "    print('F1-score of the model: {}\\n'.format(f1_score(ytest, ypred, average='weighted')))\n",
    "    print('Classification report: \\n{}\\n'.format(classification_report(ytest, ypred)))\n",
    "    print('Confusion matrix: \\n{}\\n'.format(confusion_matrix(ytest, ypred)))\n",
    "\n",
    "prediction(ytest, results['binPred'])"
   ]
  },
  {
   "cell_type": "markdown",
   "metadata": {},
   "source": [
    "### Prediction on the "
   ]
  },
  {
   "cell_type": "code",
   "execution_count": 140,
   "metadata": {},
   "outputs": [],
   "source": [
    "all_samples = pd.DataFrame(predictions_samp).applymap(lambda x: 1 if x >= threshold else 0)"
   ]
  },
  {
   "cell_type": "code",
   "execution_count": 141,
   "metadata": {},
   "outputs": [
    {
     "data": {
      "text/html": [
       "<div>\n",
       "<style scoped>\n",
       "    .dataframe tbody tr th:only-of-type {\n",
       "        vertical-align: middle;\n",
       "    }\n",
       "\n",
       "    .dataframe tbody tr th {\n",
       "        vertical-align: top;\n",
       "    }\n",
       "\n",
       "    .dataframe thead th {\n",
       "        text-align: right;\n",
       "    }\n",
       "</style>\n",
       "<table border=\"1\" class=\"dataframe\">\n",
       "  <thead>\n",
       "    <tr style=\"text-align: right;\">\n",
       "      <th></th>\n",
       "      <th>target</th>\n",
       "      <th>predictions</th>\n",
       "      <th>pred_std</th>\n",
       "      <th>pred_var</th>\n",
       "      <th>confidence_low</th>\n",
       "      <th>confidence_high</th>\n",
       "      <th>confidence_range</th>\n",
       "      <th>bin_pred</th>\n",
       "      <th>pca_x1</th>\n",
       "      <th>pca_x2</th>\n",
       "    </tr>\n",
       "  </thead>\n",
       "  <tbody>\n",
       "    <tr>\n",
       "      <th>0</th>\n",
       "      <td>0</td>\n",
       "      <td>0.096194</td>\n",
       "      <td>0.171539</td>\n",
       "      <td>0.029426</td>\n",
       "      <td>-0.240016</td>\n",
       "      <td>0.432404</td>\n",
       "      <td>0.672420</td>\n",
       "      <td>0</td>\n",
       "      <td>0.557490</td>\n",
       "      <td>-1.138433</td>\n",
       "    </tr>\n",
       "    <tr>\n",
       "      <th>1</th>\n",
       "      <td>1</td>\n",
       "      <td>0.989023</td>\n",
       "      <td>0.058163</td>\n",
       "      <td>0.003383</td>\n",
       "      <td>0.875025</td>\n",
       "      <td>1.103020</td>\n",
       "      <td>0.227995</td>\n",
       "      <td>1</td>\n",
       "      <td>0.372588</td>\n",
       "      <td>2.210410</td>\n",
       "    </tr>\n",
       "    <tr>\n",
       "      <th>2</th>\n",
       "      <td>0</td>\n",
       "      <td>0.075511</td>\n",
       "      <td>0.191114</td>\n",
       "      <td>0.036524</td>\n",
       "      <td>-0.299065</td>\n",
       "      <td>0.450087</td>\n",
       "      <td>0.749151</td>\n",
       "      <td>0</td>\n",
       "      <td>-2.883425</td>\n",
       "      <td>-0.418066</td>\n",
       "    </tr>\n",
       "    <tr>\n",
       "      <th>3</th>\n",
       "      <td>0</td>\n",
       "      <td>0.123666</td>\n",
       "      <td>0.230987</td>\n",
       "      <td>0.053355</td>\n",
       "      <td>-0.329061</td>\n",
       "      <td>0.576393</td>\n",
       "      <td>0.905454</td>\n",
       "      <td>0</td>\n",
       "      <td>0.412756</td>\n",
       "      <td>-1.462043</td>\n",
       "    </tr>\n",
       "    <tr>\n",
       "      <th>4</th>\n",
       "      <td>1</td>\n",
       "      <td>0.705614</td>\n",
       "      <td>0.347966</td>\n",
       "      <td>0.121081</td>\n",
       "      <td>0.023612</td>\n",
       "      <td>1.387615</td>\n",
       "      <td>1.364004</td>\n",
       "      <td>1</td>\n",
       "      <td>2.860224</td>\n",
       "      <td>0.236508</td>\n",
       "    </tr>\n",
       "  </tbody>\n",
       "</table>\n",
       "</div>"
      ],
      "text/plain": [
       "   target  predictions  pred_std  pred_var  confidence_low  confidence_high  \\\n",
       "0       0     0.096194  0.171539  0.029426       -0.240016         0.432404   \n",
       "1       1     0.989023  0.058163  0.003383        0.875025         1.103020   \n",
       "2       0     0.075511  0.191114  0.036524       -0.299065         0.450087   \n",
       "3       0     0.123666  0.230987  0.053355       -0.329061         0.576393   \n",
       "4       1     0.705614  0.347966  0.121081        0.023612         1.387615   \n",
       "\n",
       "   confidence_range  bin_pred    pca_x1    pca_x2  \n",
       "0          0.672420         0  0.557490 -1.138433  \n",
       "1          0.227995         1  0.372588  2.210410  \n",
       "2          0.749151         0 -2.883425 -0.418066  \n",
       "3          0.905454         0  0.412756 -1.462043  \n",
       "4          1.364004         1  2.860224  0.236508  "
      ]
     },
     "execution_count": 141,
     "metadata": {},
     "output_type": "execute_result"
    }
   ],
   "source": [
    "results.head()"
   ]
  },
  {
   "cell_type": "code",
   "execution_count": 142,
   "metadata": {},
   "outputs": [],
   "source": [
    "accuracies = []\n",
    "for i in range(n_samples):\n",
    "    ypred = all_samples.iloc[i]\n",
    "    accuracies.append(f1_score(ytest, ypred, average='weighted'))"
   ]
  },
  {
   "cell_type": "code",
   "execution_count": 176,
   "metadata": {},
   "outputs": [
    {
     "data": {
      "image/png": "[encoded data removed]",
      "text/plain": [
       "<Figure size 640x480 with 1 Axes>"
      ]
     },
     "metadata": {},
     "output_type": "display_data"
    }
   ],
   "source": [
    "percent = [1]\n",
    "\n",
    "for i in range(len(percent)):\n",
    "    smapled_acc = np.random.choice(accuracies, size = int((percent[i]*n_samples)/100), replace = False)\n",
    "    sns.distplot(smapled_acc, bins = 10, hist_kws={\"linewidth\":3, \"alpha\": 0.9, \"color\": \"b\"})\n",
    "    plt.ylabel('Frequency')\n",
    "    plt.xlabel('Prediction accuracy')\n",
    "plt.show()"
   ]
  },
  {
   "cell_type": "code",
   "execution_count": 144,
   "metadata": {},
   "outputs": [
    {
     "name": "stdout",
     "output_type": "stream",
     "text": [
      "0.09186598014811123 0.7706648509487338 0.861076436001809\n"
     ]
    }
   ],
   "source": [
    "print(np.std(accuracies)*2, np.mean(accuracies), np.max(accuracies))"
   ]
  },
  {
   "cell_type": "markdown",
   "metadata": {},
   "source": [
    "### Error analysis"
   ]
  },
  {
   "cell_type": "code",
   "execution_count": 413,
   "metadata": {},
   "outputs": [],
   "source": [
    "correct = results[(results.target == results.binPred)]\n",
    "incorrect = results[(results.target != results.binPred)]"
   ]
  },
  {
   "cell_type": "code",
   "execution_count": 415,
   "metadata": {},
   "outputs": [
    {
     "data": {
      "text/plain": [
       "1.2171376492543349"
      ]
     },
     "execution_count": 415,
     "metadata": {},
     "output_type": "execute_result"
    }
   ],
   "source": [
    "incorrect.confidenceRange[(incorrect.binPred == 0)].mean(axis = 0)"
   ]
  },
  {
   "cell_type": "code",
   "execution_count": 416,
   "metadata": {},
   "outputs": [
    {
     "data": {
      "text/plain": [
       "0.7350277600278647"
      ]
     },
     "execution_count": 416,
     "metadata": {},
     "output_type": "execute_result"
    }
   ],
   "source": [
    "correct.confidenceRange[(correct.binPred == 0)].mean(axis = 0)"
   ]
  },
  {
   "cell_type": "code",
   "execution_count": 417,
   "metadata": {},
   "outputs": [],
   "source": [
    "def plot_distribution(i):\n",
    "    xxx = samplepredictions[:, i, 0]\n",
    "    ax = sns.distplot(xxx, kde = False, fit=stats.gamma)\n",
    "    ax2 = ax.twinx()\n",
    "    sns.boxplot(x=xxx, ax=ax2)\n",
    "    ax2.set(ylim=(-.5, 10))\n",
    "    plt.show()"
   ]
  },
  {
   "cell_type": "code",
   "execution_count": 418,
   "metadata": {},
   "outputs": [
    {
     "name": "stdout",
     "output_type": "stream",
     "text": [
      "Actual: 0.0, Prediction: 0.0, pred_proba: 0.16277918219566345, std: 0.25408199429512024\n"
     ]
    },
    {
     "data": {
      "image/png": "[encoded data removed]",
      "text/plain": [
       "<Figure size 640x480 with 2 Axes>"
      ]
     },
     "metadata": {},
     "output_type": "display_data"
    }
   ],
   "source": [
    "example = 200\n",
    "print('Actual: {}, Prediction: {}, pred_proba: {}, std: {}'.format(results.iloc[example].target, \n",
    "                                                                   results.iloc[example].binPred,\n",
    "                                                                   results.iloc[example].predictions,\n",
    "                                                                   results.iloc[example].predStd))\n",
    "plot_distribution(example)"
   ]
  },
  {
   "cell_type": "markdown",
   "metadata": {},
   "source": [
    "### Result vizualisation"
   ]
  },
  {
   "cell_type": "code",
   "execution_count": 254,
   "metadata": {},
   "outputs": [],
   "source": [
    "pca = PCA(n_components = 2, random_state = 2018).fit_transform(xtest)\n",
    "\n",
    "results['pca_x1'] = pca[:, 0]\n",
    "results['pca_x2'] = pca[:, 1]"
   ]
  },
  {
   "cell_type": "code",
   "execution_count": 255,
   "metadata": {},
   "outputs": [
    {
     "data": {
      "text/html": [
       "<div>\n",
       "<style scoped>\n",
       "    .dataframe tbody tr th:only-of-type {\n",
       "        vertical-align: middle;\n",
       "    }\n",
       "\n",
       "    .dataframe tbody tr th {\n",
       "        vertical-align: top;\n",
       "    }\n",
       "\n",
       "    .dataframe thead th {\n",
       "        text-align: right;\n",
       "    }\n",
       "</style>\n",
       "<table border=\"1\" class=\"dataframe\">\n",
       "  <thead>\n",
       "    <tr style=\"text-align: right;\">\n",
       "      <th></th>\n",
       "      <th>target</th>\n",
       "      <th>predictions</th>\n",
       "      <th>predStd</th>\n",
       "      <th>predVar</th>\n",
       "      <th>confidenceLow</th>\n",
       "      <th>confidenceHigh</th>\n",
       "      <th>confidenceRange</th>\n",
       "      <th>pca_x1</th>\n",
       "      <th>pca_x2</th>\n",
       "    </tr>\n",
       "  </thead>\n",
       "  <tbody>\n",
       "    <tr>\n",
       "      <th>0</th>\n",
       "      <td>0</td>\n",
       "      <td>0.096194</td>\n",
       "      <td>0.171539</td>\n",
       "      <td>0.029426</td>\n",
       "      <td>-0.240016</td>\n",
       "      <td>0.432404</td>\n",
       "      <td>0.672420</td>\n",
       "      <td>0.557490</td>\n",
       "      <td>-1.138433</td>\n",
       "    </tr>\n",
       "    <tr>\n",
       "      <th>1</th>\n",
       "      <td>1</td>\n",
       "      <td>0.989023</td>\n",
       "      <td>0.058163</td>\n",
       "      <td>0.003383</td>\n",
       "      <td>0.875025</td>\n",
       "      <td>1.103020</td>\n",
       "      <td>0.227995</td>\n",
       "      <td>0.372588</td>\n",
       "      <td>2.210410</td>\n",
       "    </tr>\n",
       "    <tr>\n",
       "      <th>2</th>\n",
       "      <td>0</td>\n",
       "      <td>0.075511</td>\n",
       "      <td>0.191114</td>\n",
       "      <td>0.036524</td>\n",
       "      <td>-0.299065</td>\n",
       "      <td>0.450087</td>\n",
       "      <td>0.749151</td>\n",
       "      <td>-2.883425</td>\n",
       "      <td>-0.418066</td>\n",
       "    </tr>\n",
       "    <tr>\n",
       "      <th>3</th>\n",
       "      <td>0</td>\n",
       "      <td>0.123666</td>\n",
       "      <td>0.230987</td>\n",
       "      <td>0.053355</td>\n",
       "      <td>-0.329061</td>\n",
       "      <td>0.576393</td>\n",
       "      <td>0.905454</td>\n",
       "      <td>0.412756</td>\n",
       "      <td>-1.462043</td>\n",
       "    </tr>\n",
       "    <tr>\n",
       "      <th>4</th>\n",
       "      <td>1</td>\n",
       "      <td>0.705614</td>\n",
       "      <td>0.347966</td>\n",
       "      <td>0.121081</td>\n",
       "      <td>0.023612</td>\n",
       "      <td>1.387615</td>\n",
       "      <td>1.364004</td>\n",
       "      <td>2.860224</td>\n",
       "      <td>0.236508</td>\n",
       "    </tr>\n",
       "  </tbody>\n",
       "</table>\n",
       "</div>"
      ],
      "text/plain": [
       "   target  predictions   predStd   predVar  confidenceLow  confidenceHigh  \\\n",
       "0       0     0.096194  0.171539  0.029426      -0.240016        0.432404   \n",
       "1       1     0.989023  0.058163  0.003383       0.875025        1.103020   \n",
       "2       0     0.075511  0.191114  0.036524      -0.299065        0.450087   \n",
       "3       0     0.123666  0.230987  0.053355      -0.329061        0.576393   \n",
       "4       1     0.705614  0.347966  0.121081       0.023612        1.387615   \n",
       "\n",
       "   confidenceRange    pca_x1    pca_x2  \n",
       "0         0.672420  0.557490 -1.138433  \n",
       "1         0.227995  0.372588  2.210410  \n",
       "2         0.749151 -2.883425 -0.418066  \n",
       "3         0.905454  0.412756 -1.462043  \n",
       "4         1.364004  2.860224  0.236508  "
      ]
     },
     "execution_count": 255,
     "metadata": {},
     "output_type": "execute_result"
    }
   ],
   "source": [
    "results.head()"
   ]
  },
  {
   "cell_type": "code",
   "execution_count": 405,
   "metadata": {},
   "outputs": [
    {
     "data": {
      "text/plain": [
       "(400, 9)"
      ]
     },
     "execution_count": 405,
     "metadata": {},
     "output_type": "execute_result"
    }
   ],
   "source": [
    "results.shape"
   ]
  },
  {
   "cell_type": "code",
   "execution_count": 256,
   "metadata": {},
   "outputs": [
    {
     "data": {
      "image/png": "[encoded data removed]",
      "text/plain": [
       "<Figure size 640x480 with 1 Axes>"
      ]
     },
     "metadata": {},
     "output_type": "display_data"
    }
   ],
   "source": [
    "plt.scatter(results.pca_x1[results.target == 0], results.pca_x2[results.target == 0], color = 'r')\n",
    "plt.scatter(results.pca_x1[results.target == 1], results.pca_x2[results.target == 1], color = 'b')\n",
    "\n",
    "plt.xlabel('PCA component-1')\n",
    "plt.ylabel('PCA component-2')\n",
    "plt.show()"
   ]
  },
  {
   "cell_type": "code",
   "execution_count": 375,
   "metadata": {},
   "outputs": [],
   "source": [
    "xi = np.linspace(-4, 4, 1000)\n",
    "yi = np.linspace(-3, 4, 1000)\n",
    "x, y = results.pca_x1, results.pca_x2"
   ]
  },
  {
   "cell_type": "code",
   "execution_count": 404,
   "metadata": {},
   "outputs": [
    {
     "data": {
      "image/png": "[encoded data removed]",
      "text/plain": [
       "<Figure size 900x300 with 4 Axes>"
      ]
     },
     "metadata": {},
     "output_type": "display_data"
    }
   ],
   "source": [
    "fig, (ax1, ax2) = plt.subplots(ncols = 2, figsize=(9, 3))\n",
    "cmap = 'viridis'\n",
    "axes = [ax1, ax2]\n",
    "titles = ['(a) Posterior predictive mean probability', '(b) Posterior predictive standard devieation']\n",
    "datas = [results.predictions, results.predStd]\n",
    "\n",
    "for ax, data, title in zip(axes, datas, titles):\n",
    "    zi = griddata(x, y, data, xi, yi, interp = 'linear')\n",
    "#     ax.contour(xi, yi, zi, levels = 14, linewidths = 0.5, colors = 'k')\n",
    "    contour = ax.contourf(xi, yi, zi, cmap = cmap)\n",
    "    ax.scatter(results.pca_x1[results.target == 0], results.pca_x2[results.target == 0], color = 'r', s = 8, marker = 'o')\n",
    "    ax.scatter(results.pca_x1[results.target == 1], results.pca_x2[results.target == 1], color = 'k', s = 8, marker = 'v')\n",
    "    ax.set_title(title)\n",
    "    cbar = plt.colorbar(contour, ax = ax)\n",
    "    _ = ax.set(xlim = (-3.8, 4.2), ylim = (-3, 3.8), xlabel = 'PCA component-1', ylabel = 'PCA component-2')\n",
    "fig.tight_layout()\n",
    "fig.savefig('../paper/figures/posterior_proba_uncertainity.eps')"
   ]
  },
  {
   "cell_type": "code",
   "execution_count": 409,
   "metadata": {},
   "outputs": [],
   "source": [
    "err = results[results.target != results.binPred]"
   ]
  },
  {
   "cell_type": "code",
   "execution_count": 428,
   "metadata": {},
   "outputs": [],
   "source": [
    "corr = results[results.target == results.binPred]"
   ]
  },
  {
   "cell_type": "code",
   "execution_count": 411,
   "metadata": {},
   "outputs": [
    {
     "data": {
      "text/html": [
       "<div>\n",
       "<style scoped>\n",
       "    .dataframe tbody tr th:only-of-type {\n",
       "        vertical-align: middle;\n",
       "    }\n",
       "\n",
       "    .dataframe tbody tr th {\n",
       "        vertical-align: top;\n",
       "    }\n",
       "\n",
       "    .dataframe thead th {\n",
       "        text-align: right;\n",
       "    }\n",
       "</style>\n",
       "<table border=\"1\" class=\"dataframe\">\n",
       "  <thead>\n",
       "    <tr style=\"text-align: right;\">\n",
       "      <th></th>\n",
       "      <th>target</th>\n",
       "      <th>predictions</th>\n",
       "      <th>predStd</th>\n",
       "      <th>predVar</th>\n",
       "      <th>confidenceLow</th>\n",
       "      <th>confidenceHigh</th>\n",
       "      <th>confidenceRange</th>\n",
       "      <th>pca_x1</th>\n",
       "      <th>pca_x2</th>\n",
       "      <th>binPred</th>\n",
       "    </tr>\n",
       "  </thead>\n",
       "  <tbody>\n",
       "    <tr>\n",
       "      <th>count</th>\n",
       "      <td>74.000000</td>\n",
       "      <td>74.000000</td>\n",
       "      <td>74.000000</td>\n",
       "      <td>74.000000</td>\n",
       "      <td>74.000000</td>\n",
       "      <td>74.000000</td>\n",
       "      <td>74.000000</td>\n",
       "      <td>74.000000</td>\n",
       "      <td>74.000000</td>\n",
       "      <td>74.000000</td>\n",
       "    </tr>\n",
       "    <tr>\n",
       "      <th>mean</th>\n",
       "      <td>0.256757</td>\n",
       "      <td>0.640993</td>\n",
       "      <td>0.298380</td>\n",
       "      <td>0.094139</td>\n",
       "      <td>0.056179</td>\n",
       "      <td>1.225806</td>\n",
       "      <td>1.169627</td>\n",
       "      <td>0.705847</td>\n",
       "      <td>0.477495</td>\n",
       "      <td>0.743243</td>\n",
       "    </tr>\n",
       "    <tr>\n",
       "      <th>std</th>\n",
       "      <td>0.439826</td>\n",
       "      <td>0.200364</td>\n",
       "      <td>0.071961</td>\n",
       "      <td>0.040062</td>\n",
       "      <td>0.302540</td>\n",
       "      <td>0.168956</td>\n",
       "      <td>0.282082</td>\n",
       "      <td>1.750176</td>\n",
       "      <td>1.006893</td>\n",
       "      <td>0.439826</td>\n",
       "    </tr>\n",
       "    <tr>\n",
       "      <th>min</th>\n",
       "      <td>0.000000</td>\n",
       "      <td>0.231905</td>\n",
       "      <td>0.083762</td>\n",
       "      <td>0.007016</td>\n",
       "      <td>-0.397335</td>\n",
       "      <td>0.777348</td>\n",
       "      <td>0.328339</td>\n",
       "      <td>-2.784677</td>\n",
       "      <td>-1.448623</td>\n",
       "      <td>0.000000</td>\n",
       "    </tr>\n",
       "    <tr>\n",
       "      <th>25%</th>\n",
       "      <td>0.000000</td>\n",
       "      <td>0.485653</td>\n",
       "      <td>0.253210</td>\n",
       "      <td>0.064117</td>\n",
       "      <td>-0.199816</td>\n",
       "      <td>1.139595</td>\n",
       "      <td>0.992565</td>\n",
       "      <td>-0.662105</td>\n",
       "      <td>-0.289266</td>\n",
       "      <td>0.250000</td>\n",
       "    </tr>\n",
       "    <tr>\n",
       "      <th>50%</th>\n",
       "      <td>0.000000</td>\n",
       "      <td>0.645686</td>\n",
       "      <td>0.307637</td>\n",
       "      <td>0.094640</td>\n",
       "      <td>-0.004588</td>\n",
       "      <td>1.282790</td>\n",
       "      <td>1.205914</td>\n",
       "      <td>1.083773</td>\n",
       "      <td>0.565935</td>\n",
       "      <td>1.000000</td>\n",
       "    </tr>\n",
       "    <tr>\n",
       "      <th>75%</th>\n",
       "      <td>0.750000</td>\n",
       "      <td>0.796157</td>\n",
       "      <td>0.347147</td>\n",
       "      <td>0.120517</td>\n",
       "      <td>0.288460</td>\n",
       "      <td>1.342967</td>\n",
       "      <td>1.360791</td>\n",
       "      <td>2.027685</td>\n",
       "      <td>1.164689</td>\n",
       "      <td>1.000000</td>\n",
       "    </tr>\n",
       "    <tr>\n",
       "      <th>max</th>\n",
       "      <td>1.000000</td>\n",
       "      <td>0.979348</td>\n",
       "      <td>0.432855</td>\n",
       "      <td>0.187363</td>\n",
       "      <td>0.815178</td>\n",
       "      <td>1.467741</td>\n",
       "      <td>1.696760</td>\n",
       "      <td>4.062086</td>\n",
       "      <td>2.756970</td>\n",
       "      <td>1.000000</td>\n",
       "    </tr>\n",
       "  </tbody>\n",
       "</table>\n",
       "</div>"
      ],
      "text/plain": [
       "          target  predictions    predStd    predVar  confidenceLow  \\\n",
       "count  74.000000    74.000000  74.000000  74.000000      74.000000   \n",
       "mean    0.256757     0.640993   0.298380   0.094139       0.056179   \n",
       "std     0.439826     0.200364   0.071961   0.040062       0.302540   \n",
       "min     0.000000     0.231905   0.083762   0.007016      -0.397335   \n",
       "25%     0.000000     0.485653   0.253210   0.064117      -0.199816   \n",
       "50%     0.000000     0.645686   0.307637   0.094640      -0.004588   \n",
       "75%     0.750000     0.796157   0.347147   0.120517       0.288460   \n",
       "max     1.000000     0.979348   0.432855   0.187363       0.815178   \n",
       "\n",
       "       confidenceHigh  confidenceRange     pca_x1     pca_x2    binPred  \n",
       "count       74.000000        74.000000  74.000000  74.000000  74.000000  \n",
       "mean         1.225806         1.169627   0.705847   0.477495   0.743243  \n",
       "std          0.168956         0.282082   1.750176   1.006893   0.439826  \n",
       "min          0.777348         0.328339  -2.784677  -1.448623   0.000000  \n",
       "25%          1.139595         0.992565  -0.662105  -0.289266   0.250000  \n",
       "50%          1.282790         1.205914   1.083773   0.565935   1.000000  \n",
       "75%          1.342967         1.360791   2.027685   1.164689   1.000000  \n",
       "max          1.467741         1.696760   4.062086   2.756970   1.000000  "
      ]
     },
     "execution_count": 411,
     "metadata": {},
     "output_type": "execute_result"
    }
   ],
   "source": [
    "err.describe()"
   ]
  },
  {
   "cell_type": "code",
   "execution_count": 432,
   "metadata": {},
   "outputs": [
    {
     "data": {
      "image/png": "[encoded data removed]",
      "text/plain": [
       "<Figure size 1200x400 with 4 Axes>"
      ]
     },
     "metadata": {},
     "output_type": "display_data"
    }
   ],
   "source": [
    "plt.figure(figsize=(12,4))\n",
    "plt.subplot(221)\n",
    "sns.boxplot(x = err.predictions, y = None)\n",
    "plt.xlabel('Err Prediction probability')\n",
    "\n",
    "plt.subplot(222)\n",
    "sns.boxplot(x = corr.predictions, y = None)\n",
    "plt.xlabel('Corr Prediction probability')\n",
    "\n",
    "plt.subplot(223)\n",
    "sns.boxplot(x = err.predStd, y = None)\n",
    "plt.xlabel('Err Standard deviation')\n",
    "\n",
    "plt.subplot(224)\n",
    "sns.boxplot(x = corr.predStd, y = None)\n",
    "plt.xlabel('Corr Standard deviation')\n",
    "plt.tight_layout()"
   ]
  },
  {
   "cell_type": "code",
   "execution_count": 427,
   "metadata": {},
   "outputs": [
    {
     "data": {
      "text/html": [
       "<div>\n",
       "<style scoped>\n",
       "    .dataframe tbody tr th:only-of-type {\n",
       "        vertical-align: middle;\n",
       "    }\n",
       "\n",
       "    .dataframe tbody tr th {\n",
       "        vertical-align: top;\n",
       "    }\n",
       "\n",
       "    .dataframe thead th {\n",
       "        text-align: right;\n",
       "    }\n",
       "</style>\n",
       "<table border=\"1\" class=\"dataframe\">\n",
       "  <thead>\n",
       "    <tr style=\"text-align: right;\">\n",
       "      <th></th>\n",
       "      <th>target</th>\n",
       "      <th>predictions</th>\n",
       "      <th>predStd</th>\n",
       "      <th>predVar</th>\n",
       "      <th>confidenceLow</th>\n",
       "      <th>confidenceHigh</th>\n",
       "      <th>confidenceRange</th>\n",
       "      <th>pca_x1</th>\n",
       "      <th>pca_x2</th>\n",
       "      <th>binPred</th>\n",
       "    </tr>\n",
       "  </thead>\n",
       "  <tbody>\n",
       "    <tr>\n",
       "      <th>11</th>\n",
       "      <td>0</td>\n",
       "      <td>0.653737</td>\n",
       "      <td>0.330573</td>\n",
       "      <td>0.109279</td>\n",
       "      <td>0.005825</td>\n",
       "      <td>1.301650</td>\n",
       "      <td>1.295824</td>\n",
       "      <td>1.903802</td>\n",
       "      <td>-0.219167</td>\n",
       "      <td>1</td>\n",
       "    </tr>\n",
       "    <tr>\n",
       "      <th>23</th>\n",
       "      <td>0</td>\n",
       "      <td>0.680182</td>\n",
       "      <td>0.376888</td>\n",
       "      <td>0.142045</td>\n",
       "      <td>-0.058505</td>\n",
       "      <td>1.418869</td>\n",
       "      <td>1.477374</td>\n",
       "      <td>2.447646</td>\n",
       "      <td>-0.432597</td>\n",
       "      <td>1</td>\n",
       "    </tr>\n",
       "    <tr>\n",
       "      <th>36</th>\n",
       "      <td>1</td>\n",
       "      <td>0.455151</td>\n",
       "      <td>0.348545</td>\n",
       "      <td>0.121484</td>\n",
       "      <td>-0.227985</td>\n",
       "      <td>1.138287</td>\n",
       "      <td>1.366272</td>\n",
       "      <td>-1.853602</td>\n",
       "      <td>1.314722</td>\n",
       "      <td>0</td>\n",
       "    </tr>\n",
       "    <tr>\n",
       "      <th>38</th>\n",
       "      <td>0</td>\n",
       "      <td>0.699975</td>\n",
       "      <td>0.342952</td>\n",
       "      <td>0.117616</td>\n",
       "      <td>0.027801</td>\n",
       "      <td>1.372148</td>\n",
       "      <td>1.344347</td>\n",
       "      <td>-2.125762</td>\n",
       "      <td>1.826622</td>\n",
       "      <td>1</td>\n",
       "    </tr>\n",
       "    <tr>\n",
       "      <th>42</th>\n",
       "      <td>0</td>\n",
       "      <td>0.576175</td>\n",
       "      <td>0.413505</td>\n",
       "      <td>0.170987</td>\n",
       "      <td>-0.234280</td>\n",
       "      <td>1.386630</td>\n",
       "      <td>1.620911</td>\n",
       "      <td>3.241921</td>\n",
       "      <td>-0.990133</td>\n",
       "      <td>1</td>\n",
       "    </tr>\n",
       "    <tr>\n",
       "      <th>49</th>\n",
       "      <td>1</td>\n",
       "      <td>0.401850</td>\n",
       "      <td>0.321644</td>\n",
       "      <td>0.103455</td>\n",
       "      <td>-0.228560</td>\n",
       "      <td>1.032260</td>\n",
       "      <td>1.260821</td>\n",
       "      <td>0.553478</td>\n",
       "      <td>-0.473397</td>\n",
       "      <td>0</td>\n",
       "    </tr>\n",
       "    <tr>\n",
       "      <th>66</th>\n",
       "      <td>1</td>\n",
       "      <td>0.255578</td>\n",
       "      <td>0.307534</td>\n",
       "      <td>0.094577</td>\n",
       "      <td>-0.347177</td>\n",
       "      <td>0.858334</td>\n",
       "      <td>1.205511</td>\n",
       "      <td>-0.552027</td>\n",
       "      <td>0.717440</td>\n",
       "      <td>0</td>\n",
       "    </tr>\n",
       "    <tr>\n",
       "      <th>67</th>\n",
       "      <td>1</td>\n",
       "      <td>0.273208</td>\n",
       "      <td>0.257219</td>\n",
       "      <td>0.066162</td>\n",
       "      <td>-0.230932</td>\n",
       "      <td>0.777348</td>\n",
       "      <td>1.008280</td>\n",
       "      <td>0.275000</td>\n",
       "      <td>-0.637059</td>\n",
       "      <td>0</td>\n",
       "    </tr>\n",
       "    <tr>\n",
       "      <th>68</th>\n",
       "      <td>1</td>\n",
       "      <td>0.231905</td>\n",
       "      <td>0.303235</td>\n",
       "      <td>0.091951</td>\n",
       "      <td>-0.362424</td>\n",
       "      <td>0.826235</td>\n",
       "      <td>1.188659</td>\n",
       "      <td>1.934951</td>\n",
       "      <td>-0.834562</td>\n",
       "      <td>0</td>\n",
       "    </tr>\n",
       "    <tr>\n",
       "      <th>74</th>\n",
       "      <td>0</td>\n",
       "      <td>0.890444</td>\n",
       "      <td>0.232057</td>\n",
       "      <td>0.053851</td>\n",
       "      <td>0.435620</td>\n",
       "      <td>1.345269</td>\n",
       "      <td>0.909648</td>\n",
       "      <td>-1.611167</td>\n",
       "      <td>2.756970</td>\n",
       "      <td>1</td>\n",
       "    </tr>\n",
       "    <tr>\n",
       "      <th>83</th>\n",
       "      <td>0</td>\n",
       "      <td>0.880752</td>\n",
       "      <td>0.231158</td>\n",
       "      <td>0.053434</td>\n",
       "      <td>0.427691</td>\n",
       "      <td>1.333813</td>\n",
       "      <td>0.906122</td>\n",
       "      <td>2.514082</td>\n",
       "      <td>0.253213</td>\n",
       "      <td>1</td>\n",
       "    </tr>\n",
       "    <tr>\n",
       "      <th>85</th>\n",
       "      <td>0</td>\n",
       "      <td>0.606467</td>\n",
       "      <td>0.308921</td>\n",
       "      <td>0.095432</td>\n",
       "      <td>0.000993</td>\n",
       "      <td>1.211942</td>\n",
       "      <td>1.210949</td>\n",
       "      <td>-1.296926</td>\n",
       "      <td>0.882247</td>\n",
       "      <td>1</td>\n",
       "    </tr>\n",
       "    <tr>\n",
       "      <th>91</th>\n",
       "      <td>0</td>\n",
       "      <td>0.671598</td>\n",
       "      <td>0.197159</td>\n",
       "      <td>0.038872</td>\n",
       "      <td>0.285174</td>\n",
       "      <td>1.058023</td>\n",
       "      <td>0.772848</td>\n",
       "      <td>-0.009406</td>\n",
       "      <td>0.389005</td>\n",
       "      <td>1</td>\n",
       "    </tr>\n",
       "    <tr>\n",
       "      <th>93</th>\n",
       "      <td>1</td>\n",
       "      <td>0.454363</td>\n",
       "      <td>0.323008</td>\n",
       "      <td>0.104334</td>\n",
       "      <td>-0.178722</td>\n",
       "      <td>1.087447</td>\n",
       "      <td>1.266169</td>\n",
       "      <td>-1.231842</td>\n",
       "      <td>1.250675</td>\n",
       "      <td>0</td>\n",
       "    </tr>\n",
       "    <tr>\n",
       "      <th>95</th>\n",
       "      <td>0</td>\n",
       "      <td>0.779891</td>\n",
       "      <td>0.316706</td>\n",
       "      <td>0.100302</td>\n",
       "      <td>0.159159</td>\n",
       "      <td>1.400622</td>\n",
       "      <td>1.241463</td>\n",
       "      <td>-2.213700</td>\n",
       "      <td>2.017589</td>\n",
       "      <td>1</td>\n",
       "    </tr>\n",
       "    <tr>\n",
       "      <th>104</th>\n",
       "      <td>0</td>\n",
       "      <td>0.673143</td>\n",
       "      <td>0.298767</td>\n",
       "      <td>0.089262</td>\n",
       "      <td>0.087571</td>\n",
       "      <td>1.258715</td>\n",
       "      <td>1.171144</td>\n",
       "      <td>1.287785</td>\n",
       "      <td>0.288140</td>\n",
       "      <td>1</td>\n",
       "    </tr>\n",
       "    <tr>\n",
       "      <th>111</th>\n",
       "      <td>0</td>\n",
       "      <td>0.902563</td>\n",
       "      <td>0.229172</td>\n",
       "      <td>0.052520</td>\n",
       "      <td>0.453394</td>\n",
       "      <td>1.351732</td>\n",
       "      <td>0.898338</td>\n",
       "      <td>3.022193</td>\n",
       "      <td>0.634596</td>\n",
       "      <td>1</td>\n",
       "    </tr>\n",
       "    <tr>\n",
       "      <th>114</th>\n",
       "      <td>1</td>\n",
       "      <td>0.387576</td>\n",
       "      <td>0.307499</td>\n",
       "      <td>0.094556</td>\n",
       "      <td>-0.215111</td>\n",
       "      <td>0.990263</td>\n",
       "      <td>1.205374</td>\n",
       "      <td>1.025658</td>\n",
       "      <td>-0.816753</td>\n",
       "      <td>0</td>\n",
       "    </tr>\n",
       "    <tr>\n",
       "      <th>116</th>\n",
       "      <td>1</td>\n",
       "      <td>0.455915</td>\n",
       "      <td>0.299165</td>\n",
       "      <td>0.089500</td>\n",
       "      <td>-0.130437</td>\n",
       "      <td>1.042268</td>\n",
       "      <td>1.172705</td>\n",
       "      <td>0.033095</td>\n",
       "      <td>0.464139</td>\n",
       "      <td>0</td>\n",
       "    </tr>\n",
       "    <tr>\n",
       "      <th>123</th>\n",
       "      <td>0</td>\n",
       "      <td>0.770001</td>\n",
       "      <td>0.335380</td>\n",
       "      <td>0.112480</td>\n",
       "      <td>0.112668</td>\n",
       "      <td>1.427334</td>\n",
       "      <td>1.314666</td>\n",
       "      <td>-2.469655</td>\n",
       "      <td>2.545418</td>\n",
       "      <td>1</td>\n",
       "    </tr>\n",
       "    <tr>\n",
       "      <th>126</th>\n",
       "      <td>0</td>\n",
       "      <td>0.877338</td>\n",
       "      <td>0.260027</td>\n",
       "      <td>0.067614</td>\n",
       "      <td>0.367694</td>\n",
       "      <td>1.386981</td>\n",
       "      <td>1.019287</td>\n",
       "      <td>-1.912025</td>\n",
       "      <td>2.487812</td>\n",
       "      <td>1</td>\n",
       "    </tr>\n",
       "    <tr>\n",
       "      <th>129</th>\n",
       "      <td>0</td>\n",
       "      <td>0.902308</td>\n",
       "      <td>0.214555</td>\n",
       "      <td>0.046034</td>\n",
       "      <td>0.481789</td>\n",
       "      <td>1.322827</td>\n",
       "      <td>0.841038</td>\n",
       "      <td>1.430714</td>\n",
       "      <td>1.145708</td>\n",
       "      <td>1</td>\n",
       "    </tr>\n",
       "    <tr>\n",
       "      <th>134</th>\n",
       "      <td>0</td>\n",
       "      <td>0.733017</td>\n",
       "      <td>0.251305</td>\n",
       "      <td>0.063154</td>\n",
       "      <td>0.240467</td>\n",
       "      <td>1.225567</td>\n",
       "      <td>0.985099</td>\n",
       "      <td>-0.518376</td>\n",
       "      <td>0.810315</td>\n",
       "      <td>1</td>\n",
       "    </tr>\n",
       "    <tr>\n",
       "      <th>139</th>\n",
       "      <td>0</td>\n",
       "      <td>0.647477</td>\n",
       "      <td>0.289335</td>\n",
       "      <td>0.083715</td>\n",
       "      <td>0.080391</td>\n",
       "      <td>1.214563</td>\n",
       "      <td>1.134172</td>\n",
       "      <td>-0.763117</td>\n",
       "      <td>0.693733</td>\n",
       "      <td>1</td>\n",
       "    </tr>\n",
       "    <tr>\n",
       "      <th>140</th>\n",
       "      <td>0</td>\n",
       "      <td>0.670715</td>\n",
       "      <td>0.383059</td>\n",
       "      <td>0.146734</td>\n",
       "      <td>-0.080067</td>\n",
       "      <td>1.421497</td>\n",
       "      <td>1.501564</td>\n",
       "      <td>2.946010</td>\n",
       "      <td>-0.296091</td>\n",
       "      <td>1</td>\n",
       "    </tr>\n",
       "    <tr>\n",
       "      <th>143</th>\n",
       "      <td>0</td>\n",
       "      <td>0.914211</td>\n",
       "      <td>0.194336</td>\n",
       "      <td>0.037766</td>\n",
       "      <td>0.533320</td>\n",
       "      <td>1.295102</td>\n",
       "      <td>0.761782</td>\n",
       "      <td>2.091081</td>\n",
       "      <td>0.588281</td>\n",
       "      <td>1</td>\n",
       "    </tr>\n",
       "    <tr>\n",
       "      <th>163</th>\n",
       "      <td>0</td>\n",
       "      <td>0.544535</td>\n",
       "      <td>0.432855</td>\n",
       "      <td>0.187363</td>\n",
       "      <td>-0.303845</td>\n",
       "      <td>1.392915</td>\n",
       "      <td>1.696760</td>\n",
       "      <td>4.062086</td>\n",
       "      <td>-1.128126</td>\n",
       "      <td>1</td>\n",
       "    </tr>\n",
       "    <tr>\n",
       "      <th>164</th>\n",
       "      <td>0</td>\n",
       "      <td>0.585953</td>\n",
       "      <td>0.381350</td>\n",
       "      <td>0.145428</td>\n",
       "      <td>-0.161478</td>\n",
       "      <td>1.333385</td>\n",
       "      <td>1.494863</td>\n",
       "      <td>-1.204138</td>\n",
       "      <td>2.009047</td>\n",
       "      <td>1</td>\n",
       "    </tr>\n",
       "    <tr>\n",
       "      <th>174</th>\n",
       "      <td>0</td>\n",
       "      <td>0.643894</td>\n",
       "      <td>0.371390</td>\n",
       "      <td>0.137931</td>\n",
       "      <td>-0.084017</td>\n",
       "      <td>1.371806</td>\n",
       "      <td>1.455823</td>\n",
       "      <td>-2.115604</td>\n",
       "      <td>1.773105</td>\n",
       "      <td>1</td>\n",
       "    </tr>\n",
       "    <tr>\n",
       "      <th>175</th>\n",
       "      <td>0</td>\n",
       "      <td>0.975135</td>\n",
       "      <td>0.098352</td>\n",
       "      <td>0.009673</td>\n",
       "      <td>0.782368</td>\n",
       "      <td>1.167901</td>\n",
       "      <td>0.385533</td>\n",
       "      <td>2.154258</td>\n",
       "      <td>0.943103</td>\n",
       "      <td>1</td>\n",
       "    </tr>\n",
       "    <tr>\n",
       "      <th>...</th>\n",
       "      <td>...</td>\n",
       "      <td>...</td>\n",
       "      <td>...</td>\n",
       "      <td>...</td>\n",
       "      <td>...</td>\n",
       "      <td>...</td>\n",
       "      <td>...</td>\n",
       "      <td>...</td>\n",
       "      <td>...</td>\n",
       "      <td>...</td>\n",
       "    </tr>\n",
       "    <tr>\n",
       "      <th>272</th>\n",
       "      <td>0</td>\n",
       "      <td>0.651551</td>\n",
       "      <td>0.313375</td>\n",
       "      <td>0.098204</td>\n",
       "      <td>0.037346</td>\n",
       "      <td>1.265755</td>\n",
       "      <td>1.228409</td>\n",
       "      <td>0.114898</td>\n",
       "      <td>0.769283</td>\n",
       "      <td>1</td>\n",
       "    </tr>\n",
       "    <tr>\n",
       "      <th>273</th>\n",
       "      <td>1</td>\n",
       "      <td>0.478445</td>\n",
       "      <td>0.297418</td>\n",
       "      <td>0.088458</td>\n",
       "      <td>-0.104485</td>\n",
       "      <td>1.061374</td>\n",
       "      <td>1.165858</td>\n",
       "      <td>0.782285</td>\n",
       "      <td>-0.224863</td>\n",
       "      <td>0</td>\n",
       "    </tr>\n",
       "    <tr>\n",
       "      <th>280</th>\n",
       "      <td>0</td>\n",
       "      <td>0.848955</td>\n",
       "      <td>0.244525</td>\n",
       "      <td>0.059793</td>\n",
       "      <td>0.369694</td>\n",
       "      <td>1.328215</td>\n",
       "      <td>0.958521</td>\n",
       "      <td>1.806395</td>\n",
       "      <td>1.086981</td>\n",
       "      <td>1</td>\n",
       "    </tr>\n",
       "    <tr>\n",
       "      <th>282</th>\n",
       "      <td>0</td>\n",
       "      <td>0.765983</td>\n",
       "      <td>0.327440</td>\n",
       "      <td>0.107217</td>\n",
       "      <td>0.124213</td>\n",
       "      <td>1.407753</td>\n",
       "      <td>1.283540</td>\n",
       "      <td>2.347603</td>\n",
       "      <td>-0.041469</td>\n",
       "      <td>1</td>\n",
       "    </tr>\n",
       "    <tr>\n",
       "      <th>288</th>\n",
       "      <td>0</td>\n",
       "      <td>0.570877</td>\n",
       "      <td>0.390408</td>\n",
       "      <td>0.152418</td>\n",
       "      <td>-0.194309</td>\n",
       "      <td>1.336062</td>\n",
       "      <td>1.530371</td>\n",
       "      <td>-2.784677</td>\n",
       "      <td>1.791604</td>\n",
       "      <td>1</td>\n",
       "    </tr>\n",
       "    <tr>\n",
       "      <th>290</th>\n",
       "      <td>1</td>\n",
       "      <td>0.407463</td>\n",
       "      <td>0.349020</td>\n",
       "      <td>0.121815</td>\n",
       "      <td>-0.276604</td>\n",
       "      <td>1.091529</td>\n",
       "      <td>1.368134</td>\n",
       "      <td>1.737591</td>\n",
       "      <td>-0.554458</td>\n",
       "      <td>0</td>\n",
       "    </tr>\n",
       "    <tr>\n",
       "      <th>291</th>\n",
       "      <td>0</td>\n",
       "      <td>0.903124</td>\n",
       "      <td>0.199495</td>\n",
       "      <td>0.039798</td>\n",
       "      <td>0.512120</td>\n",
       "      <td>1.294128</td>\n",
       "      <td>0.782007</td>\n",
       "      <td>1.678339</td>\n",
       "      <td>0.713096</td>\n",
       "      <td>1</td>\n",
       "    </tr>\n",
       "    <tr>\n",
       "      <th>303</th>\n",
       "      <td>0</td>\n",
       "      <td>0.835799</td>\n",
       "      <td>0.238532</td>\n",
       "      <td>0.056897</td>\n",
       "      <td>0.368285</td>\n",
       "      <td>1.303313</td>\n",
       "      <td>0.935028</td>\n",
       "      <td>1.275452</td>\n",
       "      <td>0.673719</td>\n",
       "      <td>1</td>\n",
       "    </tr>\n",
       "    <tr>\n",
       "      <th>310</th>\n",
       "      <td>1</td>\n",
       "      <td>0.360909</td>\n",
       "      <td>0.281942</td>\n",
       "      <td>0.079491</td>\n",
       "      <td>-0.191688</td>\n",
       "      <td>0.913505</td>\n",
       "      <td>1.105192</td>\n",
       "      <td>-0.838333</td>\n",
       "      <td>0.572754</td>\n",
       "      <td>0</td>\n",
       "    </tr>\n",
       "    <tr>\n",
       "      <th>312</th>\n",
       "      <td>0</td>\n",
       "      <td>0.570068</td>\n",
       "      <td>0.316497</td>\n",
       "      <td>0.100170</td>\n",
       "      <td>-0.050254</td>\n",
       "      <td>1.190390</td>\n",
       "      <td>1.240644</td>\n",
       "      <td>1.775083</td>\n",
       "      <td>-0.213764</td>\n",
       "      <td>1</td>\n",
       "    </tr>\n",
       "    <tr>\n",
       "      <th>313</th>\n",
       "      <td>0</td>\n",
       "      <td>0.802382</td>\n",
       "      <td>0.339475</td>\n",
       "      <td>0.115243</td>\n",
       "      <td>0.137023</td>\n",
       "      <td>1.467741</td>\n",
       "      <td>1.330718</td>\n",
       "      <td>4.026778</td>\n",
       "      <td>-0.759913</td>\n",
       "      <td>1</td>\n",
       "    </tr>\n",
       "    <tr>\n",
       "      <th>316</th>\n",
       "      <td>0</td>\n",
       "      <td>0.507277</td>\n",
       "      <td>0.361705</td>\n",
       "      <td>0.130830</td>\n",
       "      <td>-0.201651</td>\n",
       "      <td>1.216205</td>\n",
       "      <td>1.417856</td>\n",
       "      <td>-2.036194</td>\n",
       "      <td>1.768497</td>\n",
       "      <td>1</td>\n",
       "    </tr>\n",
       "    <tr>\n",
       "      <th>322</th>\n",
       "      <td>1</td>\n",
       "      <td>0.366220</td>\n",
       "      <td>0.315402</td>\n",
       "      <td>0.099478</td>\n",
       "      <td>-0.251957</td>\n",
       "      <td>0.984396</td>\n",
       "      <td>1.236352</td>\n",
       "      <td>1.198464</td>\n",
       "      <td>-0.738376</td>\n",
       "      <td>0</td>\n",
       "    </tr>\n",
       "    <tr>\n",
       "      <th>324</th>\n",
       "      <td>0</td>\n",
       "      <td>0.550663</td>\n",
       "      <td>0.374572</td>\n",
       "      <td>0.140304</td>\n",
       "      <td>-0.183484</td>\n",
       "      <td>1.284810</td>\n",
       "      <td>1.468294</td>\n",
       "      <td>-1.869451</td>\n",
       "      <td>1.462271</td>\n",
       "      <td>1</td>\n",
       "    </tr>\n",
       "    <tr>\n",
       "      <th>325</th>\n",
       "      <td>1</td>\n",
       "      <td>0.429045</td>\n",
       "      <td>0.305329</td>\n",
       "      <td>0.093226</td>\n",
       "      <td>-0.169390</td>\n",
       "      <td>1.027480</td>\n",
       "      <td>1.196870</td>\n",
       "      <td>-0.662848</td>\n",
       "      <td>0.360393</td>\n",
       "      <td>0</td>\n",
       "    </tr>\n",
       "    <tr>\n",
       "      <th>330</th>\n",
       "      <td>0</td>\n",
       "      <td>0.825871</td>\n",
       "      <td>0.232621</td>\n",
       "      <td>0.054112</td>\n",
       "      <td>0.369942</td>\n",
       "      <td>1.281799</td>\n",
       "      <td>0.911857</td>\n",
       "      <td>-0.726010</td>\n",
       "      <td>1.447717</td>\n",
       "      <td>1</td>\n",
       "    </tr>\n",
       "    <tr>\n",
       "      <th>336</th>\n",
       "      <td>0</td>\n",
       "      <td>0.639356</td>\n",
       "      <td>0.367145</td>\n",
       "      <td>0.134795</td>\n",
       "      <td>-0.080234</td>\n",
       "      <td>1.358947</td>\n",
       "      <td>1.439181</td>\n",
       "      <td>1.679823</td>\n",
       "      <td>-0.209262</td>\n",
       "      <td>1</td>\n",
       "    </tr>\n",
       "    <tr>\n",
       "      <th>346</th>\n",
       "      <td>0</td>\n",
       "      <td>0.631774</td>\n",
       "      <td>0.307740</td>\n",
       "      <td>0.094704</td>\n",
       "      <td>0.028615</td>\n",
       "      <td>1.234933</td>\n",
       "      <td>1.206318</td>\n",
       "      <td>0.001446</td>\n",
       "      <td>0.946305</td>\n",
       "      <td>1</td>\n",
       "    </tr>\n",
       "    <tr>\n",
       "      <th>349</th>\n",
       "      <td>0</td>\n",
       "      <td>0.796158</td>\n",
       "      <td>0.316913</td>\n",
       "      <td>0.100434</td>\n",
       "      <td>0.175020</td>\n",
       "      <td>1.417297</td>\n",
       "      <td>1.242278</td>\n",
       "      <td>2.931752</td>\n",
       "      <td>-0.022998</td>\n",
       "      <td>1</td>\n",
       "    </tr>\n",
       "    <tr>\n",
       "      <th>354</th>\n",
       "      <td>0</td>\n",
       "      <td>0.723961</td>\n",
       "      <td>0.374563</td>\n",
       "      <td>0.140297</td>\n",
       "      <td>-0.010168</td>\n",
       "      <td>1.458090</td>\n",
       "      <td>1.468259</td>\n",
       "      <td>3.362300</td>\n",
       "      <td>-0.842524</td>\n",
       "      <td>1</td>\n",
       "    </tr>\n",
       "    <tr>\n",
       "      <th>357</th>\n",
       "      <td>0</td>\n",
       "      <td>0.553169</td>\n",
       "      <td>0.338364</td>\n",
       "      <td>0.114490</td>\n",
       "      <td>-0.110012</td>\n",
       "      <td>1.216349</td>\n",
       "      <td>1.326361</td>\n",
       "      <td>-1.492944</td>\n",
       "      <td>1.171016</td>\n",
       "      <td>1</td>\n",
       "    </tr>\n",
       "    <tr>\n",
       "      <th>359</th>\n",
       "      <td>0</td>\n",
       "      <td>0.719064</td>\n",
       "      <td>0.284842</td>\n",
       "      <td>0.081135</td>\n",
       "      <td>0.160784</td>\n",
       "      <td>1.277343</td>\n",
       "      <td>1.116558</td>\n",
       "      <td>-0.802051</td>\n",
       "      <td>0.749893</td>\n",
       "      <td>1</td>\n",
       "    </tr>\n",
       "    <tr>\n",
       "      <th>363</th>\n",
       "      <td>0</td>\n",
       "      <td>0.544697</td>\n",
       "      <td>0.402282</td>\n",
       "      <td>0.161831</td>\n",
       "      <td>-0.243762</td>\n",
       "      <td>1.333155</td>\n",
       "      <td>1.576916</td>\n",
       "      <td>2.513504</td>\n",
       "      <td>-1.071802</td>\n",
       "      <td>1</td>\n",
       "    </tr>\n",
       "    <tr>\n",
       "      <th>369</th>\n",
       "      <td>0</td>\n",
       "      <td>0.909935</td>\n",
       "      <td>0.201305</td>\n",
       "      <td>0.040524</td>\n",
       "      <td>0.515384</td>\n",
       "      <td>1.304486</td>\n",
       "      <td>0.789102</td>\n",
       "      <td>1.434032</td>\n",
       "      <td>1.584818</td>\n",
       "      <td>1</td>\n",
       "    </tr>\n",
       "    <tr>\n",
       "      <th>372</th>\n",
       "      <td>1</td>\n",
       "      <td>0.279967</td>\n",
       "      <td>0.270297</td>\n",
       "      <td>0.073061</td>\n",
       "      <td>-0.249806</td>\n",
       "      <td>0.809740</td>\n",
       "      <td>1.059546</td>\n",
       "      <td>0.210154</td>\n",
       "      <td>0.264175</td>\n",
       "      <td>0</td>\n",
       "    </tr>\n",
       "    <tr>\n",
       "      <th>375</th>\n",
       "      <td>0</td>\n",
       "      <td>0.905609</td>\n",
       "      <td>0.216160</td>\n",
       "      <td>0.046725</td>\n",
       "      <td>0.481944</td>\n",
       "      <td>1.329275</td>\n",
       "      <td>0.847331</td>\n",
       "      <td>3.031097</td>\n",
       "      <td>0.347495</td>\n",
       "      <td>1</td>\n",
       "    </tr>\n",
       "    <tr>\n",
       "      <th>385</th>\n",
       "      <td>1</td>\n",
       "      <td>0.353052</td>\n",
       "      <td>0.261012</td>\n",
       "      <td>0.068127</td>\n",
       "      <td>-0.158523</td>\n",
       "      <td>0.864626</td>\n",
       "      <td>1.023149</td>\n",
       "      <td>-0.240416</td>\n",
       "      <td>-0.268792</td>\n",
       "      <td>0</td>\n",
       "    </tr>\n",
       "    <tr>\n",
       "      <th>391</th>\n",
       "      <td>0</td>\n",
       "      <td>0.796153</td>\n",
       "      <td>0.249812</td>\n",
       "      <td>0.062406</td>\n",
       "      <td>0.306531</td>\n",
       "      <td>1.285776</td>\n",
       "      <td>0.979244</td>\n",
       "      <td>-0.532871</td>\n",
       "      <td>1.372000</td>\n",
       "      <td>1</td>\n",
       "    </tr>\n",
       "    <tr>\n",
       "      <th>396</th>\n",
       "      <td>0</td>\n",
       "      <td>0.921491</td>\n",
       "      <td>0.184846</td>\n",
       "      <td>0.034168</td>\n",
       "      <td>0.559200</td>\n",
       "      <td>1.283782</td>\n",
       "      <td>0.724582</td>\n",
       "      <td>0.907261</td>\n",
       "      <td>1.100188</td>\n",
       "      <td>1</td>\n",
       "    </tr>\n",
       "    <tr>\n",
       "      <th>397</th>\n",
       "      <td>0</td>\n",
       "      <td>0.886467</td>\n",
       "      <td>0.252505</td>\n",
       "      <td>0.063759</td>\n",
       "      <td>0.391566</td>\n",
       "      <td>1.381369</td>\n",
       "      <td>0.989803</td>\n",
       "      <td>2.787290</td>\n",
       "      <td>-0.098016</td>\n",
       "      <td>1</td>\n",
       "    </tr>\n",
       "  </tbody>\n",
       "</table>\n",
       "<p>74 rows × 10 columns</p>\n",
       "</div>"
      ],
      "text/plain": [
       "     target  predictions   predStd   predVar  confidenceLow  confidenceHigh  \\\n",
       "11        0     0.653737  0.330573  0.109279       0.005825        1.301650   \n",
       "23        0     0.680182  0.376888  0.142045      -0.058505        1.418869   \n",
       "36        1     0.455151  0.348545  0.121484      -0.227985        1.138287   \n",
       "38        0     0.699975  0.342952  0.117616       0.027801        1.372148   \n",
       "42        0     0.576175  0.413505  0.170987      -0.234280        1.386630   \n",
       "49        1     0.401850  0.321644  0.103455      -0.228560        1.032260   \n",
       "66        1     0.255578  0.307534  0.094577      -0.347177        0.858334   \n",
       "67        1     0.273208  0.257219  0.066162      -0.230932        0.777348   \n",
       "68        1     0.231905  0.303235  0.091951      -0.362424        0.826235   \n",
       "74        0     0.890444  0.232057  0.053851       0.435620        1.345269   \n",
       "83        0     0.880752  0.231158  0.053434       0.427691        1.333813   \n",
       "85        0     0.606467  0.308921  0.095432       0.000993        1.211942   \n",
       "91        0     0.671598  0.197159  0.038872       0.285174        1.058023   \n",
       "93        1     0.454363  0.323008  0.104334      -0.178722        1.087447   \n",
       "95        0     0.779891  0.316706  0.100302       0.159159        1.400622   \n",
       "104       0     0.673143  0.298767  0.089262       0.087571        1.258715   \n",
       "111       0     0.902563  0.229172  0.052520       0.453394        1.351732   \n",
       "114       1     0.387576  0.307499  0.094556      -0.215111        0.990263   \n",
       "116       1     0.455915  0.299165  0.089500      -0.130437        1.042268   \n",
       "123       0     0.770001  0.335380  0.112480       0.112668        1.427334   \n",
       "126       0     0.877338  0.260027  0.067614       0.367694        1.386981   \n",
       "129       0     0.902308  0.214555  0.046034       0.481789        1.322827   \n",
       "134       0     0.733017  0.251305  0.063154       0.240467        1.225567   \n",
       "139       0     0.647477  0.289335  0.083715       0.080391        1.214563   \n",
       "140       0     0.670715  0.383059  0.146734      -0.080067        1.421497   \n",
       "143       0     0.914211  0.194336  0.037766       0.533320        1.295102   \n",
       "163       0     0.544535  0.432855  0.187363      -0.303845        1.392915   \n",
       "164       0     0.585953  0.381350  0.145428      -0.161478        1.333385   \n",
       "174       0     0.643894  0.371390  0.137931      -0.084017        1.371806   \n",
       "175       0     0.975135  0.098352  0.009673       0.782368        1.167901   \n",
       "..      ...          ...       ...       ...            ...             ...   \n",
       "272       0     0.651551  0.313375  0.098204       0.037346        1.265755   \n",
       "273       1     0.478445  0.297418  0.088458      -0.104485        1.061374   \n",
       "280       0     0.848955  0.244525  0.059793       0.369694        1.328215   \n",
       "282       0     0.765983  0.327440  0.107217       0.124213        1.407753   \n",
       "288       0     0.570877  0.390408  0.152418      -0.194309        1.336062   \n",
       "290       1     0.407463  0.349020  0.121815      -0.276604        1.091529   \n",
       "291       0     0.903124  0.199495  0.039798       0.512120        1.294128   \n",
       "303       0     0.835799  0.238532  0.056897       0.368285        1.303313   \n",
       "310       1     0.360909  0.281942  0.079491      -0.191688        0.913505   \n",
       "312       0     0.570068  0.316497  0.100170      -0.050254        1.190390   \n",
       "313       0     0.802382  0.339475  0.115243       0.137023        1.467741   \n",
       "316       0     0.507277  0.361705  0.130830      -0.201651        1.216205   \n",
       "322       1     0.366220  0.315402  0.099478      -0.251957        0.984396   \n",
       "324       0     0.550663  0.374572  0.140304      -0.183484        1.284810   \n",
       "325       1     0.429045  0.305329  0.093226      -0.169390        1.027480   \n",
       "330       0     0.825871  0.232621  0.054112       0.369942        1.281799   \n",
       "336       0     0.639356  0.367145  0.134795      -0.080234        1.358947   \n",
       "346       0     0.631774  0.307740  0.094704       0.028615        1.234933   \n",
       "349       0     0.796158  0.316913  0.100434       0.175020        1.417297   \n",
       "354       0     0.723961  0.374563  0.140297      -0.010168        1.458090   \n",
       "357       0     0.553169  0.338364  0.114490      -0.110012        1.216349   \n",
       "359       0     0.719064  0.284842  0.081135       0.160784        1.277343   \n",
       "363       0     0.544697  0.402282  0.161831      -0.243762        1.333155   \n",
       "369       0     0.909935  0.201305  0.040524       0.515384        1.304486   \n",
       "372       1     0.279967  0.270297  0.073061      -0.249806        0.809740   \n",
       "375       0     0.905609  0.216160  0.046725       0.481944        1.329275   \n",
       "385       1     0.353052  0.261012  0.068127      -0.158523        0.864626   \n",
       "391       0     0.796153  0.249812  0.062406       0.306531        1.285776   \n",
       "396       0     0.921491  0.184846  0.034168       0.559200        1.283782   \n",
       "397       0     0.886467  0.252505  0.063759       0.391566        1.381369   \n",
       "\n",
       "     confidenceRange    pca_x1    pca_x2  binPred  \n",
       "11          1.295824  1.903802 -0.219167        1  \n",
       "23          1.477374  2.447646 -0.432597        1  \n",
       "36          1.366272 -1.853602  1.314722        0  \n",
       "38          1.344347 -2.125762  1.826622        1  \n",
       "42          1.620911  3.241921 -0.990133        1  \n",
       "49          1.260821  0.553478 -0.473397        0  \n",
       "66          1.205511 -0.552027  0.717440        0  \n",
       "67          1.008280  0.275000 -0.637059        0  \n",
       "68          1.188659  1.934951 -0.834562        0  \n",
       "74          0.909648 -1.611167  2.756970        1  \n",
       "83          0.906122  2.514082  0.253213        1  \n",
       "85          1.210949 -1.296926  0.882247        1  \n",
       "91          0.772848 -0.009406  0.389005        1  \n",
       "93          1.266169 -1.231842  1.250675        0  \n",
       "95          1.241463 -2.213700  2.017589        1  \n",
       "104         1.171144  1.287785  0.288140        1  \n",
       "111         0.898338  3.022193  0.634596        1  \n",
       "114         1.205374  1.025658 -0.816753        0  \n",
       "116         1.172705  0.033095  0.464139        0  \n",
       "123         1.314666 -2.469655  2.545418        1  \n",
       "126         1.019287 -1.912025  2.487812        1  \n",
       "129         0.841038  1.430714  1.145708        1  \n",
       "134         0.985099 -0.518376  0.810315        1  \n",
       "139         1.134172 -0.763117  0.693733        1  \n",
       "140         1.501564  2.946010 -0.296091        1  \n",
       "143         0.761782  2.091081  0.588281        1  \n",
       "163         1.696760  4.062086 -1.128126        1  \n",
       "164         1.494863 -1.204138  2.009047        1  \n",
       "174         1.455823 -2.115604  1.773105        1  \n",
       "175         0.385533  2.154258  0.943103        1  \n",
       "..               ...       ...       ...      ...  \n",
       "272         1.228409  0.114898  0.769283        1  \n",
       "273         1.165858  0.782285 -0.224863        0  \n",
       "280         0.958521  1.806395  1.086981        1  \n",
       "282         1.283540  2.347603 -0.041469        1  \n",
       "288         1.530371 -2.784677  1.791604        1  \n",
       "290         1.368134  1.737591 -0.554458        0  \n",
       "291         0.782007  1.678339  0.713096        1  \n",
       "303         0.935028  1.275452  0.673719        1  \n",
       "310         1.105192 -0.838333  0.572754        0  \n",
       "312         1.240644  1.775083 -0.213764        1  \n",
       "313         1.330718  4.026778 -0.759913        1  \n",
       "316         1.417856 -2.036194  1.768497        1  \n",
       "322         1.236352  1.198464 -0.738376        0  \n",
       "324         1.468294 -1.869451  1.462271        1  \n",
       "325         1.196870 -0.662848  0.360393        0  \n",
       "330         0.911857 -0.726010  1.447717        1  \n",
       "336         1.439181  1.679823 -0.209262        1  \n",
       "346         1.206318  0.001446  0.946305        1  \n",
       "349         1.242278  2.931752 -0.022998        1  \n",
       "354         1.468259  3.362300 -0.842524        1  \n",
       "357         1.326361 -1.492944  1.171016        1  \n",
       "359         1.116558 -0.802051  0.749893        1  \n",
       "363         1.576916  2.513504 -1.071802        1  \n",
       "369         0.789102  1.434032  1.584818        1  \n",
       "372         1.059546  0.210154  0.264175        0  \n",
       "375         0.847331  3.031097  0.347495        1  \n",
       "385         1.023149 -0.240416 -0.268792        0  \n",
       "391         0.979244 -0.532871  1.372000        1  \n",
       "396         0.724582  0.907261  1.100188        1  \n",
       "397         0.989803  2.787290 -0.098016        1  \n",
       "\n",
       "[74 rows x 10 columns]"
      ]
     },
     "execution_count": 427,
     "metadata": {},
     "output_type": "execute_result"
    }
   ],
   "source": [
    "err.head(80)"
   ]
  },
  {
   "cell_type": "code",
   "execution_count": 519,
   "metadata": {},
   "outputs": [
    {
     "name": "stdout",
     "output_type": "stream",
     "text": [
      "0.021367417953553545\n"
     ]
    }
   ],
   "source": [
    "aa = np.reshape(xtest[3], (8,1)) * post_weights_mean[0]\n",
    "bb = aa.sum(axis = 0)\n",
    "z1 = np.reshape(bb * (bb > 0), (12, 1))\n",
    "out = np.sum(z1 * np.reshape(post_weights_mean[2], (12, 1)), axis = 0)\n",
    "prob = 1 / (1 + math.exp(-out))\n",
    "print(prob)"
   ]
  },
  {
   "cell_type": "code",
   "execution_count": 515,
   "metadata": {},
   "outputs": [
    {
     "data": {
      "text/html": [
       "<div>\n",
       "<style scoped>\n",
       "    .dataframe tbody tr th:only-of-type {\n",
       "        vertical-align: middle;\n",
       "    }\n",
       "\n",
       "    .dataframe tbody tr th {\n",
       "        vertical-align: top;\n",
       "    }\n",
       "\n",
       "    .dataframe thead th {\n",
       "        text-align: right;\n",
       "    }\n",
       "</style>\n",
       "<table border=\"1\" class=\"dataframe\">\n",
       "  <thead>\n",
       "    <tr style=\"text-align: right;\">\n",
       "      <th></th>\n",
       "      <th>target</th>\n",
       "      <th>predictions</th>\n",
       "      <th>predStd</th>\n",
       "      <th>predVar</th>\n",
       "      <th>confidenceLow</th>\n",
       "      <th>confidenceHigh</th>\n",
       "      <th>confidenceRange</th>\n",
       "      <th>pca_x1</th>\n",
       "      <th>pca_x2</th>\n",
       "      <th>binPred</th>\n",
       "    </tr>\n",
       "  </thead>\n",
       "  <tbody>\n",
       "    <tr>\n",
       "      <th>0</th>\n",
       "      <td>0</td>\n",
       "      <td>0.096194</td>\n",
       "      <td>0.171539</td>\n",
       "      <td>0.029426</td>\n",
       "      <td>-0.240016</td>\n",
       "      <td>0.432404</td>\n",
       "      <td>0.672420</td>\n",
       "      <td>0.557490</td>\n",
       "      <td>-1.138433</td>\n",
       "      <td>0</td>\n",
       "    </tr>\n",
       "    <tr>\n",
       "      <th>1</th>\n",
       "      <td>1</td>\n",
       "      <td>0.989023</td>\n",
       "      <td>0.058163</td>\n",
       "      <td>0.003383</td>\n",
       "      <td>0.875025</td>\n",
       "      <td>1.103020</td>\n",
       "      <td>0.227995</td>\n",
       "      <td>0.372588</td>\n",
       "      <td>2.210410</td>\n",
       "      <td>1</td>\n",
       "    </tr>\n",
       "    <tr>\n",
       "      <th>2</th>\n",
       "      <td>0</td>\n",
       "      <td>0.075511</td>\n",
       "      <td>0.191114</td>\n",
       "      <td>0.036524</td>\n",
       "      <td>-0.299065</td>\n",
       "      <td>0.450087</td>\n",
       "      <td>0.749151</td>\n",
       "      <td>-2.883425</td>\n",
       "      <td>-0.418066</td>\n",
       "      <td>0</td>\n",
       "    </tr>\n",
       "    <tr>\n",
       "      <th>3</th>\n",
       "      <td>0</td>\n",
       "      <td>0.123666</td>\n",
       "      <td>0.230987</td>\n",
       "      <td>0.053355</td>\n",
       "      <td>-0.329061</td>\n",
       "      <td>0.576393</td>\n",
       "      <td>0.905454</td>\n",
       "      <td>0.412756</td>\n",
       "      <td>-1.462043</td>\n",
       "      <td>0</td>\n",
       "    </tr>\n",
       "    <tr>\n",
       "      <th>4</th>\n",
       "      <td>1</td>\n",
       "      <td>0.705614</td>\n",
       "      <td>0.347966</td>\n",
       "      <td>0.121081</td>\n",
       "      <td>0.023612</td>\n",
       "      <td>1.387615</td>\n",
       "      <td>1.364004</td>\n",
       "      <td>2.860224</td>\n",
       "      <td>0.236508</td>\n",
       "      <td>1</td>\n",
       "    </tr>\n",
       "  </tbody>\n",
       "</table>\n",
       "</div>"
      ],
      "text/plain": [
       "   target  predictions   predStd   predVar  confidenceLow  confidenceHigh  \\\n",
       "0       0     0.096194  0.171539  0.029426      -0.240016        0.432404   \n",
       "1       1     0.989023  0.058163  0.003383       0.875025        1.103020   \n",
       "2       0     0.075511  0.191114  0.036524      -0.299065        0.450087   \n",
       "3       0     0.123666  0.230987  0.053355      -0.329061        0.576393   \n",
       "4       1     0.705614  0.347966  0.121081       0.023612        1.387615   \n",
       "\n",
       "   confidenceRange    pca_x1    pca_x2  binPred  \n",
       "0         0.672420  0.557490 -1.138433        0  \n",
       "1         0.227995  0.372588  2.210410        1  \n",
       "2         0.749151 -2.883425 -0.418066        0  \n",
       "3         0.905454  0.412756 -1.462043        0  \n",
       "4         1.364004  2.860224  0.236508        1  "
      ]
     },
     "execution_count": 515,
     "metadata": {},
     "output_type": "execute_result"
    }
   ],
   "source": [
    "results.head()"
   ]
  },
  {
   "cell_type": "markdown",
   "metadata": {},
   "source": [
    "### Network Uncertainity"
   ]
  },
  {
   "cell_type": "code",
   "execution_count": 550,
   "metadata": {},
   "outputs": [],
   "source": [
    "# plt.figure(figsize= (12, 3))\n",
    "# plt.subplot(151)\n",
    "# plt.pcolormesh(post_weights_mean[0])\n",
    "\n",
    "# plt.subplot(152)\n",
    "# plt.pcolormesh(post_weights_mean[1])\n",
    "\n",
    "# plt.subplot(143)\n",
    "# plt.pcolormesh(post_weights_mean[1])\n",
    "\n",
    "# plt.subplot(144)\n",
    "# plt.pcolormesh(post_weights_mean[3])"
   ]
  },
  {
   "cell_type": "code",
   "execution_count": 551,
   "metadata": {},
   "outputs": [],
   "source": [
    "# np.multiply(post_weights_mean[0], (xtest[0]))"
   ]
  },
  {
   "cell_type": "markdown",
   "metadata": {},
   "source": [
    "### CRITICISM"
   ]
  },
  {
   "cell_type": "code",
   "execution_count": 530,
   "metadata": {},
   "outputs": [
    {
     "data": {
      "text/html": [
       "<div>\n",
       "<style scoped>\n",
       "    .dataframe tbody tr th:only-of-type {\n",
       "        vertical-align: middle;\n",
       "    }\n",
       "\n",
       "    .dataframe tbody tr th {\n",
       "        vertical-align: top;\n",
       "    }\n",
       "\n",
       "    .dataframe thead th {\n",
       "        text-align: right;\n",
       "    }\n",
       "</style>\n",
       "<table border=\"1\" class=\"dataframe\">\n",
       "  <thead>\n",
       "    <tr style=\"text-align: right;\">\n",
       "      <th></th>\n",
       "      <th>target</th>\n",
       "      <th>predictions</th>\n",
       "      <th>predStd</th>\n",
       "      <th>predVar</th>\n",
       "      <th>confidenceLow</th>\n",
       "      <th>confidenceHigh</th>\n",
       "      <th>confidenceRange</th>\n",
       "      <th>pca_x1</th>\n",
       "      <th>pca_x2</th>\n",
       "      <th>binPred</th>\n",
       "    </tr>\n",
       "  </thead>\n",
       "  <tbody>\n",
       "    <tr>\n",
       "      <th>0</th>\n",
       "      <td>0</td>\n",
       "      <td>0.096194</td>\n",
       "      <td>0.171539</td>\n",
       "      <td>0.029426</td>\n",
       "      <td>-0.240016</td>\n",
       "      <td>0.432404</td>\n",
       "      <td>0.672420</td>\n",
       "      <td>0.557490</td>\n",
       "      <td>-1.138433</td>\n",
       "      <td>0</td>\n",
       "    </tr>\n",
       "    <tr>\n",
       "      <th>1</th>\n",
       "      <td>1</td>\n",
       "      <td>0.989023</td>\n",
       "      <td>0.058163</td>\n",
       "      <td>0.003383</td>\n",
       "      <td>0.875025</td>\n",
       "      <td>1.103020</td>\n",
       "      <td>0.227995</td>\n",
       "      <td>0.372588</td>\n",
       "      <td>2.210410</td>\n",
       "      <td>1</td>\n",
       "    </tr>\n",
       "    <tr>\n",
       "      <th>2</th>\n",
       "      <td>0</td>\n",
       "      <td>0.075511</td>\n",
       "      <td>0.191114</td>\n",
       "      <td>0.036524</td>\n",
       "      <td>-0.299065</td>\n",
       "      <td>0.450087</td>\n",
       "      <td>0.749151</td>\n",
       "      <td>-2.883425</td>\n",
       "      <td>-0.418066</td>\n",
       "      <td>0</td>\n",
       "    </tr>\n",
       "    <tr>\n",
       "      <th>3</th>\n",
       "      <td>0</td>\n",
       "      <td>0.123666</td>\n",
       "      <td>0.230987</td>\n",
       "      <td>0.053355</td>\n",
       "      <td>-0.329061</td>\n",
       "      <td>0.576393</td>\n",
       "      <td>0.905454</td>\n",
       "      <td>0.412756</td>\n",
       "      <td>-1.462043</td>\n",
       "      <td>0</td>\n",
       "    </tr>\n",
       "    <tr>\n",
       "      <th>4</th>\n",
       "      <td>1</td>\n",
       "      <td>0.705614</td>\n",
       "      <td>0.347966</td>\n",
       "      <td>0.121081</td>\n",
       "      <td>0.023612</td>\n",
       "      <td>1.387615</td>\n",
       "      <td>1.364004</td>\n",
       "      <td>2.860224</td>\n",
       "      <td>0.236508</td>\n",
       "      <td>1</td>\n",
       "    </tr>\n",
       "  </tbody>\n",
       "</table>\n",
       "</div>"
      ],
      "text/plain": [
       "   target  predictions   predStd   predVar  confidenceLow  confidenceHigh  \\\n",
       "0       0     0.096194  0.171539  0.029426      -0.240016        0.432404   \n",
       "1       1     0.989023  0.058163  0.003383       0.875025        1.103020   \n",
       "2       0     0.075511  0.191114  0.036524      -0.299065        0.450087   \n",
       "3       0     0.123666  0.230987  0.053355      -0.329061        0.576393   \n",
       "4       1     0.705614  0.347966  0.121081       0.023612        1.387615   \n",
       "\n",
       "   confidenceRange    pca_x1    pca_x2  binPred  \n",
       "0         0.672420  0.557490 -1.138433        0  \n",
       "1         0.227995  0.372588  2.210410        1  \n",
       "2         0.749151 -2.883425 -0.418066        0  \n",
       "3         0.905454  0.412756 -1.462043        0  \n",
       "4         1.364004  2.860224  0.236508        1  "
      ]
     },
     "execution_count": 530,
     "metadata": {},
     "output_type": "execute_result"
    }
   ],
   "source": [
    "results.head()"
   ]
  },
  {
   "cell_type": "code",
   "execution_count": 564,
   "metadata": {},
   "outputs": [],
   "source": [
    "# threshold = 0.50\n",
    "# import sys\n",
    "\n",
    "def considerUncertainity(threshold, std):\n",
    "    \n",
    "    if threshold > 0.5 and std > 0.30:\n",
    "        return 0\n",
    "#     if threshold < 0.5 and std > 0.20:\n",
    "#         return 1\n",
    "#     elif threshold > 0.5 and std < 0.20:\n",
    "#         return 1\n",
    "    elif threshold < 0.5:\n",
    "        return 0\n",
    "    \n",
    "    elif threshold > 0.5:\n",
    "        return 1\n",
    "\n",
    "uncertainityBinPred = []\n",
    "\n",
    "for i in range(400):\n",
    "    (th, std) = results.iloc[i]['predictions'], results.iloc[i]['predStd']\n",
    "    uncertainityBinPred.append(considerUncertainity(th.astype('float'), std.astype('float')))"
   ]
  },
  {
   "cell_type": "code",
   "execution_count": 565,
   "metadata": {},
   "outputs": [
    {
     "name": "stdout",
     "output_type": "stream",
     "text": [
      "Accuracy of the model: 0.8225\n",
      "\n",
      "F1-score of the model: 0.8183801365499771\n",
      "\n",
      "Classification report: \n",
      "             precision    recall  f1-score   support\n",
      "\n",
      "        0.0       0.85      0.90      0.87       272\n",
      "        1.0       0.76      0.65      0.70       128\n",
      "\n",
      "avg / total       0.82      0.82      0.82       400\n",
      "\n",
      "\n",
      "Confusion matrix: \n",
      "[[246  26]\n",
      " [ 45  83]]\n",
      "\n"
     ]
    }
   ],
   "source": [
    "prediction(ytest, uncertainityBinPred)"
   ]
  },
  {
   "cell_type": "code",
   "execution_count": null,
   "metadata": {},
   "outputs": [],
   "source": [
    "import matplotlib.pyplot as plt\n",
    "\n",
    "y = np.random.randn(20)\n",
    "y_rep = np.random.randn(20, 20)\n",
    "\n",
    "ed.ppc_density_plot(y, y_rep)\n",
    "plt.show()"
   ]
  },
  {
   "cell_type": "code",
   "execution_count": null,
   "metadata": {},
   "outputs": [],
   "source": [
    "def define_network(images, num_classes=10):\n",
    "    \n",
    "     mean = tf.get_variable('mean', [28 * 28, num_classes])\n",
    "     stddev = tf.get_variable('stddev', [28 * 28, num_classes])\n",
    "     prior = tfd.MultivariateNormalDiag(\n",
    "     tf.zeros_like(mean), tf.ones_like(stddev))\n",
    "     posterior = tfd.MultivariateNormalDiag(mean, tf.nn.softplus(stddev))\n",
    "     bias = tf.get_variable('bias', [num_classes]) # Or Bayesian, too\n",
    "     logit = tf.nn.relu(tf.matmul(posterior.sample(), images) + bias)\n",
    "     return tfd.Categorical(logit), posterior, prior"
   ]
  },
  {
   "cell_type": "code",
   "execution_count": null,
   "metadata": {},
   "outputs": [],
   "source": [
    "dist, posterior, prior = define_network(images)\n",
    "elbo = (tf.reduce_mean(dist.log_prob(label)) -\n",
    " tf.reduce_mean(tfd.kl_divergence(posterior, prior))"
   ]
  },
  {
   "cell_type": "code",
   "execution_count": null,
   "metadata": {},
   "outputs": [],
   "source": []
  }
 ],
 "metadata": {
  "kernelspec": {
   "display_name": "Python 3",
   "language": "python",
   "name": "python3"
  },
  "language_info": {
   "codemirror_mode": {
    "name": "ipython",
    "version": 3
   },
   "file_extension": ".py",
   "mimetype": "text/x-python",
   "name": "python",
   "nbconvert_exporter": "python",
   "pygments_lexer": "ipython3",
   "version": "3.6.5"
  }
 },
 "nbformat": 4,
 "nbformat_minor": 2
}
