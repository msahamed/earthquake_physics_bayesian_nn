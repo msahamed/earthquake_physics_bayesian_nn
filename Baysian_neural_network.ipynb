{
 "cells": [
  {
   "cell_type": "code",
   "execution_count": 208,
   "metadata": {},
   "outputs": [],
   "source": [
    "%matplotlib inline\n",
    "\n",
    "import numpy as np\n",
    "import edward as ed\n",
    "import pandas as pd\n",
    "from time import time\n",
    "import tensorflow as tf\n",
    "from edward.models import Categorical, Normal\n",
    "from keras.utils import to_categorical\n",
    "\n",
    "import seaborn as sns\n",
    "from scipy import stats\n",
    "from tqdm import tqdm\n",
    "import matplotlib.pyplot as plt\n",
    "from sklearn.utils import resample\n",
    "\n",
    "plt.style.use('ggplot')"
   ]
  },
  {
   "cell_type": "code",
   "execution_count": 209,
   "metadata": {},
   "outputs": [],
   "source": [
    "## Sklearn related modules\n",
    "from sklearn.utils import shuffle, class_weight\n",
    "from sklearn import preprocessing\n",
    "from sklearn.preprocessing import StandardScaler\n",
    "from sklearn.model_selection import train_test_split\n",
    "from sklearn.metrics import accuracy_score, classification_report, confusion_matrix\n",
    "from sklearn.manifold import TSNE\n",
    "from sklearn.decomposition import PCA"
   ]
  },
  {
   "cell_type": "code",
   "execution_count": 210,
   "metadata": {},
   "outputs": [],
   "source": [
    "random_seed = 2018"
   ]
  },
  {
   "cell_type": "code",
   "execution_count": null,
   "metadata": {},
   "outputs": [],
   "source": [
    "ed.set_seed(random_seed)"
   ]
  },
  {
   "cell_type": "code",
   "execution_count": null,
   "metadata": {},
   "outputs": [],
   "source": [
    "# inspired by http://nipunbatra.github.io/2014/08/latexify/\n",
    "plt.style.use(['default'])\n",
    "params = {\n",
    "    'text.latex.preamble': ['\\\\usepackage{gensymb}'],\n",
    "    'image.origin': 'lower',\n",
    "    'image.interpolation': 'nearest',\n",
    "    'image.cmap': 'gray',\n",
    "    'axes.grid': False,\n",
    "    'savefig.dpi': 150,  # to adjust notebook inline plot size\n",
    "    'axes.labelsize': 12, # fontsize for x and y labels (was 10)\n",
    "    'axes.titlesize': 12,\n",
    "    'font.size': 12, # was 10\n",
    "    'legend.fontsize': 12, # was 10\n",
    "    'xtick.labelsize': 12,\n",
    "    'ytick.labelsize': 12,\n",
    "    'text.usetex': True,\n",
    "    'figure.facecolor':'white',\n",
    "    'font.family': 'serif',\n",
    "}\n",
    "plt.rcParams.update(params)"
   ]
  },
  {
   "cell_type": "markdown",
   "metadata": {},
   "source": [
    "### Import Data"
   ]
  },
  {
   "cell_type": "code",
   "execution_count": null,
   "metadata": {},
   "outputs": [],
   "source": [
    "## look data with pandas\n",
    "train_file = \"data/rupturemodel_train.txt\"\n",
    "val_file = \"data/rupturemodel_xvalidate.txt\"\n",
    "test_file = \"data/rupturemodel_test.txt\"\n",
    "\n",
    "df_train= pd.read_csv(train_file, sep=\" \", header = None, dtype = np.float32)\n",
    "df_val= pd.read_csv(val_file, sep=\" \", header = None, dtype = np.float32)\n",
    "df_test= pd.read_csv(test_file, sep=\" \", header = None, dtype = np.float32)\n",
    "\n",
    "features_name =  ['height', 'width', 'sxx', 'sxy', 'syy', 'sdrop', 'mud', 'dc', 'label']\n",
    "df_train.columns = features_name\n",
    "df_val.columns = features_name\n",
    "df_test.columns = features_name\n",
    "\n",
    "df_train_all = df_train.append(df_val)"
   ]
  },
  {
   "cell_type": "markdown",
   "metadata": {},
   "source": [
    "### Data processing\n",
    "We use StandardScaler preprocessing method of scikit. It standardizes features \n",
    "by removing the mean and scaling to unit variance"
   ]
  },
  {
   "cell_type": "code",
   "execution_count": 16,
   "metadata": {},
   "outputs": [],
   "source": [
    "df = shuffle(df_train_all, random_state = random_seed)\n",
    "df_train = shuffle(df_train, random_state = random_seed)\n",
    "df_val = shuffle(df_val, random_state = random_seed)\n",
    "df_test = shuffle(df_test, random_state = random_seed)\n"
   ]
  },
  {
   "cell_type": "markdown",
   "metadata": {},
   "source": [
    "### Class Balance"
   ]
  },
  {
   "cell_type": "code",
   "execution_count": 17,
   "metadata": {},
   "outputs": [
    {
     "data": {
      "text/plain": [
       "0.0    1041\n",
       "1.0     559\n",
       "Name: label, dtype: int64"
      ]
     },
     "execution_count": 17,
     "metadata": {},
     "output_type": "execute_result"
    }
   ],
   "source": [
    "df.label.value_counts()"
   ]
  },
  {
   "cell_type": "code",
   "execution_count": 18,
   "metadata": {},
   "outputs": [],
   "source": [
    "df_major = df[df.label == 0]\n",
    "df_minor = df[df.label == 1]"
   ]
  },
  {
   "cell_type": "code",
   "execution_count": 19,
   "metadata": {},
   "outputs": [
    {
     "data": {
      "text/plain": [
       "559"
      ]
     },
     "execution_count": 19,
     "metadata": {},
     "output_type": "execute_result"
    }
   ],
   "source": [
    "df_minor.shape[0]"
   ]
  },
  {
   "cell_type": "code",
   "execution_count": 20,
   "metadata": {},
   "outputs": [],
   "source": [
    "df_minor_upsmapled = resample(df_minor, replace = True, n_samples = df_major.shape[0], random_state = 2018)"
   ]
  },
  {
   "cell_type": "code",
   "execution_count": 21,
   "metadata": {},
   "outputs": [],
   "source": [
    "df_minor_upsmapled = pd.concat([df_minor_upsmapled, df_major])"
   ]
  },
  {
   "cell_type": "code",
   "execution_count": 23,
   "metadata": {},
   "outputs": [
    {
     "data": {
      "text/plain": [
       "0.0    1041\n",
       "1.0    1041\n",
       "Name: label, dtype: int64"
      ]
     },
     "execution_count": 23,
     "metadata": {},
     "output_type": "execute_result"
    }
   ],
   "source": [
    "df_minor_upsmapled.label.value_counts()"
   ]
  },
  {
   "cell_type": "markdown",
   "metadata": {},
   "source": [
    "### Fetaure Scaling"
   ]
  },
  {
   "cell_type": "code",
   "execution_count": 24,
   "metadata": {},
   "outputs": [],
   "source": [
    "mms = StandardScaler()\n",
    "train_scale = mms.fit(df_minor_upsmapled.drop('label', axis=1))\n",
    "\n",
    "xtrain = train_scale.transform(df_minor_upsmapled.drop('label', axis=1))\n",
    "ytrain =  np.array(df_minor_upsmapled['label'].values)\n",
    "ytrain = ytrain.reshape(ytrain.shape[0], 1)\n",
    "\n",
    "xtest = train_scale.transform(df_test.drop('label', axis=1))\n",
    "ytest = np.array(df_test['label'].values)\n",
    "ytest = ytest.reshape(ytest.shape[0], 1)"
   ]
  },
  {
   "cell_type": "markdown",
   "metadata": {},
   "source": [
    "### Model prior weights"
   ]
  },
  {
   "cell_type": "code",
   "execution_count": 25,
   "metadata": {},
   "outputs": [],
   "source": [
    "## Hyperparameters\n",
    "N = np.shape(xtrain)[0]\n",
    "in_size = np.shape(xtrain)[1]\n",
    "out_size = 1\n",
    "l1 = 12 # Number of neurons in the first layer\n",
    "BATCH_SIZE = 32"
   ]
  },
  {
   "cell_type": "code",
   "execution_count": 26,
   "metadata": {},
   "outputs": [],
   "source": [
    "def neural_network(X, W_0, W_1, b_0, b_1):\n",
    "    hidden1 = tf.nn.relu(tf.matmul(X, W_0) + b_0)\n",
    "    output = tf.nn.sigmoid(tf.matmul(hidden1, W_1) + b_1)\n",
    "    return output"
   ]
  },
  {
   "cell_type": "markdown",
   "metadata": {},
   "source": [
    "### Define model prior"
   ]
  },
  {
   "cell_type": "code",
   "execution_count": 27,
   "metadata": {},
   "outputs": [],
   "source": [
    "with tf.name_scope('model_prior'):\n",
    "    \n",
    "    W_0 = Normal(loc = tf.zeros([in_size, l1], name=\"weights/loc_w_0\"), \n",
    "                 scale=tf.ones([in_size, l1], name=\"weights/scale_w_0\"),\n",
    "                 name  = 'weight_w_0')\n",
    "    W_1 = Normal(loc=tf.zeros([l1, out_size], name=\"weights/loc_w_1\"), \n",
    "                 scale=tf.ones([l1, out_size], name=\"weights/scale_w_1\"),\n",
    "                 name  = 'weight_w_1')\n",
    "    b_0 = Normal(loc=tf.zeros(l1, name=\"weights/loc_b_0\"), \n",
    "                 scale=tf.ones(l1, name=\"weights/scale_b_0\"),\n",
    "                 name  = 'weight_b_0')\n",
    "    b_1 = Normal(loc=tf.zeros(out_size, name=\"weights/loc_b_1\"),\n",
    "                 scale=tf.ones(out_size, name=\"weights/scale_b_1\"),\n",
    "                 name  = 'weight_b_1')\n",
    "    \n",
    "    X = tf.placeholder(tf.float32, shape = (None, in_size)) \n",
    "    y = Normal(loc = neural_network(X, W_0, W_1, b_0, b_1), scale = 1.0)     "
   ]
  },
  {
   "cell_type": "markdown",
   "metadata": {},
   "source": [
    "### Inference"
   ]
  },
  {
   "cell_type": "code",
   "execution_count": 28,
   "metadata": {},
   "outputs": [],
   "source": [
    "with tf.name_scope('model_prior'):\n",
    "    \n",
    "    W_0 = Normal(loc = tf.zeros([in_size, l1], name=\"weights/loc_w_0\"), \n",
    "                 scale=tf.ones([in_size, l1], name=\"weights/scale_w_0\"),\n",
    "                 name  = 'weight_w_0')\n",
    "    W_1 = Normal(loc=tf.zeros([l1, out_size], name=\"weights/loc_w_1\"), \n",
    "                 scale=tf.ones([l1, out_size], name=\"weights/scale_w_1\"),\n",
    "                 name  = 'weight_w_1')\n",
    "    b_0 = Normal(loc=tf.zeros(l1, name=\"weights/loc_b_0\"), \n",
    "                 scale=tf.ones(l1, name=\"weights/scale_b_0\"),\n",
    "                 name  = 'weight_b_0')\n",
    "    b_1 = Normal(loc=tf.zeros(out_size, name=\"weights/loc_b_1\"),\n",
    "                 scale=tf.ones(out_size, name=\"weights/scale_b_1\"),\n",
    "                 name  = 'weight_b_1')\n",
    "    \n",
    "    X = tf.placeholder(tf.float32, shape = (None, in_size)) \n",
    "    y = Normal(loc = neural_network(X, W_0, W_1, b_0, b_1), scale = 1.0)   "
   ]
  },
  {
   "cell_type": "code",
   "execution_count": 29,
   "metadata": {},
   "outputs": [],
   "source": [
    "with tf.name_scope('posterior'):\n",
    "    qW_0 = Normal(loc=tf.Variable(tf.random_normal([in_size, l1]), name = \"weights/loc_qw_0\" ), \n",
    "                  scale=tf.Variable(tf.random_normal([in_size, l1]), name = \"weights/scale_qw_0\"),\n",
    "                  name = \"weight_qw_0\")\n",
    "    \n",
    "    qW_1 = Normal(loc=tf.Variable(tf.random_normal([l1, out_size]), name = \"weights/loc_qw_1\" ), \n",
    "                  scale=tf.Variable(tf.random_normal([l1, out_size]), name = \"weights/loc_qw_1\" ),\n",
    "                  name = \"weight_qw_1\")\n",
    "    \n",
    "    qb_0 = Normal(loc=tf.Variable(tf.random_normal([l1]), name = \"weights/loc_qb_0\" ), \n",
    "                scale=tf.Variable(tf.random_normal([l1]), name = \"weights/loc_qb_0\" ),\n",
    "                name = \"weight_qb_0\")\n",
    "    qb_1 = Normal(loc=tf.Variable(tf.random_normal([out_size]), name = \"weights/loc_qb_1\" ), \n",
    "                scale=tf.Variable(tf.random_normal([out_size]), name = \"weights/loc_qb_1\" ),\n",
    "                name = \"weight_qb_1\")"
   ]
  },
  {
   "cell_type": "code",
   "execution_count": 30,
   "metadata": {},
   "outputs": [
    {
     "name": "stderr",
     "output_type": "stream",
     "text": [
      "/Users/sabber/anaconda3/lib/python3.6/site-packages/edward/util/random_variables.py:52: FutureWarning: Conversion of the second argument of issubdtype from `float` to `np.floating` is deprecated. In future, it will be treated as `np.float64 == np.dtype(float).type`.\n",
      "  not np.issubdtype(value.dtype, np.float) and \\\n"
     ]
    },
    {
     "name": "stdout",
     "output_type": "stream",
     "text": [
      "20000/20000 [100%] ██████████████████████████████ Elapsed: 33s | Loss: 2160.378\n"
     ]
    }
   ],
   "source": [
    "inference = ed.KLqp({W_0: qW_0, b_0: qb_0,\n",
    "                     W_1: qW_1, b_1: qb_1}, \n",
    "                    data={X: xtrain, \n",
    "                          y: ytrain})\n",
    "\n",
    "global_step = tf.Variable(0, trainable=False)\n",
    "starter_learning_rate = 0.05\n",
    "\n",
    "learning_rate = tf.train.exponential_decay(starter_learning_rate, global_step,\n",
    "                                           10000, 0.3, staircase=True)\n",
    "\n",
    "optimizer = tf.train.AdamOptimizer(learning_rate)\n",
    "\n",
    "inference.run(n_iter=20000, optimizer=optimizer, global_step=global_step)"
   ]
  },
  {
   "cell_type": "code",
   "execution_count": 34,
   "metadata": {},
   "outputs": [
    {
     "name": "stdout",
     "output_type": "stream",
     "text": [
      "Preparing to sample...\n",
      "Took 15 secs.\n",
      "Sampling...\n",
      "Took 8 secs.\n"
     ]
    }
   ],
   "source": [
    "n_samples = 1000\n",
    "\n",
    "qW_0_samples = qW_0.sample(sample_shape=n_samples)\n",
    "qW_1_samples = qW_1.sample(sample_shape=n_samples)\n",
    "qb_0_samples = qb_0.sample(sample_shape=n_samples)\n",
    "qb_1_samples = qb_1.sample(sample_shape=n_samples)\n",
    "\n",
    "print(\"Preparing to sample...\")\n",
    "\n",
    "t0 = time()\n",
    "samplenodes = tf.stack([neural_network(X, qW_0_samples[i], qW_1_samples[i],\n",
    "                                       qb_0_samples[i], qb_1_samples[i]) \n",
    "                        for i in range(n_samples)], axis=0)\n",
    "\n",
    "print(\"Took\", np.int(time() - t0), \"secs.\")\n",
    "\n",
    "print(\"Sampling...\")\n",
    "t0 = time()\n",
    "samplepredictions = samplenodes.eval(feed_dict={X: xtest})\n",
    "print(\"Took\", np.int(time() - t0), \"secs.\")"
   ]
  },
  {
   "cell_type": "code",
   "execution_count": 64,
   "metadata": {},
   "outputs": [],
   "source": [
    "predictions_samp = samplepredictions[:, :, 0]"
   ]
  },
  {
   "cell_type": "code",
   "execution_count": 152,
   "metadata": {},
   "outputs": [],
   "source": [
    "sns.set(color_codes=True)\n",
    "\n",
    "def plot_distribution(i):\n",
    "    xxx = samplepredictions[:, i, 0]\n",
    "    ax = sns.distplot(xxx, kde=False, fit=stats.gamma)\n",
    "    ax2 = ax.twinx()\n",
    "    sns.boxplot(x=xxx, ax=ax2)\n",
    "    ax2.set(ylim=(-.5, 10))\n",
    "    plt.show()"
   ]
  },
  {
   "cell_type": "code",
   "execution_count": 35,
   "metadata": {},
   "outputs": [],
   "source": [
    "probs = []\n",
    "centers = []\n",
    "\n",
    "for i in range(len(xtest)):\n",
    "    histogram = np.histogram(samplepredictions[:,i], bins=20)\n",
    "    probs.append(histogram[0] / n_samples)\n",
    "    delta = histogram[1][1] - histogram[1][0]\n",
    "    centers.append([np.float32(a + delta / 2) for a in histogram[1][:-1]])"
   ]
  },
  {
   "cell_type": "code",
   "execution_count": 36,
   "metadata": {},
   "outputs": [
    {
     "name": "stdout",
     "output_type": "stream",
     "text": [
      "Forming the posterior predictive distribution for test data point 1 / 400 ...\n",
      "Forming the posterior predictive distribution for test data point 2 / 400 ...\n",
      "Forming the posterior predictive distribution for test data point 3 / 400 ...\n",
      "Forming the posterior predictive distribution for test data point 4 / 400 ...\n",
      "Forming the posterior predictive distribution for test data point 5 / 400 ...\n",
      "Forming the posterior predictive distribution for test data point 6 / 400 ...\n",
      "Forming the posterior predictive distribution for test data point 7 / 400 ...\n",
      "Forming the posterior predictive distribution for test data point 8 / 400 ...\n",
      "Forming the posterior predictive distribution for test data point 9 / 400 ...\n",
      "Forming the posterior predictive distribution for test data point 10 / 400 ...\n",
      "Forming the posterior predictive distribution for test data point 11 / 400 ...\n",
      "Forming the posterior predictive distribution for test data point 12 / 400 ...\n",
      "Forming the posterior predictive distribution for test data point 13 / 400 ...\n",
      "Forming the posterior predictive distribution for test data point 14 / 400 ...\n",
      "Forming the posterior predictive distribution for test data point 15 / 400 ...\n",
      "Forming the posterior predictive distribution for test data point 16 / 400 ...\n",
      "Forming the posterior predictive distribution for test data point 17 / 400 ...\n",
      "Forming the posterior predictive distribution for test data point 18 / 400 ...\n",
      "Forming the posterior predictive distribution for test data point 19 / 400 ...\n",
      "Forming the posterior predictive distribution for test data point 20 / 400 ...\n",
      "Forming the posterior predictive distribution for test data point 21 / 400 ...\n",
      "Forming the posterior predictive distribution for test data point 22 / 400 ...\n",
      "Forming the posterior predictive distribution for test data point 23 / 400 ...\n",
      "Forming the posterior predictive distribution for test data point 24 / 400 ...\n",
      "Forming the posterior predictive distribution for test data point 25 / 400 ...\n",
      "Forming the posterior predictive distribution for test data point 26 / 400 ...\n",
      "Forming the posterior predictive distribution for test data point 27 / 400 ...\n",
      "Forming the posterior predictive distribution for test data point 28 / 400 ...\n",
      "Forming the posterior predictive distribution for test data point 29 / 400 ...\n",
      "Forming the posterior predictive distribution for test data point 30 / 400 ...\n",
      "Forming the posterior predictive distribution for test data point 31 / 400 ...\n",
      "Forming the posterior predictive distribution for test data point 32 / 400 ...\n",
      "Forming the posterior predictive distribution for test data point 33 / 400 ...\n",
      "Forming the posterior predictive distribution for test data point 34 / 400 ...\n",
      "Forming the posterior predictive distribution for test data point 35 / 400 ...\n",
      "Forming the posterior predictive distribution for test data point 36 / 400 ...\n",
      "Forming the posterior predictive distribution for test data point 37 / 400 ...\n",
      "Forming the posterior predictive distribution for test data point 38 / 400 ...\n",
      "Forming the posterior predictive distribution for test data point 39 / 400 ...\n",
      "Forming the posterior predictive distribution for test data point 40 / 400 ...\n",
      "Forming the posterior predictive distribution for test data point 41 / 400 ...\n",
      "Forming the posterior predictive distribution for test data point 42 / 400 ...\n",
      "Forming the posterior predictive distribution for test data point 43 / 400 ...\n",
      "Forming the posterior predictive distribution for test data point 44 / 400 ...\n",
      "Forming the posterior predictive distribution for test data point 45 / 400 ...\n",
      "Forming the posterior predictive distribution for test data point 46 / 400 ...\n",
      "Forming the posterior predictive distribution for test data point 47 / 400 ...\n",
      "Forming the posterior predictive distribution for test data point 48 / 400 ...\n",
      "Forming the posterior predictive distribution for test data point 49 / 400 ...\n",
      "Forming the posterior predictive distribution for test data point 50 / 400 ...\n",
      "Forming the posterior predictive distribution for test data point 51 / 400 ...\n",
      "Forming the posterior predictive distribution for test data point 52 / 400 ...\n",
      "Forming the posterior predictive distribution for test data point 53 / 400 ...\n",
      "Forming the posterior predictive distribution for test data point 54 / 400 ...\n",
      "Forming the posterior predictive distribution for test data point 55 / 400 ...\n",
      "Forming the posterior predictive distribution for test data point 56 / 400 ...\n",
      "Forming the posterior predictive distribution for test data point 57 / 400 ...\n",
      "Forming the posterior predictive distribution for test data point 58 / 400 ...\n",
      "Forming the posterior predictive distribution for test data point 59 / 400 ...\n",
      "Forming the posterior predictive distribution for test data point 60 / 400 ...\n",
      "Forming the posterior predictive distribution for test data point 61 / 400 ...\n",
      "Forming the posterior predictive distribution for test data point 62 / 400 ...\n",
      "Forming the posterior predictive distribution for test data point 63 / 400 ...\n",
      "Forming the posterior predictive distribution for test data point 64 / 400 ...\n",
      "Forming the posterior predictive distribution for test data point 65 / 400 ...\n",
      "Forming the posterior predictive distribution for test data point 66 / 400 ...\n",
      "Forming the posterior predictive distribution for test data point 67 / 400 ...\n",
      "Forming the posterior predictive distribution for test data point 68 / 400 ...\n",
      "Forming the posterior predictive distribution for test data point 69 / 400 ...\n",
      "Forming the posterior predictive distribution for test data point 70 / 400 ...\n",
      "Forming the posterior predictive distribution for test data point 71 / 400 ...\n",
      "Forming the posterior predictive distribution for test data point 72 / 400 ...\n",
      "Forming the posterior predictive distribution for test data point 73 / 400 ...\n",
      "Forming the posterior predictive distribution for test data point 74 / 400 ...\n",
      "Forming the posterior predictive distribution for test data point 75 / 400 ...\n",
      "Forming the posterior predictive distribution for test data point 76 / 400 ...\n",
      "Forming the posterior predictive distribution for test data point 77 / 400 ...\n",
      "Forming the posterior predictive distribution for test data point 78 / 400 ...\n",
      "Forming the posterior predictive distribution for test data point 79 / 400 ...\n",
      "Forming the posterior predictive distribution for test data point 80 / 400 ...\n",
      "Forming the posterior predictive distribution for test data point 81 / 400 ...\n",
      "Forming the posterior predictive distribution for test data point 82 / 400 ...\n",
      "Forming the posterior predictive distribution for test data point 83 / 400 ...\n",
      "Forming the posterior predictive distribution for test data point 84 / 400 ...\n",
      "Forming the posterior predictive distribution for test data point 85 / 400 ...\n",
      "Forming the posterior predictive distribution for test data point 86 / 400 ...\n",
      "Forming the posterior predictive distribution for test data point 87 / 400 ...\n",
      "Forming the posterior predictive distribution for test data point 88 / 400 ...\n",
      "Forming the posterior predictive distribution for test data point 89 / 400 ...\n",
      "Forming the posterior predictive distribution for test data point 90 / 400 ...\n",
      "Forming the posterior predictive distribution for test data point 91 / 400 ...\n",
      "Forming the posterior predictive distribution for test data point 92 / 400 ...\n",
      "Forming the posterior predictive distribution for test data point 93 / 400 ...\n",
      "Forming the posterior predictive distribution for test data point 94 / 400 ...\n",
      "Forming the posterior predictive distribution for test data point 95 / 400 ...\n",
      "Forming the posterior predictive distribution for test data point 96 / 400 ...\n",
      "Forming the posterior predictive distribution for test data point 97 / 400 ...\n",
      "Forming the posterior predictive distribution for test data point 98 / 400 ...\n",
      "Forming the posterior predictive distribution for test data point 99 / 400 ...\n",
      "Forming the posterior predictive distribution for test data point 100 / 400 ...\n",
      "Forming the posterior predictive distribution for test data point 101 / 400 ...\n",
      "Forming the posterior predictive distribution for test data point 102 / 400 ...\n",
      "Forming the posterior predictive distribution for test data point 103 / 400 ...\n",
      "Forming the posterior predictive distribution for test data point 104 / 400 ...\n",
      "Forming the posterior predictive distribution for test data point 105 / 400 ...\n",
      "Forming the posterior predictive distribution for test data point 106 / 400 ...\n",
      "Forming the posterior predictive distribution for test data point 107 / 400 ...\n",
      "Forming the posterior predictive distribution for test data point 108 / 400 ...\n",
      "Forming the posterior predictive distribution for test data point 109 / 400 ...\n",
      "Forming the posterior predictive distribution for test data point 110 / 400 ...\n",
      "Forming the posterior predictive distribution for test data point 111 / 400 ...\n",
      "Forming the posterior predictive distribution for test data point 112 / 400 ...\n",
      "Forming the posterior predictive distribution for test data point 113 / 400 ...\n",
      "Forming the posterior predictive distribution for test data point 114 / 400 ...\n",
      "Forming the posterior predictive distribution for test data point 115 / 400 ...\n",
      "Forming the posterior predictive distribution for test data point 116 / 400 ...\n",
      "Forming the posterior predictive distribution for test data point 117 / 400 ...\n",
      "Forming the posterior predictive distribution for test data point 118 / 400 ...\n",
      "Forming the posterior predictive distribution for test data point 119 / 400 ...\n",
      "Forming the posterior predictive distribution for test data point 120 / 400 ...\n",
      "Forming the posterior predictive distribution for test data point 121 / 400 ...\n",
      "Forming the posterior predictive distribution for test data point 122 / 400 ...\n",
      "Forming the posterior predictive distribution for test data point 123 / 400 ...\n",
      "Forming the posterior predictive distribution for test data point 124 / 400 ...\n",
      "Forming the posterior predictive distribution for test data point 125 / 400 ...\n",
      "Forming the posterior predictive distribution for test data point 126 / 400 ...\n",
      "Forming the posterior predictive distribution for test data point 127 / 400 ...\n",
      "Forming the posterior predictive distribution for test data point 128 / 400 ...\n",
      "Forming the posterior predictive distribution for test data point 129 / 400 ...\n",
      "Forming the posterior predictive distribution for test data point 130 / 400 ...\n",
      "Forming the posterior predictive distribution for test data point 131 / 400 ...\n",
      "Forming the posterior predictive distribution for test data point 132 / 400 ...\n",
      "Forming the posterior predictive distribution for test data point 133 / 400 ...\n",
      "Forming the posterior predictive distribution for test data point 134 / 400 ...\n",
      "Forming the posterior predictive distribution for test data point 135 / 400 ...\n",
      "Forming the posterior predictive distribution for test data point 136 / 400 ...\n",
      "Forming the posterior predictive distribution for test data point 137 / 400 ...\n",
      "Forming the posterior predictive distribution for test data point 138 / 400 ...\n",
      "Forming the posterior predictive distribution for test data point 139 / 400 ...\n",
      "Forming the posterior predictive distribution for test data point 140 / 400 ...\n",
      "Forming the posterior predictive distribution for test data point 141 / 400 ...\n",
      "Forming the posterior predictive distribution for test data point 142 / 400 ...\n",
      "Forming the posterior predictive distribution for test data point 143 / 400 ...\n",
      "Forming the posterior predictive distribution for test data point 144 / 400 ...\n",
      "Forming the posterior predictive distribution for test data point 145 / 400 ...\n",
      "Forming the posterior predictive distribution for test data point 146 / 400 ...\n",
      "Forming the posterior predictive distribution for test data point 147 / 400 ...\n",
      "Forming the posterior predictive distribution for test data point 148 / 400 ...\n",
      "Forming the posterior predictive distribution for test data point 149 / 400 ...\n",
      "Forming the posterior predictive distribution for test data point 150 / 400 ...\n",
      "Forming the posterior predictive distribution for test data point 151 / 400 ...\n",
      "Forming the posterior predictive distribution for test data point 152 / 400 ...\n",
      "Forming the posterior predictive distribution for test data point 153 / 400 ...\n",
      "Forming the posterior predictive distribution for test data point 154 / 400 ...\n",
      "Forming the posterior predictive distribution for test data point 155 / 400 ...\n",
      "Forming the posterior predictive distribution for test data point 156 / 400 ...\n",
      "Forming the posterior predictive distribution for test data point 157 / 400 ...\n",
      "Forming the posterior predictive distribution for test data point 158 / 400 ...\n",
      "Forming the posterior predictive distribution for test data point 159 / 400 ...\n",
      "Forming the posterior predictive distribution for test data point 160 / 400 ...\n",
      "Forming the posterior predictive distribution for test data point 161 / 400 ...\n",
      "Forming the posterior predictive distribution for test data point 162 / 400 ...\n",
      "Forming the posterior predictive distribution for test data point 163 / 400 ...\n",
      "Forming the posterior predictive distribution for test data point 164 / 400 ...\n",
      "Forming the posterior predictive distribution for test data point 165 / 400 ...\n",
      "Forming the posterior predictive distribution for test data point 166 / 400 ...\n",
      "Forming the posterior predictive distribution for test data point 167 / 400 ...\n",
      "Forming the posterior predictive distribution for test data point 168 / 400 ...\n",
      "Forming the posterior predictive distribution for test data point 169 / 400 ...\n",
      "Forming the posterior predictive distribution for test data point 170 / 400 ...\n",
      "Forming the posterior predictive distribution for test data point 171 / 400 ...\n",
      "Forming the posterior predictive distribution for test data point 172 / 400 ...\n",
      "Forming the posterior predictive distribution for test data point 173 / 400 ...\n",
      "Forming the posterior predictive distribution for test data point 174 / 400 ...\n",
      "Forming the posterior predictive distribution for test data point 175 / 400 ...\n",
      "Forming the posterior predictive distribution for test data point 176 / 400 ...\n",
      "Forming the posterior predictive distribution for test data point 177 / 400 ...\n",
      "Forming the posterior predictive distribution for test data point 178 / 400 ...\n",
      "Forming the posterior predictive distribution for test data point 179 / 400 ...\n",
      "Forming the posterior predictive distribution for test data point 180 / 400 ...\n",
      "Forming the posterior predictive distribution for test data point 181 / 400 ...\n",
      "Forming the posterior predictive distribution for test data point 182 / 400 ...\n",
      "Forming the posterior predictive distribution for test data point 183 / 400 ...\n",
      "Forming the posterior predictive distribution for test data point 184 / 400 ...\n",
      "Forming the posterior predictive distribution for test data point 185 / 400 ...\n",
      "Forming the posterior predictive distribution for test data point 186 / 400 ...\n",
      "Forming the posterior predictive distribution for test data point 187 / 400 ...\n",
      "Forming the posterior predictive distribution for test data point 188 / 400 ...\n",
      "Forming the posterior predictive distribution for test data point 189 / 400 ...\n",
      "Forming the posterior predictive distribution for test data point 190 / 400 ...\n",
      "Forming the posterior predictive distribution for test data point 191 / 400 ...\n",
      "Forming the posterior predictive distribution for test data point 192 / 400 ...\n",
      "Forming the posterior predictive distribution for test data point 193 / 400 ...\n",
      "Forming the posterior predictive distribution for test data point 194 / 400 ...\n",
      "Forming the posterior predictive distribution for test data point 195 / 400 ...\n",
      "Forming the posterior predictive distribution for test data point 196 / 400 ...\n",
      "Forming the posterior predictive distribution for test data point 197 / 400 ...\n",
      "Forming the posterior predictive distribution for test data point 198 / 400 ...\n",
      "Forming the posterior predictive distribution for test data point 199 / 400 ...\n",
      "Forming the posterior predictive distribution for test data point 200 / 400 ...\n",
      "Forming the posterior predictive distribution for test data point 201 / 400 ...\n",
      "Forming the posterior predictive distribution for test data point 202 / 400 ...\n",
      "Forming the posterior predictive distribution for test data point 203 / 400 ...\n",
      "Forming the posterior predictive distribution for test data point 204 / 400 ...\n",
      "Forming the posterior predictive distribution for test data point 205 / 400 ...\n",
      "Forming the posterior predictive distribution for test data point 206 / 400 ...\n",
      "Forming the posterior predictive distribution for test data point 207 / 400 ...\n",
      "Forming the posterior predictive distribution for test data point 208 / 400 ...\n",
      "Forming the posterior predictive distribution for test data point 209 / 400 ...\n",
      "Forming the posterior predictive distribution for test data point 210 / 400 ...\n",
      "Forming the posterior predictive distribution for test data point 211 / 400 ...\n",
      "Forming the posterior predictive distribution for test data point 212 / 400 ...\n",
      "Forming the posterior predictive distribution for test data point 213 / 400 ...\n",
      "Forming the posterior predictive distribution for test data point 214 / 400 ...\n",
      "Forming the posterior predictive distribution for test data point 215 / 400 ...\n",
      "Forming the posterior predictive distribution for test data point 216 / 400 ...\n",
      "Forming the posterior predictive distribution for test data point 217 / 400 ...\n",
      "Forming the posterior predictive distribution for test data point 218 / 400 ...\n",
      "Forming the posterior predictive distribution for test data point 219 / 400 ...\n",
      "Forming the posterior predictive distribution for test data point 220 / 400 ...\n",
      "Forming the posterior predictive distribution for test data point 221 / 400 ...\n",
      "Forming the posterior predictive distribution for test data point 222 / 400 ...\n",
      "Forming the posterior predictive distribution for test data point 223 / 400 ...\n",
      "Forming the posterior predictive distribution for test data point 224 / 400 ...\n",
      "Forming the posterior predictive distribution for test data point 225 / 400 ...\n",
      "Forming the posterior predictive distribution for test data point 226 / 400 ...\n",
      "Forming the posterior predictive distribution for test data point 227 / 400 ...\n",
      "Forming the posterior predictive distribution for test data point 228 / 400 ...\n",
      "Forming the posterior predictive distribution for test data point 229 / 400 ...\n",
      "Forming the posterior predictive distribution for test data point 230 / 400 ...\n",
      "Forming the posterior predictive distribution for test data point 231 / 400 ...\n",
      "Forming the posterior predictive distribution for test data point 232 / 400 ...\n",
      "Forming the posterior predictive distribution for test data point 233 / 400 ...\n",
      "Forming the posterior predictive distribution for test data point 234 / 400 ...\n",
      "Forming the posterior predictive distribution for test data point 235 / 400 ...\n",
      "Forming the posterior predictive distribution for test data point 236 / 400 ...\n",
      "Forming the posterior predictive distribution for test data point 237 / 400 ...\n",
      "Forming the posterior predictive distribution for test data point 238 / 400 ...\n",
      "Forming the posterior predictive distribution for test data point 239 / 400 ...\n",
      "Forming the posterior predictive distribution for test data point 240 / 400 ...\n",
      "Forming the posterior predictive distribution for test data point 241 / 400 ...\n",
      "Forming the posterior predictive distribution for test data point 242 / 400 ...\n",
      "Forming the posterior predictive distribution for test data point 243 / 400 ...\n",
      "Forming the posterior predictive distribution for test data point 244 / 400 ...\n",
      "Forming the posterior predictive distribution for test data point 245 / 400 ...\n",
      "Forming the posterior predictive distribution for test data point 246 / 400 ...\n",
      "Forming the posterior predictive distribution for test data point 247 / 400 ...\n",
      "Forming the posterior predictive distribution for test data point 248 / 400 ...\n",
      "Forming the posterior predictive distribution for test data point 249 / 400 ...\n",
      "Forming the posterior predictive distribution for test data point 250 / 400 ...\n",
      "Forming the posterior predictive distribution for test data point 251 / 400 ...\n",
      "Forming the posterior predictive distribution for test data point 252 / 400 ...\n",
      "Forming the posterior predictive distribution for test data point 253 / 400 ...\n",
      "Forming the posterior predictive distribution for test data point 254 / 400 ...\n",
      "Forming the posterior predictive distribution for test data point 255 / 400 ...\n",
      "Forming the posterior predictive distribution for test data point 256 / 400 ...\n",
      "Forming the posterior predictive distribution for test data point 257 / 400 ...\n",
      "Forming the posterior predictive distribution for test data point 258 / 400 ...\n",
      "Forming the posterior predictive distribution for test data point 259 / 400 ...\n",
      "Forming the posterior predictive distribution for test data point 260 / 400 ...\n",
      "Forming the posterior predictive distribution for test data point 261 / 400 ...\n",
      "Forming the posterior predictive distribution for test data point 262 / 400 ...\n",
      "Forming the posterior predictive distribution for test data point 263 / 400 ...\n",
      "Forming the posterior predictive distribution for test data point 264 / 400 ...\n",
      "Forming the posterior predictive distribution for test data point 265 / 400 ...\n",
      "Forming the posterior predictive distribution for test data point 266 / 400 ...\n",
      "Forming the posterior predictive distribution for test data point 267 / 400 ...\n",
      "Forming the posterior predictive distribution for test data point 268 / 400 ...\n",
      "Forming the posterior predictive distribution for test data point 269 / 400 ...\n",
      "Forming the posterior predictive distribution for test data point 270 / 400 ...\n",
      "Forming the posterior predictive distribution for test data point 271 / 400 ...\n",
      "Forming the posterior predictive distribution for test data point 272 / 400 ...\n",
      "Forming the posterior predictive distribution for test data point 273 / 400 ...\n",
      "Forming the posterior predictive distribution for test data point 274 / 400 ...\n",
      "Forming the posterior predictive distribution for test data point 275 / 400 ...\n",
      "Forming the posterior predictive distribution for test data point 276 / 400 ...\n",
      "Forming the posterior predictive distribution for test data point 277 / 400 ...\n",
      "Forming the posterior predictive distribution for test data point 278 / 400 ...\n",
      "Forming the posterior predictive distribution for test data point 279 / 400 ...\n",
      "Forming the posterior predictive distribution for test data point 280 / 400 ...\n",
      "Forming the posterior predictive distribution for test data point 281 / 400 ...\n",
      "Forming the posterior predictive distribution for test data point 282 / 400 ...\n",
      "Forming the posterior predictive distribution for test data point 283 / 400 ...\n",
      "Forming the posterior predictive distribution for test data point 284 / 400 ...\n",
      "Forming the posterior predictive distribution for test data point 285 / 400 ...\n",
      "Forming the posterior predictive distribution for test data point 286 / 400 ...\n",
      "Forming the posterior predictive distribution for test data point 287 / 400 ...\n",
      "Forming the posterior predictive distribution for test data point 288 / 400 ...\n",
      "Forming the posterior predictive distribution for test data point 289 / 400 ...\n",
      "Forming the posterior predictive distribution for test data point 290 / 400 ...\n",
      "Forming the posterior predictive distribution for test data point 291 / 400 ...\n",
      "Forming the posterior predictive distribution for test data point 292 / 400 ...\n",
      "Forming the posterior predictive distribution for test data point 293 / 400 ...\n",
      "Forming the posterior predictive distribution for test data point 294 / 400 ...\n",
      "Forming the posterior predictive distribution for test data point 295 / 400 ...\n",
      "Forming the posterior predictive distribution for test data point 296 / 400 ...\n",
      "Forming the posterior predictive distribution for test data point 297 / 400 ...\n",
      "Forming the posterior predictive distribution for test data point 298 / 400 ...\n",
      "Forming the posterior predictive distribution for test data point 299 / 400 ...\n",
      "Forming the posterior predictive distribution for test data point 300 / 400 ...\n",
      "Forming the posterior predictive distribution for test data point 301 / 400 ...\n",
      "Forming the posterior predictive distribution for test data point 302 / 400 ...\n",
      "Forming the posterior predictive distribution for test data point 303 / 400 ...\n",
      "Forming the posterior predictive distribution for test data point 304 / 400 ...\n",
      "Forming the posterior predictive distribution for test data point 305 / 400 ...\n",
      "Forming the posterior predictive distribution for test data point 306 / 400 ...\n",
      "Forming the posterior predictive distribution for test data point 307 / 400 ...\n",
      "Forming the posterior predictive distribution for test data point 308 / 400 ...\n",
      "Forming the posterior predictive distribution for test data point 309 / 400 ...\n",
      "Forming the posterior predictive distribution for test data point 310 / 400 ...\n",
      "Forming the posterior predictive distribution for test data point 311 / 400 ...\n",
      "Forming the posterior predictive distribution for test data point 312 / 400 ...\n",
      "Forming the posterior predictive distribution for test data point 313 / 400 ...\n",
      "Forming the posterior predictive distribution for test data point 314 / 400 ...\n",
      "Forming the posterior predictive distribution for test data point 315 / 400 ...\n",
      "Forming the posterior predictive distribution for test data point 316 / 400 ...\n",
      "Forming the posterior predictive distribution for test data point 317 / 400 ...\n",
      "Forming the posterior predictive distribution for test data point 318 / 400 ...\n",
      "Forming the posterior predictive distribution for test data point 319 / 400 ...\n",
      "Forming the posterior predictive distribution for test data point 320 / 400 ...\n",
      "Forming the posterior predictive distribution for test data point 321 / 400 ...\n",
      "Forming the posterior predictive distribution for test data point 322 / 400 ...\n",
      "Forming the posterior predictive distribution for test data point 323 / 400 ...\n",
      "Forming the posterior predictive distribution for test data point 324 / 400 ...\n",
      "Forming the posterior predictive distribution for test data point 325 / 400 ...\n",
      "Forming the posterior predictive distribution for test data point 326 / 400 ...\n",
      "Forming the posterior predictive distribution for test data point 327 / 400 ...\n",
      "Forming the posterior predictive distribution for test data point 328 / 400 ...\n",
      "Forming the posterior predictive distribution for test data point 329 / 400 ...\n",
      "Forming the posterior predictive distribution for test data point 330 / 400 ...\n",
      "Forming the posterior predictive distribution for test data point 331 / 400 ...\n",
      "Forming the posterior predictive distribution for test data point 332 / 400 ...\n",
      "Forming the posterior predictive distribution for test data point 333 / 400 ...\n",
      "Forming the posterior predictive distribution for test data point 334 / 400 ...\n",
      "Forming the posterior predictive distribution for test data point 335 / 400 ...\n",
      "Forming the posterior predictive distribution for test data point 336 / 400 ...\n",
      "Forming the posterior predictive distribution for test data point 337 / 400 ...\n",
      "Forming the posterior predictive distribution for test data point 338 / 400 ...\n",
      "Forming the posterior predictive distribution for test data point 339 / 400 ...\n",
      "Forming the posterior predictive distribution for test data point 340 / 400 ...\n",
      "Forming the posterior predictive distribution for test data point 341 / 400 ...\n",
      "Forming the posterior predictive distribution for test data point 342 / 400 ...\n",
      "Forming the posterior predictive distribution for test data point 343 / 400 ...\n",
      "Forming the posterior predictive distribution for test data point 344 / 400 ...\n",
      "Forming the posterior predictive distribution for test data point 345 / 400 ...\n",
      "Forming the posterior predictive distribution for test data point 346 / 400 ...\n",
      "Forming the posterior predictive distribution for test data point 347 / 400 ...\n",
      "Forming the posterior predictive distribution for test data point 348 / 400 ...\n",
      "Forming the posterior predictive distribution for test data point 349 / 400 ...\n",
      "Forming the posterior predictive distribution for test data point 350 / 400 ...\n",
      "Forming the posterior predictive distribution for test data point 351 / 400 ...\n",
      "Forming the posterior predictive distribution for test data point 352 / 400 ...\n",
      "Forming the posterior predictive distribution for test data point 353 / 400 ...\n",
      "Forming the posterior predictive distribution for test data point 354 / 400 ...\n",
      "Forming the posterior predictive distribution for test data point 355 / 400 ...\n",
      "Forming the posterior predictive distribution for test data point 356 / 400 ...\n",
      "Forming the posterior predictive distribution for test data point 357 / 400 ...\n",
      "Forming the posterior predictive distribution for test data point 358 / 400 ...\n",
      "Forming the posterior predictive distribution for test data point 359 / 400 ...\n",
      "Forming the posterior predictive distribution for test data point 360 / 400 ...\n",
      "Forming the posterior predictive distribution for test data point 361 / 400 ...\n",
      "Forming the posterior predictive distribution for test data point 362 / 400 ...\n",
      "Forming the posterior predictive distribution for test data point 363 / 400 ...\n",
      "Forming the posterior predictive distribution for test data point 364 / 400 ...\n",
      "Forming the posterior predictive distribution for test data point 365 / 400 ...\n",
      "Forming the posterior predictive distribution for test data point 366 / 400 ...\n",
      "Forming the posterior predictive distribution for test data point 367 / 400 ...\n",
      "Forming the posterior predictive distribution for test data point 368 / 400 ...\n",
      "Forming the posterior predictive distribution for test data point 369 / 400 ...\n",
      "Forming the posterior predictive distribution for test data point 370 / 400 ...\n",
      "Forming the posterior predictive distribution for test data point 371 / 400 ...\n",
      "Forming the posterior predictive distribution for test data point 372 / 400 ...\n",
      "Forming the posterior predictive distribution for test data point 373 / 400 ...\n",
      "Forming the posterior predictive distribution for test data point 374 / 400 ...\n",
      "Forming the posterior predictive distribution for test data point 375 / 400 ...\n",
      "Forming the posterior predictive distribution for test data point 376 / 400 ...\n",
      "Forming the posterior predictive distribution for test data point 377 / 400 ...\n",
      "Forming the posterior predictive distribution for test data point 378 / 400 ...\n",
      "Forming the posterior predictive distribution for test data point 379 / 400 ...\n",
      "Forming the posterior predictive distribution for test data point 380 / 400 ...\n",
      "Forming the posterior predictive distribution for test data point 381 / 400 ...\n",
      "Forming the posterior predictive distribution for test data point 382 / 400 ...\n",
      "Forming the posterior predictive distribution for test data point 383 / 400 ...\n",
      "Forming the posterior predictive distribution for test data point 384 / 400 ...\n",
      "Forming the posterior predictive distribution for test data point 385 / 400 ...\n",
      "Forming the posterior predictive distribution for test data point 386 / 400 ...\n",
      "Forming the posterior predictive distribution for test data point 387 / 400 ...\n",
      "Forming the posterior predictive distribution for test data point 388 / 400 ...\n",
      "Forming the posterior predictive distribution for test data point 389 / 400 ...\n",
      "Forming the posterior predictive distribution for test data point 390 / 400 ...\n",
      "Forming the posterior predictive distribution for test data point 391 / 400 ...\n",
      "Forming the posterior predictive distribution for test data point 392 / 400 ...\n",
      "Forming the posterior predictive distribution for test data point 393 / 400 ...\n",
      "Forming the posterior predictive distribution for test data point 394 / 400 ...\n",
      "Forming the posterior predictive distribution for test data point 395 / 400 ...\n",
      "Forming the posterior predictive distribution for test data point 396 / 400 ...\n",
      "Forming the posterior predictive distribution for test data point 397 / 400 ...\n",
      "Forming the posterior predictive distribution for test data point 398 / 400 ...\n",
      "Forming the posterior predictive distribution for test data point 399 / 400 ...\n",
      "Forming the posterior predictive distribution for test data point 400 / 400 ...\n",
      "Took altogether 369 secs.\n"
     ]
    }
   ],
   "source": [
    "from edward.models import Categorical, Mixture\n",
    "y_post = []\n",
    "\n",
    "t0 = time()\n",
    "for i in range(len(xtest)):\n",
    "    print(\"Forming the posterior predictive distribution for test data point\", i+1, \"/\", len(xtest), \"...\")\n",
    "    y_post.append(Mixture(Categorical(probs = probs[i]), \n",
    "                  [Normal(loc=centers[i][j], scale=1.0) for j in range(len(centers[i]))]))\n",
    "    \n",
    "print(\"Took altogether\", np.int(time() - t0), \"secs.\")"
   ]
  },
  {
   "cell_type": "code",
   "execution_count": 37,
   "metadata": {},
   "outputs": [
    {
     "name": "stdout",
     "output_type": "stream",
     "text": [
      "Sampling the posterior predictive distribution for 400 test data points...\n",
      "Took 2170 secs.\n"
     ]
    }
   ],
   "source": [
    "t0 = time()\n",
    "print(\"Sampling the posterior predictive distribution for\", len(xtest), \"test data points...\")\n",
    "posteriorsamplenodes = tf.stack([y_post[i].sample(n_samples) for i in range(len(xtest))], axis=1)\n",
    "posteriorsamples = pd.DataFrame(posteriorsamplenodes.eval())\n",
    "print(\"Took\", np.int(time() - t0), \"secs.\")"
   ]
  },
  {
   "cell_type": "code",
   "execution_count": 134,
   "metadata": {},
   "outputs": [],
   "source": [
    "results = pd.DataFrame()\n",
    "results['target'] = list(ytest)"
   ]
  },
  {
   "cell_type": "code",
   "execution_count": 135,
   "metadata": {},
   "outputs": [],
   "source": [
    "results['predictions'] = predictions_samp.mean(axis = 0)\n",
    "results['pred_std'] = predictions_samp.std(axis = 0)\n",
    "results['pred_var'] = predictions_samp.var(axis = 0)"
   ]
  },
  {
   "cell_type": "code",
   "execution_count": 178,
   "metadata": {},
   "outputs": [],
   "source": [
    "zzz = stats.norm.interval(0.68, loc = results['predictions'], scale = results['pred_std'])\n",
    "# np.transpose(zzz)[:, 0]\n",
    "results['confidence_low'] = np.transpose(zzz)[:, 0]\n",
    "results['confidence_high'] = np.transpose(zzz)[:, 1]\n",
    "results['confidence_range'] = np.absolute(results['confidence_high'] - results['confidence_low'])"
   ]
  },
  {
   "cell_type": "code",
   "execution_count": 179,
   "metadata": {},
   "outputs": [],
   "source": [
    "ypred = []\n",
    "for pred in results['predictions']:\n",
    "    if pred > 0.5:\n",
    "        ypred.append(1)\n",
    "    else:\n",
    "        ypred.append(0)"
   ]
  },
  {
   "cell_type": "code",
   "execution_count": 180,
   "metadata": {},
   "outputs": [],
   "source": [
    "results['bin_pred'] = ypred"
   ]
  },
  {
   "cell_type": "code",
   "execution_count": 181,
   "metadata": {},
   "outputs": [],
   "source": [
    "correct = results[(results.target == results.bin_pred)]"
   ]
  },
  {
   "cell_type": "code",
   "execution_count": 182,
   "metadata": {},
   "outputs": [],
   "source": [
    "incorrect = results[(results.target != results.bin_pred)]"
   ]
  },
  {
   "cell_type": "code",
   "execution_count": 183,
   "metadata": {},
   "outputs": [
    {
     "data": {
      "text/plain": [
       "Index(['target', 'predictions', 'pred_std', 'pred_var', 'confidence_low',\n",
       "       'confidence_high', 'confidence_range', 'bin_pred'],\n",
       "      dtype='object')"
      ]
     },
     "execution_count": 183,
     "metadata": {},
     "output_type": "execute_result"
    }
   ],
   "source": [
    "correct.columns"
   ]
  },
  {
   "cell_type": "code",
   "execution_count": 184,
   "metadata": {},
   "outputs": [
    {
     "data": {
      "text/plain": [
       "0.2682205079903895"
      ]
     },
     "execution_count": 184,
     "metadata": {},
     "output_type": "execute_result"
    }
   ],
   "source": [
    "incorrect.confidence_range[(incorrect.bin_pred == 0)].mean(axis = 0)"
   ]
  },
  {
   "cell_type": "code",
   "execution_count": 185,
   "metadata": {},
   "outputs": [
    {
     "data": {
      "text/plain": [
       "0.2587156542105586"
      ]
     },
     "execution_count": 185,
     "metadata": {},
     "output_type": "execute_result"
    }
   ],
   "source": [
    "correct.confidence_range[(correct.bin_pred == 0)].mean(axis = 0)"
   ]
  },
  {
   "cell_type": "code",
   "execution_count": 186,
   "metadata": {},
   "outputs": [
    {
     "data": {
      "text/html": [
       "<div>\n",
       "<style scoped>\n",
       "    .dataframe tbody tr th:only-of-type {\n",
       "        vertical-align: middle;\n",
       "    }\n",
       "\n",
       "    .dataframe tbody tr th {\n",
       "        vertical-align: top;\n",
       "    }\n",
       "\n",
       "    .dataframe thead th {\n",
       "        text-align: right;\n",
       "    }\n",
       "</style>\n",
       "<table border=\"1\" class=\"dataframe\">\n",
       "  <thead>\n",
       "    <tr style=\"text-align: right;\">\n",
       "      <th></th>\n",
       "      <th>target</th>\n",
       "      <th>predictions</th>\n",
       "      <th>pred_std</th>\n",
       "      <th>pred_var</th>\n",
       "      <th>confidence_low</th>\n",
       "      <th>confidence_high</th>\n",
       "      <th>confidence_range</th>\n",
       "      <th>bin_pred</th>\n",
       "    </tr>\n",
       "  </thead>\n",
       "  <tbody>\n",
       "    <tr>\n",
       "      <th>0</th>\n",
       "      <td>[0.0]</td>\n",
       "      <td>0.255379</td>\n",
       "      <td>0.097364</td>\n",
       "      <td>0.009480</td>\n",
       "      <td>0.158554</td>\n",
       "      <td>0.352203</td>\n",
       "      <td>0.193649</td>\n",
       "      <td>0</td>\n",
       "    </tr>\n",
       "    <tr>\n",
       "      <th>1</th>\n",
       "      <td>[1.0]</td>\n",
       "      <td>0.941344</td>\n",
       "      <td>0.049162</td>\n",
       "      <td>0.002417</td>\n",
       "      <td>0.892454</td>\n",
       "      <td>0.990234</td>\n",
       "      <td>0.097779</td>\n",
       "      <td>1</td>\n",
       "    </tr>\n",
       "    <tr>\n",
       "      <th>2</th>\n",
       "      <td>[0.0]</td>\n",
       "      <td>0.219974</td>\n",
       "      <td>0.139833</td>\n",
       "      <td>0.019553</td>\n",
       "      <td>0.080916</td>\n",
       "      <td>0.359031</td>\n",
       "      <td>0.278115</td>\n",
       "      <td>0</td>\n",
       "    </tr>\n",
       "    <tr>\n",
       "      <th>3</th>\n",
       "      <td>[0.0]</td>\n",
       "      <td>0.268271</td>\n",
       "      <td>0.123672</td>\n",
       "      <td>0.015295</td>\n",
       "      <td>0.145284</td>\n",
       "      <td>0.391257</td>\n",
       "      <td>0.245973</td>\n",
       "      <td>0</td>\n",
       "    </tr>\n",
       "    <tr>\n",
       "      <th>4</th>\n",
       "      <td>[1.0]</td>\n",
       "      <td>0.625211</td>\n",
       "      <td>0.205229</td>\n",
       "      <td>0.042119</td>\n",
       "      <td>0.421119</td>\n",
       "      <td>0.829302</td>\n",
       "      <td>0.408183</td>\n",
       "      <td>1</td>\n",
       "    </tr>\n",
       "    <tr>\n",
       "      <th>5</th>\n",
       "      <td>[0.0]</td>\n",
       "      <td>0.263103</td>\n",
       "      <td>0.091459</td>\n",
       "      <td>0.008365</td>\n",
       "      <td>0.172151</td>\n",
       "      <td>0.354055</td>\n",
       "      <td>0.181904</td>\n",
       "      <td>0</td>\n",
       "    </tr>\n",
       "    <tr>\n",
       "      <th>6</th>\n",
       "      <td>[1.0]</td>\n",
       "      <td>0.563176</td>\n",
       "      <td>0.115885</td>\n",
       "      <td>0.013429</td>\n",
       "      <td>0.447933</td>\n",
       "      <td>0.678419</td>\n",
       "      <td>0.230486</td>\n",
       "      <td>1</td>\n",
       "    </tr>\n",
       "    <tr>\n",
       "      <th>7</th>\n",
       "      <td>[0.0]</td>\n",
       "      <td>0.242869</td>\n",
       "      <td>0.100733</td>\n",
       "      <td>0.010147</td>\n",
       "      <td>0.142694</td>\n",
       "      <td>0.343043</td>\n",
       "      <td>0.200349</td>\n",
       "      <td>0</td>\n",
       "    </tr>\n",
       "    <tr>\n",
       "      <th>8</th>\n",
       "      <td>[0.0]</td>\n",
       "      <td>0.272457</td>\n",
       "      <td>0.087893</td>\n",
       "      <td>0.007725</td>\n",
       "      <td>0.185051</td>\n",
       "      <td>0.359863</td>\n",
       "      <td>0.174812</td>\n",
       "      <td>0</td>\n",
       "    </tr>\n",
       "    <tr>\n",
       "      <th>9</th>\n",
       "      <td>[0.0]</td>\n",
       "      <td>0.239843</td>\n",
       "      <td>0.111855</td>\n",
       "      <td>0.012512</td>\n",
       "      <td>0.128608</td>\n",
       "      <td>0.351078</td>\n",
       "      <td>0.222470</td>\n",
       "      <td>0</td>\n",
       "    </tr>\n",
       "  </tbody>\n",
       "</table>\n",
       "</div>"
      ],
      "text/plain": [
       "  target  predictions  pred_std  pred_var  confidence_low  confidence_high  \\\n",
       "0  [0.0]     0.255379  0.097364  0.009480        0.158554         0.352203   \n",
       "1  [1.0]     0.941344  0.049162  0.002417        0.892454         0.990234   \n",
       "2  [0.0]     0.219974  0.139833  0.019553        0.080916         0.359031   \n",
       "3  [0.0]     0.268271  0.123672  0.015295        0.145284         0.391257   \n",
       "4  [1.0]     0.625211  0.205229  0.042119        0.421119         0.829302   \n",
       "5  [0.0]     0.263103  0.091459  0.008365        0.172151         0.354055   \n",
       "6  [1.0]     0.563176  0.115885  0.013429        0.447933         0.678419   \n",
       "7  [0.0]     0.242869  0.100733  0.010147        0.142694         0.343043   \n",
       "8  [0.0]     0.272457  0.087893  0.007725        0.185051         0.359863   \n",
       "9  [0.0]     0.239843  0.111855  0.012512        0.128608         0.351078   \n",
       "\n",
       "   confidence_range  bin_pred  \n",
       "0          0.193649         0  \n",
       "1          0.097779         1  \n",
       "2          0.278115         0  \n",
       "3          0.245973         0  \n",
       "4          0.408183         1  \n",
       "5          0.181904         0  \n",
       "6          0.230486         1  \n",
       "7          0.200349         0  \n",
       "8          0.174812         0  \n",
       "9          0.222470         0  "
      ]
     },
     "execution_count": 186,
     "metadata": {},
     "output_type": "execute_result"
    }
   ],
   "source": [
    "correct.head(10)"
   ]
  },
  {
   "cell_type": "code",
   "execution_count": 187,
   "metadata": {},
   "outputs": [
    {
     "data": {
      "text/html": [
       "<div>\n",
       "<style scoped>\n",
       "    .dataframe tbody tr th:only-of-type {\n",
       "        vertical-align: middle;\n",
       "    }\n",
       "\n",
       "    .dataframe tbody tr th {\n",
       "        vertical-align: top;\n",
       "    }\n",
       "\n",
       "    .dataframe thead th {\n",
       "        text-align: right;\n",
       "    }\n",
       "</style>\n",
       "<table border=\"1\" class=\"dataframe\">\n",
       "  <thead>\n",
       "    <tr style=\"text-align: right;\">\n",
       "      <th></th>\n",
       "      <th>target</th>\n",
       "      <th>predictions</th>\n",
       "      <th>pred_std</th>\n",
       "      <th>pred_var</th>\n",
       "      <th>confidence_low</th>\n",
       "      <th>confidence_high</th>\n",
       "      <th>confidence_range</th>\n",
       "      <th>bin_pred</th>\n",
       "    </tr>\n",
       "  </thead>\n",
       "  <tbody>\n",
       "    <tr>\n",
       "      <th>11</th>\n",
       "      <td>[0.0]</td>\n",
       "      <td>0.604984</td>\n",
       "      <td>0.140548</td>\n",
       "      <td>0.019754</td>\n",
       "      <td>0.465214</td>\n",
       "      <td>0.744753</td>\n",
       "      <td>0.279538</td>\n",
       "      <td>1</td>\n",
       "    </tr>\n",
       "    <tr>\n",
       "      <th>18</th>\n",
       "      <td>[1.0]</td>\n",
       "      <td>0.489839</td>\n",
       "      <td>0.115475</td>\n",
       "      <td>0.013335</td>\n",
       "      <td>0.375004</td>\n",
       "      <td>0.604674</td>\n",
       "      <td>0.229670</td>\n",
       "      <td>0</td>\n",
       "    </tr>\n",
       "    <tr>\n",
       "      <th>23</th>\n",
       "      <td>[0.0]</td>\n",
       "      <td>0.676808</td>\n",
       "      <td>0.198931</td>\n",
       "      <td>0.039574</td>\n",
       "      <td>0.478979</td>\n",
       "      <td>0.874637</td>\n",
       "      <td>0.395658</td>\n",
       "      <td>1</td>\n",
       "    </tr>\n",
       "    <tr>\n",
       "      <th>36</th>\n",
       "      <td>[1.0]</td>\n",
       "      <td>0.432259</td>\n",
       "      <td>0.177176</td>\n",
       "      <td>0.031391</td>\n",
       "      <td>0.256064</td>\n",
       "      <td>0.608453</td>\n",
       "      <td>0.352389</td>\n",
       "      <td>0</td>\n",
       "    </tr>\n",
       "    <tr>\n",
       "      <th>38</th>\n",
       "      <td>[0.0]</td>\n",
       "      <td>0.665777</td>\n",
       "      <td>0.194176</td>\n",
       "      <td>0.037704</td>\n",
       "      <td>0.472677</td>\n",
       "      <td>0.858877</td>\n",
       "      <td>0.386200</td>\n",
       "      <td>1</td>\n",
       "    </tr>\n",
       "    <tr>\n",
       "      <th>42</th>\n",
       "      <td>[0.0]</td>\n",
       "      <td>0.629658</td>\n",
       "      <td>0.227872</td>\n",
       "      <td>0.051926</td>\n",
       "      <td>0.403049</td>\n",
       "      <td>0.856267</td>\n",
       "      <td>0.453218</td>\n",
       "      <td>1</td>\n",
       "    </tr>\n",
       "    <tr>\n",
       "      <th>45</th>\n",
       "      <td>[0.0]</td>\n",
       "      <td>0.502172</td>\n",
       "      <td>0.199347</td>\n",
       "      <td>0.039739</td>\n",
       "      <td>0.303930</td>\n",
       "      <td>0.700414</td>\n",
       "      <td>0.396483</td>\n",
       "      <td>1</td>\n",
       "    </tr>\n",
       "    <tr>\n",
       "      <th>49</th>\n",
       "      <td>[1.0]</td>\n",
       "      <td>0.437930</td>\n",
       "      <td>0.153794</td>\n",
       "      <td>0.023653</td>\n",
       "      <td>0.284989</td>\n",
       "      <td>0.590872</td>\n",
       "      <td>0.305883</td>\n",
       "      <td>0</td>\n",
       "    </tr>\n",
       "    <tr>\n",
       "      <th>51</th>\n",
       "      <td>[0.0]</td>\n",
       "      <td>0.504720</td>\n",
       "      <td>0.193459</td>\n",
       "      <td>0.037426</td>\n",
       "      <td>0.312333</td>\n",
       "      <td>0.697107</td>\n",
       "      <td>0.384774</td>\n",
       "      <td>1</td>\n",
       "    </tr>\n",
       "    <tr>\n",
       "      <th>66</th>\n",
       "      <td>[1.0]</td>\n",
       "      <td>0.275402</td>\n",
       "      <td>0.143836</td>\n",
       "      <td>0.020689</td>\n",
       "      <td>0.132363</td>\n",
       "      <td>0.418441</td>\n",
       "      <td>0.286078</td>\n",
       "      <td>0</td>\n",
       "    </tr>\n",
       "  </tbody>\n",
       "</table>\n",
       "</div>"
      ],
      "text/plain": [
       "   target  predictions  pred_std  pred_var  confidence_low  confidence_high  \\\n",
       "11  [0.0]     0.604984  0.140548  0.019754        0.465214         0.744753   \n",
       "18  [1.0]     0.489839  0.115475  0.013335        0.375004         0.604674   \n",
       "23  [0.0]     0.676808  0.198931  0.039574        0.478979         0.874637   \n",
       "36  [1.0]     0.432259  0.177176  0.031391        0.256064         0.608453   \n",
       "38  [0.0]     0.665777  0.194176  0.037704        0.472677         0.858877   \n",
       "42  [0.0]     0.629658  0.227872  0.051926        0.403049         0.856267   \n",
       "45  [0.0]     0.502172  0.199347  0.039739        0.303930         0.700414   \n",
       "49  [1.0]     0.437930  0.153794  0.023653        0.284989         0.590872   \n",
       "51  [0.0]     0.504720  0.193459  0.037426        0.312333         0.697107   \n",
       "66  [1.0]     0.275402  0.143836  0.020689        0.132363         0.418441   \n",
       "\n",
       "    confidence_range  bin_pred  \n",
       "11          0.279538         1  \n",
       "18          0.229670         0  \n",
       "23          0.395658         1  \n",
       "36          0.352389         0  \n",
       "38          0.386200         1  \n",
       "42          0.453218         1  \n",
       "45          0.396483         1  \n",
       "49          0.305883         0  \n",
       "51          0.384774         1  \n",
       "66          0.286078         0  "
      ]
     },
     "execution_count": 187,
     "metadata": {},
     "output_type": "execute_result"
    }
   ],
   "source": [
    "incorrect.head(10)"
   ]
  },
  {
   "cell_type": "code",
   "execution_count": 190,
   "metadata": {},
   "outputs": [
    {
     "name": "stderr",
     "output_type": "stream",
     "text": [
      "/Users/sabber/anaconda3/lib/python3.6/site-packages/matplotlib/axes/_axes.py:6462: UserWarning: The 'normed' kwarg is deprecated, and has been replaced by the 'density' kwarg.\n",
      "  warnings.warn(\"The 'normed' kwarg is deprecated, and has been \"\n"
     ]
    },
    {
     "data": {
      "image/png": "[encoded data removed]",
      "text/plain": [
       "<Figure size 432x288 with 2 Axes>"
      ]
     },
     "metadata": {},
     "output_type": "display_data"
    }
   ],
   "source": [
    "plot_distribution(66)"
   ]
  },
  {
   "cell_type": "code",
   "execution_count": 86,
   "metadata": {},
   "outputs": [],
   "source": [
    "from sklearn.metrics import accuracy_score, classification_report, confusion_matrix"
   ]
  },
  {
   "cell_type": "code",
   "execution_count": 87,
   "metadata": {},
   "outputs": [],
   "source": [
    "def prediction(ytest, ypred):\n",
    "    print('Accuracy of the model: {}\\n'.format(accuracy_score(ytest, ypred)))\n",
    "    print('Classification report: \\n{}\\n'.format(classification_report(ytest, ypred)))\n",
    "    print('Confusion matrix: \\n{}\\n'.format(confusion_matrix(ytest, ypred)))"
   ]
  },
  {
   "cell_type": "code",
   "execution_count": 88,
   "metadata": {},
   "outputs": [
    {
     "name": "stdout",
     "output_type": "stream",
     "text": [
      "Accuracy of the model: 0.8075\n",
      "\n",
      "Classification report: \n",
      "             precision    recall  f1-score   support\n",
      "\n",
      "        0.0       0.91      0.80      0.85       272\n",
      "        1.0       0.66      0.83      0.73       128\n",
      "\n",
      "avg / total       0.83      0.81      0.81       400\n",
      "\n",
      "\n",
      "Confusion matrix: \n",
      "[[217  55]\n",
      " [ 22 106]]\n",
      "\n"
     ]
    }
   ],
   "source": [
    "prediction(ytest, ypred)"
   ]
  },
  {
   "cell_type": "markdown",
   "metadata": {},
   "source": [
    "### Result vizualisation"
   ]
  },
  {
   "cell_type": "code",
   "execution_count": 205,
   "metadata": {},
   "outputs": [],
   "source": [
    "from sklearn.decomposition import PCA\n",
    "\n",
    "pca = PCA(n_components = 2, random_state = 2018).fit_transform(xtrain)"
   ]
  },
  {
   "cell_type": "code",
   "execution_count": 207,
   "metadata": {},
   "outputs": [
    {
     "data": {
      "text/plain": [
       "(2082, 8)"
      ]
     },
     "execution_count": 207,
     "metadata": {},
     "output_type": "execute_result"
    }
   ],
   "source": [
    "np.shape(xtrain)"
   ]
  },
  {
   "cell_type": "code",
   "execution_count": 195,
   "metadata": {},
   "outputs": [
    {
     "ename": "ValueError",
     "evalue": "c of shape (2082, 1) not acceptable as a color sequence for x with size 2082, y with size 2082",
     "output_type": "error",
     "traceback": [
      "\u001b[0;31m---------------------------------------------------------------------------\u001b[0m",
      "\u001b[0;31mTypeError\u001b[0m                                 Traceback (most recent call last)",
      "\u001b[0;32m~/anaconda3/lib/python3.6/site-packages/matplotlib/colors.py\u001b[0m in \u001b[0;36mto_rgba\u001b[0;34m(c, alpha)\u001b[0m\n\u001b[1;32m    165\u001b[0m     \u001b[0;32mtry\u001b[0m\u001b[0;34m:\u001b[0m\u001b[0;34m\u001b[0m\u001b[0m\n\u001b[0;32m--> 166\u001b[0;31m         \u001b[0mrgba\u001b[0m \u001b[0;34m=\u001b[0m \u001b[0m_colors_full_map\u001b[0m\u001b[0;34m.\u001b[0m\u001b[0mcache\u001b[0m\u001b[0;34m[\u001b[0m\u001b[0mc\u001b[0m\u001b[0;34m,\u001b[0m \u001b[0malpha\u001b[0m\u001b[0;34m]\u001b[0m\u001b[0;34m\u001b[0m\u001b[0m\n\u001b[0m\u001b[1;32m    167\u001b[0m     \u001b[0;32mexcept\u001b[0m \u001b[0;34m(\u001b[0m\u001b[0mKeyError\u001b[0m\u001b[0;34m,\u001b[0m \u001b[0mTypeError\u001b[0m\u001b[0;34m)\u001b[0m\u001b[0;34m:\u001b[0m  \u001b[0;31m# Not in cache, or unhashable.\u001b[0m\u001b[0;34m\u001b[0m\u001b[0m\n",
      "\u001b[0;31mTypeError\u001b[0m: unhashable type: 'numpy.ndarray'",
      "\nDuring handling of the above exception, another exception occurred:\n",
      "\u001b[0;31mValueError\u001b[0m                                Traceback (most recent call last)",
      "\u001b[0;32m~/anaconda3/lib/python3.6/site-packages/matplotlib/axes/_axes.py\u001b[0m in \u001b[0;36mscatter\u001b[0;34m(self, x, y, s, c, marker, cmap, norm, vmin, vmax, alpha, linewidths, verts, edgecolors, **kwargs)\u001b[0m\n\u001b[1;32m   4273\u001b[0m                 \u001b[0;31m# must be acceptable as PathCollection facecolors\u001b[0m\u001b[0;34m\u001b[0m\u001b[0;34m\u001b[0m\u001b[0m\n\u001b[0;32m-> 4274\u001b[0;31m                 \u001b[0mcolors\u001b[0m \u001b[0;34m=\u001b[0m \u001b[0mmcolors\u001b[0m\u001b[0;34m.\u001b[0m\u001b[0mto_rgba_array\u001b[0m\u001b[0;34m(\u001b[0m\u001b[0mc\u001b[0m\u001b[0;34m)\u001b[0m\u001b[0;34m\u001b[0m\u001b[0m\n\u001b[0m\u001b[1;32m   4275\u001b[0m             \u001b[0;32mexcept\u001b[0m \u001b[0mValueError\u001b[0m\u001b[0;34m:\u001b[0m\u001b[0;34m\u001b[0m\u001b[0m\n",
      "\u001b[0;32m~/anaconda3/lib/python3.6/site-packages/matplotlib/colors.py\u001b[0m in \u001b[0;36mto_rgba_array\u001b[0;34m(c, alpha)\u001b[0m\n\u001b[1;32m    266\u001b[0m     \u001b[0;32mfor\u001b[0m \u001b[0mi\u001b[0m\u001b[0;34m,\u001b[0m \u001b[0mcc\u001b[0m \u001b[0;32min\u001b[0m \u001b[0menumerate\u001b[0m\u001b[0;34m(\u001b[0m\u001b[0mc\u001b[0m\u001b[0;34m)\u001b[0m\u001b[0;34m:\u001b[0m\u001b[0;34m\u001b[0m\u001b[0m\n\u001b[0;32m--> 267\u001b[0;31m         \u001b[0mresult\u001b[0m\u001b[0;34m[\u001b[0m\u001b[0mi\u001b[0m\u001b[0;34m]\u001b[0m \u001b[0;34m=\u001b[0m \u001b[0mto_rgba\u001b[0m\u001b[0;34m(\u001b[0m\u001b[0mcc\u001b[0m\u001b[0;34m,\u001b[0m \u001b[0malpha\u001b[0m\u001b[0;34m)\u001b[0m\u001b[0;34m\u001b[0m\u001b[0m\n\u001b[0m\u001b[1;32m    268\u001b[0m     \u001b[0;32mreturn\u001b[0m \u001b[0mresult\u001b[0m\u001b[0;34m\u001b[0m\u001b[0m\n",
      "\u001b[0;32m~/anaconda3/lib/python3.6/site-packages/matplotlib/colors.py\u001b[0m in \u001b[0;36mto_rgba\u001b[0;34m(c, alpha)\u001b[0m\n\u001b[1;32m    167\u001b[0m     \u001b[0;32mexcept\u001b[0m \u001b[0;34m(\u001b[0m\u001b[0mKeyError\u001b[0m\u001b[0;34m,\u001b[0m \u001b[0mTypeError\u001b[0m\u001b[0;34m)\u001b[0m\u001b[0;34m:\u001b[0m  \u001b[0;31m# Not in cache, or unhashable.\u001b[0m\u001b[0;34m\u001b[0m\u001b[0m\n\u001b[0;32m--> 168\u001b[0;31m         \u001b[0mrgba\u001b[0m \u001b[0;34m=\u001b[0m \u001b[0m_to_rgba_no_colorcycle\u001b[0m\u001b[0;34m(\u001b[0m\u001b[0mc\u001b[0m\u001b[0;34m,\u001b[0m \u001b[0malpha\u001b[0m\u001b[0;34m)\u001b[0m\u001b[0;34m\u001b[0m\u001b[0m\n\u001b[0m\u001b[1;32m    169\u001b[0m         \u001b[0;32mtry\u001b[0m\u001b[0;34m:\u001b[0m\u001b[0;34m\u001b[0m\u001b[0m\n",
      "\u001b[0;32m~/anaconda3/lib/python3.6/site-packages/matplotlib/colors.py\u001b[0m in \u001b[0;36m_to_rgba_no_colorcycle\u001b[0;34m(c, alpha)\u001b[0m\n\u001b[1;32m    222\u001b[0m     \u001b[0;32mif\u001b[0m \u001b[0mlen\u001b[0m\u001b[0;34m(\u001b[0m\u001b[0mc\u001b[0m\u001b[0;34m)\u001b[0m \u001b[0;32mnot\u001b[0m \u001b[0;32min\u001b[0m \u001b[0;34m[\u001b[0m\u001b[0;36m3\u001b[0m\u001b[0;34m,\u001b[0m \u001b[0;36m4\u001b[0m\u001b[0;34m]\u001b[0m\u001b[0;34m:\u001b[0m\u001b[0;34m\u001b[0m\u001b[0m\n\u001b[0;32m--> 223\u001b[0;31m         \u001b[0;32mraise\u001b[0m \u001b[0mValueError\u001b[0m\u001b[0;34m(\u001b[0m\u001b[0;34m\"RGBA sequence should have length 3 or 4\"\u001b[0m\u001b[0;34m)\u001b[0m\u001b[0;34m\u001b[0m\u001b[0m\n\u001b[0m\u001b[1;32m    224\u001b[0m     \u001b[0;32mif\u001b[0m \u001b[0mlen\u001b[0m\u001b[0;34m(\u001b[0m\u001b[0mc\u001b[0m\u001b[0;34m)\u001b[0m \u001b[0;34m==\u001b[0m \u001b[0;36m3\u001b[0m \u001b[0;32mand\u001b[0m \u001b[0malpha\u001b[0m \u001b[0;32mis\u001b[0m \u001b[0;32mNone\u001b[0m\u001b[0;34m:\u001b[0m\u001b[0;34m\u001b[0m\u001b[0m\n",
      "\u001b[0;31mValueError\u001b[0m: RGBA sequence should have length 3 or 4",
      "\nDuring handling of the above exception, another exception occurred:\n",
      "\u001b[0;31mValueError\u001b[0m                                Traceback (most recent call last)",
      "\u001b[0;32m<ipython-input-195-8daf00733f71>\u001b[0m in \u001b[0;36m<module>\u001b[0;34m()\u001b[0m\n\u001b[1;32m      1\u001b[0m \u001b[0mplt\u001b[0m\u001b[0;34m.\u001b[0m\u001b[0mfigure\u001b[0m\u001b[0;34m(\u001b[0m\u001b[0mfigsize\u001b[0m\u001b[0;34m=\u001b[0m\u001b[0;34m(\u001b[0m\u001b[0;36m16\u001b[0m\u001b[0;34m,\u001b[0m \u001b[0;36m5\u001b[0m\u001b[0;34m)\u001b[0m\u001b[0;34m)\u001b[0m\u001b[0;34m\u001b[0m\u001b[0m\n\u001b[1;32m      2\u001b[0m \u001b[0;34m\u001b[0m\u001b[0m\n\u001b[0;32m----> 3\u001b[0;31m \u001b[0mplt\u001b[0m\u001b[0;34m.\u001b[0m\u001b[0mscatter\u001b[0m\u001b[0;34m(\u001b[0m\u001b[0mpca\u001b[0m\u001b[0;34m[\u001b[0m\u001b[0;34m:\u001b[0m\u001b[0;34m,\u001b[0m \u001b[0;36m0\u001b[0m\u001b[0;34m]\u001b[0m\u001b[0;34m,\u001b[0m \u001b[0mpca\u001b[0m\u001b[0;34m[\u001b[0m\u001b[0;34m:\u001b[0m\u001b[0;34m,\u001b[0m \u001b[0;36m1\u001b[0m\u001b[0;34m]\u001b[0m\u001b[0;34m,\u001b[0m \u001b[0mc\u001b[0m \u001b[0;34m=\u001b[0m \u001b[0mytrain\u001b[0m\u001b[0;34m)\u001b[0m\u001b[0;34m\u001b[0m\u001b[0m\n\u001b[0m\u001b[1;32m      4\u001b[0m \u001b[0mplt\u001b[0m\u001b[0;34m.\u001b[0m\u001b[0mxlabel\u001b[0m\u001b[0;34m(\u001b[0m\u001b[0;34m'PCA component-1'\u001b[0m\u001b[0;34m)\u001b[0m\u001b[0;34m\u001b[0m\u001b[0m\n\u001b[1;32m      5\u001b[0m \u001b[0mplt\u001b[0m\u001b[0;34m.\u001b[0m\u001b[0mylabel\u001b[0m\u001b[0;34m(\u001b[0m\u001b[0;34m'PCA component-2'\u001b[0m\u001b[0;34m)\u001b[0m\u001b[0;34m\u001b[0m\u001b[0m\n",
      "\u001b[0;32m~/anaconda3/lib/python3.6/site-packages/matplotlib/pyplot.py\u001b[0m in \u001b[0;36mscatter\u001b[0;34m(x, y, s, c, marker, cmap, norm, vmin, vmax, alpha, linewidths, verts, edgecolors, hold, data, **kwargs)\u001b[0m\n\u001b[1;32m   3468\u001b[0m                          \u001b[0mvmin\u001b[0m\u001b[0;34m=\u001b[0m\u001b[0mvmin\u001b[0m\u001b[0;34m,\u001b[0m \u001b[0mvmax\u001b[0m\u001b[0;34m=\u001b[0m\u001b[0mvmax\u001b[0m\u001b[0;34m,\u001b[0m \u001b[0malpha\u001b[0m\u001b[0;34m=\u001b[0m\u001b[0malpha\u001b[0m\u001b[0;34m,\u001b[0m\u001b[0;34m\u001b[0m\u001b[0m\n\u001b[1;32m   3469\u001b[0m                          \u001b[0mlinewidths\u001b[0m\u001b[0;34m=\u001b[0m\u001b[0mlinewidths\u001b[0m\u001b[0;34m,\u001b[0m \u001b[0mverts\u001b[0m\u001b[0;34m=\u001b[0m\u001b[0mverts\u001b[0m\u001b[0;34m,\u001b[0m\u001b[0;34m\u001b[0m\u001b[0m\n\u001b[0;32m-> 3470\u001b[0;31m                          edgecolors=edgecolors, data=data, **kwargs)\n\u001b[0m\u001b[1;32m   3471\u001b[0m     \u001b[0;32mfinally\u001b[0m\u001b[0;34m:\u001b[0m\u001b[0;34m\u001b[0m\u001b[0m\n\u001b[1;32m   3472\u001b[0m         \u001b[0max\u001b[0m\u001b[0;34m.\u001b[0m\u001b[0m_hold\u001b[0m \u001b[0;34m=\u001b[0m \u001b[0mwashold\u001b[0m\u001b[0;34m\u001b[0m\u001b[0m\n",
      "\u001b[0;32m~/anaconda3/lib/python3.6/site-packages/matplotlib/__init__.py\u001b[0m in \u001b[0;36minner\u001b[0;34m(ax, *args, **kwargs)\u001b[0m\n\u001b[1;32m   1853\u001b[0m                         \u001b[0;34m\"the Matplotlib list!)\"\u001b[0m \u001b[0;34m%\u001b[0m \u001b[0;34m(\u001b[0m\u001b[0mlabel_namer\u001b[0m\u001b[0;34m,\u001b[0m \u001b[0mfunc\u001b[0m\u001b[0;34m.\u001b[0m\u001b[0m__name__\u001b[0m\u001b[0;34m)\u001b[0m\u001b[0;34m,\u001b[0m\u001b[0;34m\u001b[0m\u001b[0m\n\u001b[1;32m   1854\u001b[0m                         RuntimeWarning, stacklevel=2)\n\u001b[0;32m-> 1855\u001b[0;31m             \u001b[0;32mreturn\u001b[0m \u001b[0mfunc\u001b[0m\u001b[0;34m(\u001b[0m\u001b[0max\u001b[0m\u001b[0;34m,\u001b[0m \u001b[0;34m*\u001b[0m\u001b[0margs\u001b[0m\u001b[0;34m,\u001b[0m \u001b[0;34m**\u001b[0m\u001b[0mkwargs\u001b[0m\u001b[0;34m)\u001b[0m\u001b[0;34m\u001b[0m\u001b[0m\n\u001b[0m\u001b[1;32m   1856\u001b[0m \u001b[0;34m\u001b[0m\u001b[0m\n\u001b[1;32m   1857\u001b[0m         inner.__doc__ = _add_data_doc(inner.__doc__,\n",
      "\u001b[0;32m~/anaconda3/lib/python3.6/site-packages/matplotlib/axes/_axes.py\u001b[0m in \u001b[0;36mscatter\u001b[0;34m(self, x, y, s, c, marker, cmap, norm, vmin, vmax, alpha, linewidths, verts, edgecolors, **kwargs)\u001b[0m\n\u001b[1;32m   4277\u001b[0m                 raise ValueError(\"c of shape {} not acceptable as a color \"\n\u001b[1;32m   4278\u001b[0m                                  \u001b[0;34m\"sequence for x with size {}, y with size {}\"\u001b[0m\u001b[0;34m\u001b[0m\u001b[0m\n\u001b[0;32m-> 4279\u001b[0;31m                                  .format(c.shape, x.size, y.size))\n\u001b[0m\u001b[1;32m   4280\u001b[0m         \u001b[0;32melse\u001b[0m\u001b[0;34m:\u001b[0m\u001b[0;34m\u001b[0m\u001b[0m\n\u001b[1;32m   4281\u001b[0m             \u001b[0mcolors\u001b[0m \u001b[0;34m=\u001b[0m \u001b[0;32mNone\u001b[0m  \u001b[0;31m# use cmap, norm after collection is created\u001b[0m\u001b[0;34m\u001b[0m\u001b[0m\n",
      "\u001b[0;31mValueError\u001b[0m: c of shape (2082, 1) not acceptable as a color sequence for x with size 2082, y with size 2082"
     ]
    },
    {
     "data": {
      "image/png": "[encoded data removed]",
      "text/plain": [
       "<Figure size 1152x360 with 1 Axes>"
      ]
     },
     "metadata": {},
     "output_type": "display_data"
    }
   ],
   "source": [
    "plt.figure(figsize=(16, 5))\n",
    "\n",
    "plt.scatter(pca[:, 0], pca[:, 1], c = ytrain)\n",
    "plt.xlabel('PCA component-1')\n",
    "plt.ylabel('PCA component-2')\n",
    "plt.show()"
   ]
  },
  {
   "cell_type": "code",
   "execution_count": null,
   "metadata": {},
   "outputs": [],
   "source": []
  },
  {
   "cell_type": "code",
   "execution_count": null,
   "metadata": {},
   "outputs": [],
   "source": []
  },
  {
   "cell_type": "code",
   "execution_count": null,
   "metadata": {},
   "outputs": [],
   "source": []
  },
  {
   "cell_type": "code",
   "execution_count": null,
   "metadata": {},
   "outputs": [],
   "source": []
  },
  {
   "cell_type": "markdown",
   "metadata": {},
   "source": [
    "### CRITICISM"
   ]
  },
  {
   "cell_type": "code",
   "execution_count": null,
   "metadata": {},
   "outputs": [],
   "source": [
    "x_post = ed.copy(x, {p: qp})"
   ]
  },
  {
   "cell_type": "code",
   "execution_count": 191,
   "metadata": {},
   "outputs": [
    {
     "data": {
      "image/png": "[encoded data removed]",
      "text/plain": [
       "<Figure size 432x288 with 1 Axes>"
      ]
     },
     "metadata": {},
     "output_type": "display_data"
    }
   ],
   "source": [
    "import matplotlib.pyplot as plt\n",
    "\n",
    "y = np.random.randn(20)\n",
    "y_rep = np.random.randn(20, 20)\n",
    "\n",
    "ed.ppc_density_plot(y, y_rep)\n",
    "plt.show()"
   ]
  }
 ],
 "metadata": {
  "kernelspec": {
   "display_name": "Python 3",
   "language": "python",
   "name": "python3"
  },
  "language_info": {
   "codemirror_mode": {
    "name": "ipython",
    "version": 3
   },
   "file_extension": ".py",
   "mimetype": "text/x-python",
   "name": "python",
   "nbconvert_exporter": "python",
   "pygments_lexer": "ipython3",
   "version": "3.6.5"
  }
 },
 "nbformat": 4,
 "nbformat_minor": 2
}
