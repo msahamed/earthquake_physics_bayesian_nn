{
 "cells": [
  {
   "cell_type": "code",
   "execution_count": 96,
   "metadata": {},
   "outputs": [],
   "source": [
    "%matplotlib inline\n",
    "\n",
    "import numpy as np\n",
    "import edward as ed\n",
    "import pandas as pd\n",
    "from time import time\n",
    "import tensorflow as tf\n",
    "from edward.models import Categorical, Normal\n",
    "from keras.utils import to_categorical\n",
    "\n",
    "import seaborn as sns\n",
    "from scipy import stats\n",
    "from tqdm import tqdm\n",
    "import matplotlib.pyplot as plt\n",
    "from sklearn.utils import resample"
   ]
  },
  {
   "cell_type": "code",
   "execution_count": 2,
   "metadata": {},
   "outputs": [],
   "source": [
    "## Sklearn related modules\n",
    "from sklearn.utils import shuffle, class_weight\n",
    "from sklearn import preprocessing\n",
    "from sklearn.preprocessing import StandardScaler\n",
    "from sklearn.model_selection import train_test_split\n",
    "from sklearn.metrics import accuracy_score, classification_report, confusion_matrix\n",
    "from sklearn.manifold import TSNE\n",
    "from sklearn.decomposition import PCA"
   ]
  },
  {
   "cell_type": "code",
   "execution_count": 3,
   "metadata": {},
   "outputs": [],
   "source": [
    "random_seed = 2018"
   ]
  },
  {
   "cell_type": "code",
   "execution_count": 4,
   "metadata": {},
   "outputs": [],
   "source": [
    "ed.set_seed(random_seed)"
   ]
  },
  {
   "cell_type": "code",
   "execution_count": 99,
   "metadata": {},
   "outputs": [],
   "source": [
    "# inspired by http://nipunbatra.github.io/2014/08/latexify/\n",
    "plt.style.use(['default'])\n",
    "params = {\n",
    "    'text.latex.preamble': ['\\\\usepackage{gensymb}'],\n",
    "    'image.origin': 'lower',\n",
    "    'image.interpolation': 'nearest',\n",
    "    'axes.grid': False,\n",
    "    'savefig.dpi': 150,  # to adjust notebook inline plot size\n",
    "    'axes.labelsize': 12, # fontsize for x and y labels (was 10)\n",
    "    'axes.titlesize': 12,\n",
    "    'font.size': 12, # was 10\n",
    "    'legend.fontsize': 12, # was 10\n",
    "    'xtick.labelsize': 12,\n",
    "    'ytick.labelsize': 12,\n",
    "    'text.usetex': True,\n",
    "    'font.family': 'serif',\n",
    "}\n",
    "plt.rcParams.update(params)"
   ]
  },
  {
   "cell_type": "markdown",
   "metadata": {},
   "source": [
    "### Import Data"
   ]
  },
  {
   "cell_type": "code",
   "execution_count": 6,
   "metadata": {},
   "outputs": [],
   "source": [
    "## look data with pandas\n",
    "train_file = \"data/rupturemodel_train.txt\"\n",
    "val_file = \"data/rupturemodel_xvalidate.txt\"\n",
    "test_file = \"data/rupturemodel_test.txt\"\n",
    "\n",
    "df_train= pd.read_csv(train_file, sep=\" \", header = None, dtype = np.float32)\n",
    "df_val= pd.read_csv(val_file, sep=\" \", header = None, dtype = np.float32)\n",
    "df_test= pd.read_csv(test_file, sep=\" \", header = None, dtype = np.float32)\n",
    "\n",
    "features_name =  ['height', 'width', 'sxx', 'sxy', 'syy', 'sdrop', 'mud', 'dc', 'label']\n",
    "df_train.columns = features_name\n",
    "df_val.columns = features_name\n",
    "df_test.columns = features_name\n",
    "\n",
    "df_train_all = df_train.append(df_val)"
   ]
  },
  {
   "cell_type": "markdown",
   "metadata": {},
   "source": [
    "### Data processing\n",
    "We use StandardScaler preprocessing method of scikit. It standardizes features \n",
    "by removing the mean and scaling to unit variance"
   ]
  },
  {
   "cell_type": "code",
   "execution_count": 7,
   "metadata": {},
   "outputs": [],
   "source": [
    "df = shuffle(df_train_all, random_state = random_seed)\n",
    "# df_train = shuffle(df_train, random_state = random_seed)\n",
    "# df_val = shuffle(df_val, random_state = random_seed)\n",
    "df_test = shuffle(df_test, random_state = random_seed)\n"
   ]
  },
  {
   "cell_type": "markdown",
   "metadata": {},
   "source": [
    "### Class Balance"
   ]
  },
  {
   "cell_type": "code",
   "execution_count": 17,
   "metadata": {},
   "outputs": [
    {
     "data": {
      "text/plain": [
       "0.0    1041\n",
       "1.0     559\n",
       "Name: label, dtype: int64"
      ]
     },
     "execution_count": 17,
     "metadata": {},
     "output_type": "execute_result"
    }
   ],
   "source": [
    "df.label.value_counts()"
   ]
  },
  {
   "cell_type": "code",
   "execution_count": 18,
   "metadata": {},
   "outputs": [],
   "source": [
    "df_major = df[df.label == 0]\n",
    "df_minor = df[df.label == 1]"
   ]
  },
  {
   "cell_type": "code",
   "execution_count": 19,
   "metadata": {},
   "outputs": [
    {
     "data": {
      "text/plain": [
       "559"
      ]
     },
     "execution_count": 19,
     "metadata": {},
     "output_type": "execute_result"
    }
   ],
   "source": [
    "df_minor.shape[0]"
   ]
  },
  {
   "cell_type": "code",
   "execution_count": 20,
   "metadata": {},
   "outputs": [],
   "source": [
    "df_minor_upsmapled = resample(df_minor, replace = True, n_samples = df_major.shape[0], random_state = 2018)"
   ]
  },
  {
   "cell_type": "code",
   "execution_count": 21,
   "metadata": {},
   "outputs": [],
   "source": [
    "df_minor_upsmapled = pd.concat([df_minor_upsmapled, df_major])"
   ]
  },
  {
   "cell_type": "code",
   "execution_count": 22,
   "metadata": {},
   "outputs": [
    {
     "data": {
      "text/plain": [
       "0.0    1041\n",
       "1.0    1041\n",
       "Name: label, dtype: int64"
      ]
     },
     "execution_count": 22,
     "metadata": {},
     "output_type": "execute_result"
    }
   ],
   "source": [
    "df_minor_upsmapled.label.value_counts()"
   ]
  },
  {
   "cell_type": "markdown",
   "metadata": {},
   "source": [
    "### Fetaure Scaling"
   ]
  },
  {
   "cell_type": "code",
   "execution_count": 23,
   "metadata": {},
   "outputs": [],
   "source": [
    "mms = StandardScaler()\n",
    "train_scale = mms.fit(df_minor_upsmapled.drop('label', axis=1))\n",
    "\n",
    "xtrain = train_scale.transform(df_minor_upsmapled.drop('label', axis=1))\n",
    "ytrain =  np.array(df_minor_upsmapled['label'].values)\n",
    "ytrain = ytrain.reshape(ytrain.shape[0], 1)\n",
    "\n",
    "xtest = train_scale.transform(df_test.drop('label', axis=1))\n",
    "ytest = np.array(df_test['label'].values)\n",
    "ytest = ytest.reshape(ytest.shape[0], 1)"
   ]
  },
  {
   "cell_type": "code",
   "execution_count": 24,
   "metadata": {},
   "outputs": [
    {
     "data": {
      "text/plain": [
       "(2082, 8)"
      ]
     },
     "execution_count": 24,
     "metadata": {},
     "output_type": "execute_result"
    }
   ],
   "source": [
    "np.shape(xtrain)"
   ]
  },
  {
   "cell_type": "markdown",
   "metadata": {},
   "source": [
    "### Model prior weights"
   ]
  },
  {
   "cell_type": "code",
   "execution_count": 25,
   "metadata": {},
   "outputs": [],
   "source": [
    "## Hyperparameters\n",
    "N = np.shape(xtrain)[0]\n",
    "in_size = np.shape(xtrain)[1]\n",
    "out_size = 1\n",
    "l1 = 12 # Number of neurons in the first layer\n",
    "BATCH_SIZE = 32"
   ]
  },
  {
   "cell_type": "code",
   "execution_count": 26,
   "metadata": {},
   "outputs": [],
   "source": [
    "def neural_network(X, W_0, W_1, b_0, b_1):\n",
    "    hidden1 = tf.nn.relu(tf.matmul(X, W_0) + b_0)\n",
    "    output = tf.nn.sigmoid(tf.matmul(hidden1, W_1) + b_1)\n",
    "    return output"
   ]
  },
  {
   "cell_type": "markdown",
   "metadata": {},
   "source": [
    "### Define model prior"
   ]
  },
  {
   "cell_type": "code",
   "execution_count": 27,
   "metadata": {},
   "outputs": [],
   "source": [
    "# with tf.name_scope('model_prior'):\n",
    "    \n",
    "#     W_0 = Normal(loc = tf.zeros([in_size, l1], name=\"weights/loc_w_0\"), \n",
    "#                  scale=tf.ones([in_size, l1], name=\"weights/scale_w_0\"),\n",
    "#                  name  = 'weight_w_0')\n",
    "#     W_1 = Normal(loc=tf.zeros([l1, out_size], name=\"weights/loc_w_1\"), \n",
    "#                  scale=tf.ones([l1, out_size], name=\"weights/scale_w_1\"),\n",
    "#                  name  = 'weight_w_1')\n",
    "#     b_0 = Normal(loc=tf.zeros(l1, name=\"weights/loc_b_0\"), \n",
    "#                  scale=tf.ones(l1, name=\"weights/scale_b_0\"),\n",
    "#                  name  = 'weight_b_0')\n",
    "#     b_1 = Normal(loc=tf.zeros(out_size, name=\"weights/loc_b_1\"),\n",
    "#                  scale=tf.ones(out_size, name=\"weights/scale_b_1\"),\n",
    "#                  name  = 'weight_b_1')\n",
    "    \n",
    "#     X = tf.placeholder(tf.float32, shape = (None, in_size))\n",
    "#     y = Normal(loc = neural_network(X, W_0, W_1, b_0, b_1), scale = 1.0)"
   ]
  },
  {
   "cell_type": "markdown",
   "metadata": {},
   "source": [
    "### Inference"
   ]
  },
  {
   "cell_type": "code",
   "execution_count": 28,
   "metadata": {},
   "outputs": [],
   "source": [
    "with tf.name_scope('model_prior'):\n",
    "    \n",
    "    W_0 = Normal(loc = tf.zeros([in_size, l1], name=\"weights/loc_w_0\"), \n",
    "                 scale=tf.ones([in_size, l1], name=\"weights/scale_w_0\"),\n",
    "                 name  = 'weight_w_0')\n",
    "    W_1 = Normal(loc=tf.zeros([l1, out_size], name=\"weights/loc_w_1\"), \n",
    "                 scale=tf.ones([l1, out_size], name=\"weights/scale_w_1\"),\n",
    "                 name  = 'weight_w_1')\n",
    "    b_0 = Normal(loc=tf.zeros(l1, name=\"weights/loc_b_0\"), \n",
    "                 scale=tf.ones(l1, name=\"weights/scale_b_0\"),\n",
    "                 name  = 'weight_b_0')\n",
    "    b_1 = Normal(loc=tf.zeros(out_size, name=\"weights/loc_b_1\"),\n",
    "                 scale=tf.ones(out_size, name=\"weights/scale_b_1\"),\n",
    "                 name  = 'weight_b_1')\n",
    "    \n",
    "    X = tf.placeholder(tf.float32, shape = (None, in_size)) \n",
    "    y = Normal(loc = neural_network(X, W_0, W_1, b_0, b_1), scale = 1.0)   "
   ]
  },
  {
   "cell_type": "code",
   "execution_count": 29,
   "metadata": {},
   "outputs": [],
   "source": [
    "with tf.name_scope('posterior'):\n",
    "    qW_0 = Normal(loc=tf.Variable(tf.random_normal([in_size, l1]), name = \"weights/loc_qw_0\" ), \n",
    "                  scale=tf.Variable(tf.random_normal([in_size, l1]), name = \"weights/scale_qw_0\"),\n",
    "                  name = \"weight_qw_0\")\n",
    "    \n",
    "    qW_1 = Normal(loc=tf.Variable(tf.random_normal([l1, out_size]), name = \"weights/loc_qw_1\" ), \n",
    "                  scale=tf.Variable(tf.random_normal([l1, out_size]), name = \"weights/loc_qw_1\" ),\n",
    "                  name = \"weight_qw_1\")\n",
    "    \n",
    "    qb_0 = Normal(loc=tf.Variable(tf.random_normal([l1]), name = \"weights/loc_qb_0\" ), \n",
    "                scale=tf.Variable(tf.random_normal([l1]), name = \"weights/loc_qb_0\" ),\n",
    "                name = \"weight_qb_0\")\n",
    "    qb_1 = Normal(loc=tf.Variable(tf.random_normal([out_size]), name = \"weights/loc_qb_1\" ), \n",
    "                scale=tf.Variable(tf.random_normal([out_size]), name = \"weights/loc_qb_1\" ),\n",
    "                name = \"weight_qb_1\")"
   ]
  },
  {
   "cell_type": "code",
   "execution_count": 30,
   "metadata": {},
   "outputs": [
    {
     "name": "stderr",
     "output_type": "stream",
     "text": [
      "/Users/sabber/anaconda3/lib/python3.6/site-packages/edward/util/random_variables.py:52: FutureWarning: Conversion of the second argument of issubdtype from `float` to `np.floating` is deprecated. In future, it will be treated as `np.float64 == np.dtype(float).type`.\n",
      "  not np.issubdtype(value.dtype, np.float) and \\\n"
     ]
    },
    {
     "name": "stdout",
     "output_type": "stream",
     "text": [
      "20000/20000 [100%] ██████████████████████████████ Elapsed: 29s | Loss: 2156.972\n"
     ]
    }
   ],
   "source": [
    "inference = ed.KLqp({W_0: qW_0, b_0: qb_0,\n",
    "                     W_1: qW_1, b_1: qb_1}, \n",
    "                    data={X: xtrain, \n",
    "                          y: ytrain})\n",
    "\n",
    "global_step = tf.Variable(0, trainable=False)\n",
    "starter_learning_rate = 0.05\n",
    "\n",
    "learning_rate = tf.train.exponential_decay(starter_learning_rate, global_step,\n",
    "                                           10000, 0.3, staircase=True)\n",
    "\n",
    "optimizer = tf.train.AdamOptimizer(learning_rate)\n",
    "\n",
    "inference.run(n_iter=20000, optimizer=optimizer, global_step=global_step)"
   ]
  },
  {
   "cell_type": "code",
   "execution_count": 31,
   "metadata": {},
   "outputs": [
    {
     "name": "stdout",
     "output_type": "stream",
     "text": [
      "Preparing to sample...\n",
      "Took 13 secs.\n",
      "Sampling...\n",
      "Took 6 secs.\n"
     ]
    }
   ],
   "source": [
    "n_samples = 1000\n",
    "\n",
    "qW_0_samples = qW_0.sample(sample_shape=n_samples)\n",
    "qW_1_samples = qW_1.sample(sample_shape=n_samples)\n",
    "qb_0_samples = qb_0.sample(sample_shape=n_samples)\n",
    "qb_1_samples = qb_1.sample(sample_shape=n_samples)\n",
    "\n",
    "print(\"Preparing to sample...\")\n",
    "\n",
    "t0 = time()\n",
    "samplenodes = tf.stack([neural_network(X, qW_0_samples[i], qW_1_samples[i],\n",
    "                                       qb_0_samples[i], qb_1_samples[i]) \n",
    "                        for i in range(n_samples)], axis=0)\n",
    "\n",
    "print(\"Took\", np.int(time() - t0), \"secs.\")\n",
    "\n",
    "print(\"Sampling...\")\n",
    "t0 = time()\n",
    "samplepredictions = samplenodes.eval(feed_dict={X: xtest})\n",
    "print(\"Took\", np.int(time() - t0), \"secs.\")"
   ]
  },
  {
   "cell_type": "code",
   "execution_count": 32,
   "metadata": {},
   "outputs": [],
   "source": [
    "predictions_samp = samplepredictions[:, :, 0]"
   ]
  },
  {
   "cell_type": "code",
   "execution_count": 33,
   "metadata": {},
   "outputs": [],
   "source": [
    "sns.set(color_codes=True)\n",
    "\n",
    "def plot_distribution(i):\n",
    "    xxx = samplepredictions[:, i, 0]\n",
    "    ax = sns.distplot(xxx, kde=False, fit=stats.gamma)\n",
    "    ax2 = ax.twinx()\n",
    "    sns.boxplot(x=xxx, ax=ax2)\n",
    "    ax2.set(ylim=(-.5, 10))\n",
    "    plt.show()"
   ]
  },
  {
   "cell_type": "code",
   "execution_count": 37,
   "metadata": {},
   "outputs": [],
   "source": [
    "results = pd.DataFrame()\n",
    "results['target'] = list(ytest)"
   ]
  },
  {
   "cell_type": "code",
   "execution_count": 38,
   "metadata": {},
   "outputs": [],
   "source": [
    "results['predictions'] = predictions_samp.mean(axis = 0)\n",
    "results['pred_std'] = predictions_samp.std(axis = 0)\n",
    "results['pred_var'] = predictions_samp.var(axis = 0)"
   ]
  },
  {
   "cell_type": "code",
   "execution_count": 39,
   "metadata": {},
   "outputs": [],
   "source": [
    "zzz = stats.norm.interval(0.68, loc = results['predictions'], scale = results['pred_std'])\n",
    "# np.transpose(zzz)[:, 0]\n",
    "results['confidence_low'] = np.transpose(zzz)[:, 0]\n",
    "results['confidence_high'] = np.transpose(zzz)[:, 1]\n",
    "results['confidence_range'] = np.absolute(results['confidence_high'] - results['confidence_low'])"
   ]
  },
  {
   "cell_type": "code",
   "execution_count": 40,
   "metadata": {},
   "outputs": [],
   "source": [
    "ypred = []\n",
    "for pred in results['predictions']:\n",
    "    if pred > 0.5:\n",
    "        ypred.append(1)\n",
    "    else:\n",
    "        ypred.append(0)"
   ]
  },
  {
   "cell_type": "code",
   "execution_count": 41,
   "metadata": {},
   "outputs": [],
   "source": [
    "results['bin_pred'] = ypred"
   ]
  },
  {
   "cell_type": "code",
   "execution_count": 114,
   "metadata": {},
   "outputs": [
    {
     "data": {
      "text/html": [
       "<div>\n",
       "<style scoped>\n",
       "    .dataframe tbody tr th:only-of-type {\n",
       "        vertical-align: middle;\n",
       "    }\n",
       "\n",
       "    .dataframe tbody tr th {\n",
       "        vertical-align: top;\n",
       "    }\n",
       "\n",
       "    .dataframe thead th {\n",
       "        text-align: right;\n",
       "    }\n",
       "</style>\n",
       "<table border=\"1\" class=\"dataframe\">\n",
       "  <thead>\n",
       "    <tr style=\"text-align: right;\">\n",
       "      <th></th>\n",
       "      <th>target</th>\n",
       "      <th>predictions</th>\n",
       "      <th>pred_std</th>\n",
       "      <th>pred_var</th>\n",
       "      <th>confidence_low</th>\n",
       "      <th>confidence_high</th>\n",
       "      <th>confidence_range</th>\n",
       "      <th>bin_pred</th>\n",
       "    </tr>\n",
       "  </thead>\n",
       "  <tbody>\n",
       "    <tr>\n",
       "      <th>0</th>\n",
       "      <td>0.0</td>\n",
       "      <td>0.247330</td>\n",
       "      <td>0.098857</td>\n",
       "      <td>0.009773</td>\n",
       "      <td>0.149021</td>\n",
       "      <td>0.345639</td>\n",
       "      <td>0.196618</td>\n",
       "      <td>0</td>\n",
       "    </tr>\n",
       "    <tr>\n",
       "      <th>1</th>\n",
       "      <td>1.0</td>\n",
       "      <td>0.943311</td>\n",
       "      <td>0.043379</td>\n",
       "      <td>0.001882</td>\n",
       "      <td>0.900172</td>\n",
       "      <td>0.986450</td>\n",
       "      <td>0.086278</td>\n",
       "      <td>1</td>\n",
       "    </tr>\n",
       "    <tr>\n",
       "      <th>2</th>\n",
       "      <td>0.0</td>\n",
       "      <td>0.218576</td>\n",
       "      <td>0.132310</td>\n",
       "      <td>0.017506</td>\n",
       "      <td>0.086999</td>\n",
       "      <td>0.350153</td>\n",
       "      <td>0.263154</td>\n",
       "      <td>0</td>\n",
       "    </tr>\n",
       "    <tr>\n",
       "      <th>3</th>\n",
       "      <td>0.0</td>\n",
       "      <td>0.274191</td>\n",
       "      <td>0.124581</td>\n",
       "      <td>0.015520</td>\n",
       "      <td>0.150300</td>\n",
       "      <td>0.398081</td>\n",
       "      <td>0.247781</td>\n",
       "      <td>0</td>\n",
       "    </tr>\n",
       "    <tr>\n",
       "      <th>4</th>\n",
       "      <td>1.0</td>\n",
       "      <td>0.569014</td>\n",
       "      <td>0.199379</td>\n",
       "      <td>0.039752</td>\n",
       "      <td>0.370741</td>\n",
       "      <td>0.767288</td>\n",
       "      <td>0.396547</td>\n",
       "      <td>1</td>\n",
       "    </tr>\n",
       "    <tr>\n",
       "      <th>5</th>\n",
       "      <td>0.0</td>\n",
       "      <td>0.258031</td>\n",
       "      <td>0.090286</td>\n",
       "      <td>0.008152</td>\n",
       "      <td>0.168245</td>\n",
       "      <td>0.347816</td>\n",
       "      <td>0.179572</td>\n",
       "      <td>0</td>\n",
       "    </tr>\n",
       "    <tr>\n",
       "      <th>6</th>\n",
       "      <td>1.0</td>\n",
       "      <td>0.549611</td>\n",
       "      <td>0.115998</td>\n",
       "      <td>0.013456</td>\n",
       "      <td>0.434255</td>\n",
       "      <td>0.664966</td>\n",
       "      <td>0.230711</td>\n",
       "      <td>1</td>\n",
       "    </tr>\n",
       "    <tr>\n",
       "      <th>7</th>\n",
       "      <td>0.0</td>\n",
       "      <td>0.236272</td>\n",
       "      <td>0.099692</td>\n",
       "      <td>0.009938</td>\n",
       "      <td>0.137133</td>\n",
       "      <td>0.335411</td>\n",
       "      <td>0.198278</td>\n",
       "      <td>0</td>\n",
       "    </tr>\n",
       "    <tr>\n",
       "      <th>8</th>\n",
       "      <td>0.0</td>\n",
       "      <td>0.269508</td>\n",
       "      <td>0.084623</td>\n",
       "      <td>0.007161</td>\n",
       "      <td>0.185354</td>\n",
       "      <td>0.353662</td>\n",
       "      <td>0.168308</td>\n",
       "      <td>0</td>\n",
       "    </tr>\n",
       "    <tr>\n",
       "      <th>9</th>\n",
       "      <td>0.0</td>\n",
       "      <td>0.236786</td>\n",
       "      <td>0.103564</td>\n",
       "      <td>0.010726</td>\n",
       "      <td>0.133796</td>\n",
       "      <td>0.339777</td>\n",
       "      <td>0.205981</td>\n",
       "      <td>0</td>\n",
       "    </tr>\n",
       "    <tr>\n",
       "      <th>10</th>\n",
       "      <td>0.0</td>\n",
       "      <td>0.251803</td>\n",
       "      <td>0.103868</td>\n",
       "      <td>0.010789</td>\n",
       "      <td>0.148510</td>\n",
       "      <td>0.355096</td>\n",
       "      <td>0.206586</td>\n",
       "      <td>0</td>\n",
       "    </tr>\n",
       "    <tr>\n",
       "      <th>11</th>\n",
       "      <td>0.0</td>\n",
       "      <td>0.573330</td>\n",
       "      <td>0.132726</td>\n",
       "      <td>0.017616</td>\n",
       "      <td>0.441339</td>\n",
       "      <td>0.705321</td>\n",
       "      <td>0.263981</td>\n",
       "      <td>1</td>\n",
       "    </tr>\n",
       "    <tr>\n",
       "      <th>12</th>\n",
       "      <td>1.0</td>\n",
       "      <td>0.903297</td>\n",
       "      <td>0.053805</td>\n",
       "      <td>0.002895</td>\n",
       "      <td>0.849790</td>\n",
       "      <td>0.956804</td>\n",
       "      <td>0.107014</td>\n",
       "      <td>1</td>\n",
       "    </tr>\n",
       "    <tr>\n",
       "      <th>13</th>\n",
       "      <td>1.0</td>\n",
       "      <td>0.968252</td>\n",
       "      <td>0.045862</td>\n",
       "      <td>0.002103</td>\n",
       "      <td>0.922644</td>\n",
       "      <td>1.013859</td>\n",
       "      <td>0.091215</td>\n",
       "      <td>1</td>\n",
       "    </tr>\n",
       "    <tr>\n",
       "      <th>14</th>\n",
       "      <td>1.0</td>\n",
       "      <td>0.809619</td>\n",
       "      <td>0.119908</td>\n",
       "      <td>0.014378</td>\n",
       "      <td>0.690375</td>\n",
       "      <td>0.928862</td>\n",
       "      <td>0.238487</td>\n",
       "      <td>1</td>\n",
       "    </tr>\n",
       "    <tr>\n",
       "      <th>15</th>\n",
       "      <td>1.0</td>\n",
       "      <td>0.514376</td>\n",
       "      <td>0.146143</td>\n",
       "      <td>0.021358</td>\n",
       "      <td>0.369043</td>\n",
       "      <td>0.659709</td>\n",
       "      <td>0.290666</td>\n",
       "      <td>1</td>\n",
       "    </tr>\n",
       "    <tr>\n",
       "      <th>16</th>\n",
       "      <td>1.0</td>\n",
       "      <td>0.858150</td>\n",
       "      <td>0.080446</td>\n",
       "      <td>0.006472</td>\n",
       "      <td>0.778150</td>\n",
       "      <td>0.938151</td>\n",
       "      <td>0.160001</td>\n",
       "      <td>1</td>\n",
       "    </tr>\n",
       "    <tr>\n",
       "      <th>17</th>\n",
       "      <td>1.0</td>\n",
       "      <td>0.549500</td>\n",
       "      <td>0.159795</td>\n",
       "      <td>0.025535</td>\n",
       "      <td>0.390591</td>\n",
       "      <td>0.708410</td>\n",
       "      <td>0.317819</td>\n",
       "      <td>1</td>\n",
       "    </tr>\n",
       "    <tr>\n",
       "      <th>18</th>\n",
       "      <td>1.0</td>\n",
       "      <td>0.487770</td>\n",
       "      <td>0.116282</td>\n",
       "      <td>0.013521</td>\n",
       "      <td>0.372132</td>\n",
       "      <td>0.603407</td>\n",
       "      <td>0.231275</td>\n",
       "      <td>0</td>\n",
       "    </tr>\n",
       "    <tr>\n",
       "      <th>19</th>\n",
       "      <td>1.0</td>\n",
       "      <td>0.824622</td>\n",
       "      <td>0.107560</td>\n",
       "      <td>0.011569</td>\n",
       "      <td>0.717658</td>\n",
       "      <td>0.931587</td>\n",
       "      <td>0.213929</td>\n",
       "      <td>1</td>\n",
       "    </tr>\n",
       "  </tbody>\n",
       "</table>\n",
       "</div>"
      ],
      "text/plain": [
       "    target  predictions  pred_std  pred_var  confidence_low  confidence_high  \\\n",
       "0      0.0     0.247330  0.098857  0.009773        0.149021         0.345639   \n",
       "1      1.0     0.943311  0.043379  0.001882        0.900172         0.986450   \n",
       "2      0.0     0.218576  0.132310  0.017506        0.086999         0.350153   \n",
       "3      0.0     0.274191  0.124581  0.015520        0.150300         0.398081   \n",
       "4      1.0     0.569014  0.199379  0.039752        0.370741         0.767288   \n",
       "5      0.0     0.258031  0.090286  0.008152        0.168245         0.347816   \n",
       "6      1.0     0.549611  0.115998  0.013456        0.434255         0.664966   \n",
       "7      0.0     0.236272  0.099692  0.009938        0.137133         0.335411   \n",
       "8      0.0     0.269508  0.084623  0.007161        0.185354         0.353662   \n",
       "9      0.0     0.236786  0.103564  0.010726        0.133796         0.339777   \n",
       "10     0.0     0.251803  0.103868  0.010789        0.148510         0.355096   \n",
       "11     0.0     0.573330  0.132726  0.017616        0.441339         0.705321   \n",
       "12     1.0     0.903297  0.053805  0.002895        0.849790         0.956804   \n",
       "13     1.0     0.968252  0.045862  0.002103        0.922644         1.013859   \n",
       "14     1.0     0.809619  0.119908  0.014378        0.690375         0.928862   \n",
       "15     1.0     0.514376  0.146143  0.021358        0.369043         0.659709   \n",
       "16     1.0     0.858150  0.080446  0.006472        0.778150         0.938151   \n",
       "17     1.0     0.549500  0.159795  0.025535        0.390591         0.708410   \n",
       "18     1.0     0.487770  0.116282  0.013521        0.372132         0.603407   \n",
       "19     1.0     0.824622  0.107560  0.011569        0.717658         0.931587   \n",
       "\n",
       "    confidence_range  bin_pred  \n",
       "0           0.196618         0  \n",
       "1           0.086278         1  \n",
       "2           0.263154         0  \n",
       "3           0.247781         0  \n",
       "4           0.396547         1  \n",
       "5           0.179572         0  \n",
       "6           0.230711         1  \n",
       "7           0.198278         0  \n",
       "8           0.168308         0  \n",
       "9           0.205981         0  \n",
       "10          0.206586         0  \n",
       "11          0.263981         1  \n",
       "12          0.107014         1  \n",
       "13          0.091215         1  \n",
       "14          0.238487         1  \n",
       "15          0.290666         1  \n",
       "16          0.160001         1  \n",
       "17          0.317819         1  \n",
       "18          0.231275         0  \n",
       "19          0.213929         1  "
      ]
     },
     "execution_count": 114,
     "metadata": {},
     "output_type": "execute_result"
    }
   ],
   "source": [
    "results.head(20)"
   ]
  },
  {
   "cell_type": "code",
   "execution_count": 42,
   "metadata": {},
   "outputs": [],
   "source": [
    "correct = results[(results.target == results.bin_pred)]"
   ]
  },
  {
   "cell_type": "code",
   "execution_count": 43,
   "metadata": {},
   "outputs": [],
   "source": [
    "incorrect = results[(results.target != results.bin_pred)]"
   ]
  },
  {
   "cell_type": "code",
   "execution_count": 44,
   "metadata": {},
   "outputs": [
    {
     "data": {
      "text/plain": [
       "Index(['target', 'predictions', 'pred_std', 'pred_var', 'confidence_low',\n",
       "       'confidence_high', 'confidence_range', 'bin_pred'],\n",
       "      dtype='object')"
      ]
     },
     "execution_count": 44,
     "metadata": {},
     "output_type": "execute_result"
    }
   ],
   "source": [
    "correct.columns"
   ]
  },
  {
   "cell_type": "code",
   "execution_count": 45,
   "metadata": {},
   "outputs": [
    {
     "data": {
      "text/plain": [
       "0.2782873901493747"
      ]
     },
     "execution_count": 45,
     "metadata": {},
     "output_type": "execute_result"
    }
   ],
   "source": [
    "incorrect.confidence_range[(incorrect.bin_pred == 0)].mean(axis = 0)"
   ]
  },
  {
   "cell_type": "code",
   "execution_count": 46,
   "metadata": {},
   "outputs": [
    {
     "data": {
      "text/plain": [
       "0.24976476707345888"
      ]
     },
     "execution_count": 46,
     "metadata": {},
     "output_type": "execute_result"
    }
   ],
   "source": [
    "correct.confidence_range[(correct.bin_pred == 0)].mean(axis = 0)"
   ]
  },
  {
   "cell_type": "code",
   "execution_count": 47,
   "metadata": {},
   "outputs": [
    {
     "data": {
      "text/html": [
       "<div>\n",
       "<style scoped>\n",
       "    .dataframe tbody tr th:only-of-type {\n",
       "        vertical-align: middle;\n",
       "    }\n",
       "\n",
       "    .dataframe tbody tr th {\n",
       "        vertical-align: top;\n",
       "    }\n",
       "\n",
       "    .dataframe thead th {\n",
       "        text-align: right;\n",
       "    }\n",
       "</style>\n",
       "<table border=\"1\" class=\"dataframe\">\n",
       "  <thead>\n",
       "    <tr style=\"text-align: right;\">\n",
       "      <th></th>\n",
       "      <th>target</th>\n",
       "      <th>predictions</th>\n",
       "      <th>pred_std</th>\n",
       "      <th>pred_var</th>\n",
       "      <th>confidence_low</th>\n",
       "      <th>confidence_high</th>\n",
       "      <th>confidence_range</th>\n",
       "      <th>bin_pred</th>\n",
       "    </tr>\n",
       "  </thead>\n",
       "  <tbody>\n",
       "    <tr>\n",
       "      <th>0</th>\n",
       "      <td>[0.0]</td>\n",
       "      <td>0.247330</td>\n",
       "      <td>0.098857</td>\n",
       "      <td>0.009773</td>\n",
       "      <td>0.149021</td>\n",
       "      <td>0.345639</td>\n",
       "      <td>0.196618</td>\n",
       "      <td>0</td>\n",
       "    </tr>\n",
       "    <tr>\n",
       "      <th>1</th>\n",
       "      <td>[1.0]</td>\n",
       "      <td>0.943311</td>\n",
       "      <td>0.043379</td>\n",
       "      <td>0.001882</td>\n",
       "      <td>0.900172</td>\n",
       "      <td>0.986450</td>\n",
       "      <td>0.086278</td>\n",
       "      <td>1</td>\n",
       "    </tr>\n",
       "    <tr>\n",
       "      <th>2</th>\n",
       "      <td>[0.0]</td>\n",
       "      <td>0.218576</td>\n",
       "      <td>0.132310</td>\n",
       "      <td>0.017506</td>\n",
       "      <td>0.086999</td>\n",
       "      <td>0.350153</td>\n",
       "      <td>0.263154</td>\n",
       "      <td>0</td>\n",
       "    </tr>\n",
       "    <tr>\n",
       "      <th>3</th>\n",
       "      <td>[0.0]</td>\n",
       "      <td>0.274191</td>\n",
       "      <td>0.124581</td>\n",
       "      <td>0.015520</td>\n",
       "      <td>0.150300</td>\n",
       "      <td>0.398081</td>\n",
       "      <td>0.247781</td>\n",
       "      <td>0</td>\n",
       "    </tr>\n",
       "    <tr>\n",
       "      <th>4</th>\n",
       "      <td>[1.0]</td>\n",
       "      <td>0.569014</td>\n",
       "      <td>0.199379</td>\n",
       "      <td>0.039752</td>\n",
       "      <td>0.370741</td>\n",
       "      <td>0.767288</td>\n",
       "      <td>0.396547</td>\n",
       "      <td>1</td>\n",
       "    </tr>\n",
       "    <tr>\n",
       "      <th>5</th>\n",
       "      <td>[0.0]</td>\n",
       "      <td>0.258031</td>\n",
       "      <td>0.090286</td>\n",
       "      <td>0.008152</td>\n",
       "      <td>0.168245</td>\n",
       "      <td>0.347816</td>\n",
       "      <td>0.179572</td>\n",
       "      <td>0</td>\n",
       "    </tr>\n",
       "    <tr>\n",
       "      <th>6</th>\n",
       "      <td>[1.0]</td>\n",
       "      <td>0.549611</td>\n",
       "      <td>0.115998</td>\n",
       "      <td>0.013456</td>\n",
       "      <td>0.434255</td>\n",
       "      <td>0.664966</td>\n",
       "      <td>0.230711</td>\n",
       "      <td>1</td>\n",
       "    </tr>\n",
       "    <tr>\n",
       "      <th>7</th>\n",
       "      <td>[0.0]</td>\n",
       "      <td>0.236272</td>\n",
       "      <td>0.099692</td>\n",
       "      <td>0.009938</td>\n",
       "      <td>0.137133</td>\n",
       "      <td>0.335411</td>\n",
       "      <td>0.198278</td>\n",
       "      <td>0</td>\n",
       "    </tr>\n",
       "    <tr>\n",
       "      <th>8</th>\n",
       "      <td>[0.0]</td>\n",
       "      <td>0.269508</td>\n",
       "      <td>0.084623</td>\n",
       "      <td>0.007161</td>\n",
       "      <td>0.185354</td>\n",
       "      <td>0.353662</td>\n",
       "      <td>0.168308</td>\n",
       "      <td>0</td>\n",
       "    </tr>\n",
       "    <tr>\n",
       "      <th>9</th>\n",
       "      <td>[0.0]</td>\n",
       "      <td>0.236786</td>\n",
       "      <td>0.103564</td>\n",
       "      <td>0.010726</td>\n",
       "      <td>0.133796</td>\n",
       "      <td>0.339777</td>\n",
       "      <td>0.205981</td>\n",
       "      <td>0</td>\n",
       "    </tr>\n",
       "  </tbody>\n",
       "</table>\n",
       "</div>"
      ],
      "text/plain": [
       "  target  predictions  pred_std  pred_var  confidence_low  confidence_high  \\\n",
       "0  [0.0]     0.247330  0.098857  0.009773        0.149021         0.345639   \n",
       "1  [1.0]     0.943311  0.043379  0.001882        0.900172         0.986450   \n",
       "2  [0.0]     0.218576  0.132310  0.017506        0.086999         0.350153   \n",
       "3  [0.0]     0.274191  0.124581  0.015520        0.150300         0.398081   \n",
       "4  [1.0]     0.569014  0.199379  0.039752        0.370741         0.767288   \n",
       "5  [0.0]     0.258031  0.090286  0.008152        0.168245         0.347816   \n",
       "6  [1.0]     0.549611  0.115998  0.013456        0.434255         0.664966   \n",
       "7  [0.0]     0.236272  0.099692  0.009938        0.137133         0.335411   \n",
       "8  [0.0]     0.269508  0.084623  0.007161        0.185354         0.353662   \n",
       "9  [0.0]     0.236786  0.103564  0.010726        0.133796         0.339777   \n",
       "\n",
       "   confidence_range  bin_pred  \n",
       "0          0.196618         0  \n",
       "1          0.086278         1  \n",
       "2          0.263154         0  \n",
       "3          0.247781         0  \n",
       "4          0.396547         1  \n",
       "5          0.179572         0  \n",
       "6          0.230711         1  \n",
       "7          0.198278         0  \n",
       "8          0.168308         0  \n",
       "9          0.205981         0  "
      ]
     },
     "execution_count": 47,
     "metadata": {},
     "output_type": "execute_result"
    }
   ],
   "source": [
    "correct.head(10)"
   ]
  },
  {
   "cell_type": "code",
   "execution_count": 48,
   "metadata": {},
   "outputs": [
    {
     "data": {
      "text/html": [
       "<div>\n",
       "<style scoped>\n",
       "    .dataframe tbody tr th:only-of-type {\n",
       "        vertical-align: middle;\n",
       "    }\n",
       "\n",
       "    .dataframe tbody tr th {\n",
       "        vertical-align: top;\n",
       "    }\n",
       "\n",
       "    .dataframe thead th {\n",
       "        text-align: right;\n",
       "    }\n",
       "</style>\n",
       "<table border=\"1\" class=\"dataframe\">\n",
       "  <thead>\n",
       "    <tr style=\"text-align: right;\">\n",
       "      <th></th>\n",
       "      <th>target</th>\n",
       "      <th>predictions</th>\n",
       "      <th>pred_std</th>\n",
       "      <th>pred_var</th>\n",
       "      <th>confidence_low</th>\n",
       "      <th>confidence_high</th>\n",
       "      <th>confidence_range</th>\n",
       "      <th>bin_pred</th>\n",
       "    </tr>\n",
       "  </thead>\n",
       "  <tbody>\n",
       "    <tr>\n",
       "      <th>11</th>\n",
       "      <td>[0.0]</td>\n",
       "      <td>0.573330</td>\n",
       "      <td>0.132726</td>\n",
       "      <td>0.017616</td>\n",
       "      <td>0.441339</td>\n",
       "      <td>0.705321</td>\n",
       "      <td>0.263981</td>\n",
       "      <td>1</td>\n",
       "    </tr>\n",
       "    <tr>\n",
       "      <th>18</th>\n",
       "      <td>[1.0]</td>\n",
       "      <td>0.487770</td>\n",
       "      <td>0.116282</td>\n",
       "      <td>0.013521</td>\n",
       "      <td>0.372132</td>\n",
       "      <td>0.603407</td>\n",
       "      <td>0.231275</td>\n",
       "      <td>0</td>\n",
       "    </tr>\n",
       "    <tr>\n",
       "      <th>23</th>\n",
       "      <td>[0.0]</td>\n",
       "      <td>0.630469</td>\n",
       "      <td>0.194001</td>\n",
       "      <td>0.037637</td>\n",
       "      <td>0.437543</td>\n",
       "      <td>0.823395</td>\n",
       "      <td>0.385853</td>\n",
       "      <td>1</td>\n",
       "    </tr>\n",
       "    <tr>\n",
       "      <th>36</th>\n",
       "      <td>[1.0]</td>\n",
       "      <td>0.483456</td>\n",
       "      <td>0.169204</td>\n",
       "      <td>0.028630</td>\n",
       "      <td>0.315190</td>\n",
       "      <td>0.651721</td>\n",
       "      <td>0.336532</td>\n",
       "      <td>0</td>\n",
       "    </tr>\n",
       "    <tr>\n",
       "      <th>38</th>\n",
       "      <td>[0.0]</td>\n",
       "      <td>0.723850</td>\n",
       "      <td>0.163943</td>\n",
       "      <td>0.026877</td>\n",
       "      <td>0.560815</td>\n",
       "      <td>0.886884</td>\n",
       "      <td>0.326069</td>\n",
       "      <td>1</td>\n",
       "    </tr>\n",
       "    <tr>\n",
       "      <th>42</th>\n",
       "      <td>[0.0]</td>\n",
       "      <td>0.584654</td>\n",
       "      <td>0.214649</td>\n",
       "      <td>0.046074</td>\n",
       "      <td>0.371195</td>\n",
       "      <td>0.798113</td>\n",
       "      <td>0.426918</td>\n",
       "      <td>1</td>\n",
       "    </tr>\n",
       "    <tr>\n",
       "      <th>49</th>\n",
       "      <td>[1.0]</td>\n",
       "      <td>0.432925</td>\n",
       "      <td>0.143577</td>\n",
       "      <td>0.020614</td>\n",
       "      <td>0.290144</td>\n",
       "      <td>0.575707</td>\n",
       "      <td>0.285563</td>\n",
       "      <td>0</td>\n",
       "    </tr>\n",
       "    <tr>\n",
       "      <th>51</th>\n",
       "      <td>[0.0]</td>\n",
       "      <td>0.501741</td>\n",
       "      <td>0.191486</td>\n",
       "      <td>0.036667</td>\n",
       "      <td>0.311316</td>\n",
       "      <td>0.692166</td>\n",
       "      <td>0.380850</td>\n",
       "      <td>1</td>\n",
       "    </tr>\n",
       "    <tr>\n",
       "      <th>66</th>\n",
       "      <td>[1.0]</td>\n",
       "      <td>0.275582</td>\n",
       "      <td>0.140775</td>\n",
       "      <td>0.019818</td>\n",
       "      <td>0.135587</td>\n",
       "      <td>0.415577</td>\n",
       "      <td>0.279990</td>\n",
       "      <td>0</td>\n",
       "    </tr>\n",
       "    <tr>\n",
       "      <th>67</th>\n",
       "      <td>[1.0]</td>\n",
       "      <td>0.315428</td>\n",
       "      <td>0.099514</td>\n",
       "      <td>0.009903</td>\n",
       "      <td>0.216466</td>\n",
       "      <td>0.414390</td>\n",
       "      <td>0.197924</td>\n",
       "      <td>0</td>\n",
       "    </tr>\n",
       "  </tbody>\n",
       "</table>\n",
       "</div>"
      ],
      "text/plain": [
       "   target  predictions  pred_std  pred_var  confidence_low  confidence_high  \\\n",
       "11  [0.0]     0.573330  0.132726  0.017616        0.441339         0.705321   \n",
       "18  [1.0]     0.487770  0.116282  0.013521        0.372132         0.603407   \n",
       "23  [0.0]     0.630469  0.194001  0.037637        0.437543         0.823395   \n",
       "36  [1.0]     0.483456  0.169204  0.028630        0.315190         0.651721   \n",
       "38  [0.0]     0.723850  0.163943  0.026877        0.560815         0.886884   \n",
       "42  [0.0]     0.584654  0.214649  0.046074        0.371195         0.798113   \n",
       "49  [1.0]     0.432925  0.143577  0.020614        0.290144         0.575707   \n",
       "51  [0.0]     0.501741  0.191486  0.036667        0.311316         0.692166   \n",
       "66  [1.0]     0.275582  0.140775  0.019818        0.135587         0.415577   \n",
       "67  [1.0]     0.315428  0.099514  0.009903        0.216466         0.414390   \n",
       "\n",
       "    confidence_range  bin_pred  \n",
       "11          0.263981         1  \n",
       "18          0.231275         0  \n",
       "23          0.385853         1  \n",
       "36          0.336532         0  \n",
       "38          0.326069         1  \n",
       "42          0.426918         1  \n",
       "49          0.285563         0  \n",
       "51          0.380850         1  \n",
       "66          0.279990         0  \n",
       "67          0.197924         0  "
      ]
     },
     "execution_count": 48,
     "metadata": {},
     "output_type": "execute_result"
    }
   ],
   "source": [
    "incorrect.head(10)"
   ]
  },
  {
   "cell_type": "code",
   "execution_count": 49,
   "metadata": {},
   "outputs": [
    {
     "name": "stderr",
     "output_type": "stream",
     "text": [
      "/Users/sabber/anaconda3/lib/python3.6/site-packages/matplotlib/axes/_axes.py:6462: UserWarning: The 'normed' kwarg is deprecated, and has been replaced by the 'density' kwarg.\n",
      "  warnings.warn(\"The 'normed' kwarg is deprecated, and has been \"\n"
     ]
    },
    {
     "data": {
      "image/png": "[encoded data removed]",
      "text/plain": [
       "<Figure size 640x480 with 2 Axes>"
      ]
     },
     "metadata": {},
     "output_type": "display_data"
    }
   ],
   "source": [
    "plot_distribution(66)"
   ]
  },
  {
   "cell_type": "code",
   "execution_count": 84,
   "metadata": {},
   "outputs": [],
   "source": [
    "from sklearn.metrics import accuracy_score, classification_report, confusion_matrix"
   ]
  },
  {
   "cell_type": "code",
   "execution_count": 85,
   "metadata": {},
   "outputs": [],
   "source": [
    "def prediction(ytest, ypred):\n",
    "    print('Accuracy of the model: {}\\n'.format(accuracy_score(ytest, ypred)))\n",
    "    print('Classification report: \\n{}\\n'.format(classification_report(ytest, ypred)))\n",
    "    print('Confusion matrix: \\n{}\\n'.format(confusion_matrix(ytest, ypred)))"
   ]
  },
  {
   "cell_type": "code",
   "execution_count": 86,
   "metadata": {},
   "outputs": [
    {
     "name": "stdout",
     "output_type": "stream",
     "text": [
      "Accuracy of the model: 0.7975\n",
      "\n",
      "Classification report: \n",
      "             precision    recall  f1-score   support\n",
      "\n",
      "        0.0       0.89      0.80      0.84       272\n",
      "        1.0       0.65      0.79      0.71       128\n",
      "\n",
      "avg / total       0.81      0.80      0.80       400\n",
      "\n",
      "\n",
      "Confusion matrix: \n",
      "[[218  54]\n",
      " [ 27 101]]\n",
      "\n"
     ]
    }
   ],
   "source": [
    "prediction(ytest, ypred)"
   ]
  },
  {
   "cell_type": "markdown",
   "metadata": {},
   "source": [
    "### Result vizualisation"
   ]
  },
  {
   "cell_type": "code",
   "execution_count": 119,
   "metadata": {},
   "outputs": [],
   "source": [
    "pca = PCA(n_components = 2, random_state = 2018).fit_transform(xtest)\n",
    "\n",
    "results['pca_x1'] = pca[:, 0]\n",
    "results['pca_x2'] = pca[:, 1]"
   ]
  },
  {
   "cell_type": "code",
   "execution_count": 120,
   "metadata": {},
   "outputs": [
    {
     "data": {
      "text/html": [
       "<div>\n",
       "<style scoped>\n",
       "    .dataframe tbody tr th:only-of-type {\n",
       "        vertical-align: middle;\n",
       "    }\n",
       "\n",
       "    .dataframe tbody tr th {\n",
       "        vertical-align: top;\n",
       "    }\n",
       "\n",
       "    .dataframe thead th {\n",
       "        text-align: right;\n",
       "    }\n",
       "</style>\n",
       "<table border=\"1\" class=\"dataframe\">\n",
       "  <thead>\n",
       "    <tr style=\"text-align: right;\">\n",
       "      <th></th>\n",
       "      <th>target</th>\n",
       "      <th>predictions</th>\n",
       "      <th>pred_std</th>\n",
       "      <th>pred_var</th>\n",
       "      <th>confidence_low</th>\n",
       "      <th>confidence_high</th>\n",
       "      <th>confidence_range</th>\n",
       "      <th>bin_pred</th>\n",
       "      <th>pca_x1</th>\n",
       "      <th>pca_x2</th>\n",
       "    </tr>\n",
       "  </thead>\n",
       "  <tbody>\n",
       "    <tr>\n",
       "      <th>0</th>\n",
       "      <td>0.0</td>\n",
       "      <td>0.247330</td>\n",
       "      <td>0.098857</td>\n",
       "      <td>0.009773</td>\n",
       "      <td>0.149021</td>\n",
       "      <td>0.345639</td>\n",
       "      <td>0.196618</td>\n",
       "      <td>0</td>\n",
       "      <td>0.557490</td>\n",
       "      <td>-1.138433</td>\n",
       "    </tr>\n",
       "    <tr>\n",
       "      <th>1</th>\n",
       "      <td>1.0</td>\n",
       "      <td>0.943311</td>\n",
       "      <td>0.043379</td>\n",
       "      <td>0.001882</td>\n",
       "      <td>0.900172</td>\n",
       "      <td>0.986450</td>\n",
       "      <td>0.086278</td>\n",
       "      <td>1</td>\n",
       "      <td>0.372588</td>\n",
       "      <td>2.210410</td>\n",
       "    </tr>\n",
       "    <tr>\n",
       "      <th>2</th>\n",
       "      <td>0.0</td>\n",
       "      <td>0.218576</td>\n",
       "      <td>0.132310</td>\n",
       "      <td>0.017506</td>\n",
       "      <td>0.086999</td>\n",
       "      <td>0.350153</td>\n",
       "      <td>0.263154</td>\n",
       "      <td>0</td>\n",
       "      <td>-2.883425</td>\n",
       "      <td>-0.418066</td>\n",
       "    </tr>\n",
       "    <tr>\n",
       "      <th>3</th>\n",
       "      <td>0.0</td>\n",
       "      <td>0.274191</td>\n",
       "      <td>0.124581</td>\n",
       "      <td>0.015520</td>\n",
       "      <td>0.150300</td>\n",
       "      <td>0.398081</td>\n",
       "      <td>0.247781</td>\n",
       "      <td>0</td>\n",
       "      <td>0.412756</td>\n",
       "      <td>-1.462043</td>\n",
       "    </tr>\n",
       "    <tr>\n",
       "      <th>4</th>\n",
       "      <td>1.0</td>\n",
       "      <td>0.569014</td>\n",
       "      <td>0.199379</td>\n",
       "      <td>0.039752</td>\n",
       "      <td>0.370741</td>\n",
       "      <td>0.767288</td>\n",
       "      <td>0.396547</td>\n",
       "      <td>1</td>\n",
       "      <td>2.860224</td>\n",
       "      <td>0.236508</td>\n",
       "    </tr>\n",
       "  </tbody>\n",
       "</table>\n",
       "</div>"
      ],
      "text/plain": [
       "   target  predictions  pred_std  pred_var  confidence_low  confidence_high  \\\n",
       "0     0.0     0.247330  0.098857  0.009773        0.149021         0.345639   \n",
       "1     1.0     0.943311  0.043379  0.001882        0.900172         0.986450   \n",
       "2     0.0     0.218576  0.132310  0.017506        0.086999         0.350153   \n",
       "3     0.0     0.274191  0.124581  0.015520        0.150300         0.398081   \n",
       "4     1.0     0.569014  0.199379  0.039752        0.370741         0.767288   \n",
       "\n",
       "   confidence_range  bin_pred    pca_x1    pca_x2  \n",
       "0          0.196618         0  0.557490 -1.138433  \n",
       "1          0.086278         1  0.372588  2.210410  \n",
       "2          0.263154         0 -2.883425 -0.418066  \n",
       "3          0.247781         0  0.412756 -1.462043  \n",
       "4          0.396547         1  2.860224  0.236508  "
      ]
     },
     "execution_count": 120,
     "metadata": {},
     "output_type": "execute_result"
    }
   ],
   "source": [
    "results.head()"
   ]
  },
  {
   "cell_type": "code",
   "execution_count": 124,
   "metadata": {},
   "outputs": [
    {
     "data": {
      "image/png": "[encoded data removed]",
      "text/plain": [
       "<Figure size 640x480 with 1 Axes>"
      ]
     },
     "metadata": {},
     "output_type": "display_data"
    }
   ],
   "source": [
    "plt.scatter(results.pca_x1[results.target == 0], results.pca_x2[results.target == 0], color = 'r')\n",
    "plt.scatter(results.pca_x1[results.target == 1], results.pca_x2[results.target == 1], color = 'b')\n",
    "\n",
    "plt.xlabel('PCA component-1')\n",
    "plt.ylabel('PCA component-2')\n",
    "plt.show()"
   ]
  },
  {
   "cell_type": "code",
   "execution_count": 81,
   "metadata": {},
   "outputs": [],
   "source": [
    "grid = np.mgrid[-5:5:100j,-5:5:100j]\n",
    "grid_2d = grid.reshape(2, -1).T\n",
    "dummy_out = np.ones(grid.shape[1], dtype=np.int8)"
   ]
  },
  {
   "cell_type": "code",
   "execution_count": 106,
   "metadata": {},
   "outputs": [
    {
     "data": {
      "text/plain": [
       "(10000, 2)"
      ]
     },
     "execution_count": 106,
     "metadata": {},
     "output_type": "execute_result"
    }
   ],
   "source": [
    "np.shape(grid_2d)"
   ]
  },
  {
   "cell_type": "code",
   "execution_count": 107,
   "metadata": {},
   "outputs": [
    {
     "ename": "ValueError",
     "evalue": "cannot reshape array of size 400 into shape (100,100)",
     "output_type": "error",
     "traceback": [
      "\u001b[0;31m---------------------------------------------------------------------------\u001b[0m",
      "\u001b[0;31mValueError\u001b[0m                                Traceback (most recent call last)",
      "\u001b[0;32m<ipython-input-107-4591291bc130>\u001b[0m in \u001b[0;36m<module>\u001b[0;34m()\u001b[0m\n\u001b[0;32m----> 1\u001b[0;31m \u001b[0mnp\u001b[0m\u001b[0;34m.\u001b[0m\u001b[0marray\u001b[0m\u001b[0;34m(\u001b[0m\u001b[0mresults\u001b[0m\u001b[0;34m[\u001b[0m\u001b[0;34m'predictions'\u001b[0m\u001b[0;34m]\u001b[0m\u001b[0;34m)\u001b[0m\u001b[0;34m.\u001b[0m\u001b[0mreshape\u001b[0m\u001b[0;34m(\u001b[0m\u001b[0;36m100\u001b[0m\u001b[0;34m,\u001b[0m \u001b[0;36m100\u001b[0m\u001b[0;34m)\u001b[0m\u001b[0;34m\u001b[0m\u001b[0m\n\u001b[0m",
      "\u001b[0;31mValueError\u001b[0m: cannot reshape array of size 400 into shape (100,100)"
     ]
    }
   ],
   "source": [
    "np.array(results['predictions']).reshape(100, 100)"
   ]
  },
  {
   "cell_type": "code",
   "execution_count": 103,
   "metadata": {},
   "outputs": [
    {
     "ename": "AttributeError",
     "evalue": "'Series' object has no attribute 'reshape'",
     "output_type": "error",
     "traceback": [
      "\u001b[0;31m---------------------------------------------------------------------------\u001b[0m",
      "\u001b[0;31mAttributeError\u001b[0m                            Traceback (most recent call last)",
      "\u001b[0;32m<ipython-input-103-9afc8b322e21>\u001b[0m in \u001b[0;36m<module>\u001b[0;34m()\u001b[0m\n\u001b[1;32m      2\u001b[0m \u001b[0mfig\u001b[0m\u001b[0;34m,\u001b[0m \u001b[0max\u001b[0m \u001b[0;34m=\u001b[0m \u001b[0mplt\u001b[0m\u001b[0;34m.\u001b[0m\u001b[0msubplots\u001b[0m\u001b[0;34m(\u001b[0m\u001b[0mfigsize\u001b[0m\u001b[0;34m=\u001b[0m\u001b[0;34m(\u001b[0m\u001b[0;36m10\u001b[0m\u001b[0;34m,\u001b[0m \u001b[0;36m6\u001b[0m\u001b[0;34m)\u001b[0m\u001b[0;34m)\u001b[0m\u001b[0;34m\u001b[0m\u001b[0m\n\u001b[1;32m      3\u001b[0m \u001b[0;34m\u001b[0m\u001b[0m\n\u001b[0;32m----> 4\u001b[0;31m \u001b[0mcontour\u001b[0m \u001b[0;34m=\u001b[0m \u001b[0max\u001b[0m\u001b[0;34m.\u001b[0m\u001b[0mcontourf\u001b[0m\u001b[0;34m(\u001b[0m\u001b[0;34m*\u001b[0m\u001b[0mgrid\u001b[0m\u001b[0;34m,\u001b[0m \u001b[0mresults\u001b[0m\u001b[0;34m.\u001b[0m\u001b[0mpredictions\u001b[0m\u001b[0;34m.\u001b[0m\u001b[0mreshape\u001b[0m\u001b[0;34m(\u001b[0m\u001b[0;36m100\u001b[0m\u001b[0;34m,\u001b[0m \u001b[0;36m100\u001b[0m\u001b[0;34m)\u001b[0m\u001b[0;34m,\u001b[0m \u001b[0mcmap\u001b[0m\u001b[0;34m=\u001b[0m\u001b[0mcmap\u001b[0m\u001b[0;34m)\u001b[0m\u001b[0;34m\u001b[0m\u001b[0m\n\u001b[0m\u001b[1;32m      5\u001b[0m \u001b[0;34m\u001b[0m\u001b[0m\n\u001b[1;32m      6\u001b[0m \u001b[0;31m# ax.scatter(xtest[pred==0, 0], xtest[pred==0, 1])\u001b[0m\u001b[0;34m\u001b[0m\u001b[0;34m\u001b[0m\u001b[0m\n",
      "\u001b[0;32m~/anaconda3/lib/python3.6/site-packages/pandas/core/generic.py\u001b[0m in \u001b[0;36m__getattr__\u001b[0;34m(self, name)\u001b[0m\n\u001b[1;32m   4370\u001b[0m             \u001b[0;32mif\u001b[0m \u001b[0mself\u001b[0m\u001b[0;34m.\u001b[0m\u001b[0m_info_axis\u001b[0m\u001b[0;34m.\u001b[0m\u001b[0m_can_hold_identifiers_and_holds_name\u001b[0m\u001b[0;34m(\u001b[0m\u001b[0mname\u001b[0m\u001b[0;34m)\u001b[0m\u001b[0;34m:\u001b[0m\u001b[0;34m\u001b[0m\u001b[0m\n\u001b[1;32m   4371\u001b[0m                 \u001b[0;32mreturn\u001b[0m \u001b[0mself\u001b[0m\u001b[0;34m[\u001b[0m\u001b[0mname\u001b[0m\u001b[0;34m]\u001b[0m\u001b[0;34m\u001b[0m\u001b[0m\n\u001b[0;32m-> 4372\u001b[0;31m             \u001b[0;32mreturn\u001b[0m \u001b[0mobject\u001b[0m\u001b[0;34m.\u001b[0m\u001b[0m__getattribute__\u001b[0m\u001b[0;34m(\u001b[0m\u001b[0mself\u001b[0m\u001b[0;34m,\u001b[0m \u001b[0mname\u001b[0m\u001b[0;34m)\u001b[0m\u001b[0;34m\u001b[0m\u001b[0m\n\u001b[0m\u001b[1;32m   4373\u001b[0m \u001b[0;34m\u001b[0m\u001b[0m\n\u001b[1;32m   4374\u001b[0m     \u001b[0;32mdef\u001b[0m \u001b[0m__setattr__\u001b[0m\u001b[0;34m(\u001b[0m\u001b[0mself\u001b[0m\u001b[0;34m,\u001b[0m \u001b[0mname\u001b[0m\u001b[0;34m,\u001b[0m \u001b[0mvalue\u001b[0m\u001b[0;34m)\u001b[0m\u001b[0;34m:\u001b[0m\u001b[0;34m\u001b[0m\u001b[0m\n",
      "\u001b[0;31mAttributeError\u001b[0m: 'Series' object has no attribute 'reshape'"
     ]
    },
    {
     "data": {
      "image/png": "[encoded data removed]",
      "text/plain": [
       "<Figure size 1000x600 with 1 Axes>"
      ]
     },
     "metadata": {},
     "output_type": "display_data"
    }
   ],
   "source": [
    "cmap = sns.diverging_palette(250, 12, s=85, l=25, as_cmap=True)\n",
    "fig, ax = plt.subplots(figsize=(10, 6))\n",
    "\n",
    "contour = ax.contourf(*grid, results.predictions.reshape(100, 100), cmap=cmap)\n",
    "\n",
    "# ax.scatter(xtest[pred==0, 0], xtest[pred==0, 1])\n",
    "# ax.scatter(Xtest[pred==1, 0], xtest[pred==1, 1], color='r')\n",
    "\n",
    "cbar = plt.colorbar(contour, ax=ax)\n",
    "_ = ax.set(xlim=(-3, 3), ylim=(-3, 3), xlabel='X', ylabel='Y');\n",
    "cbar.ax.set_ylabel('Posterior predictive mean probability of class label = 0');"
   ]
  },
  {
   "cell_type": "code",
   "execution_count": null,
   "metadata": {},
   "outputs": [],
   "source": []
  },
  {
   "cell_type": "code",
   "execution_count": null,
   "metadata": {},
   "outputs": [],
   "source": []
  },
  {
   "cell_type": "code",
   "execution_count": null,
   "metadata": {},
   "outputs": [],
   "source": []
  },
  {
   "cell_type": "code",
   "execution_count": null,
   "metadata": {},
   "outputs": [],
   "source": []
  },
  {
   "cell_type": "markdown",
   "metadata": {},
   "source": [
    "### CRITICISM"
   ]
  },
  {
   "cell_type": "code",
   "execution_count": null,
   "metadata": {},
   "outputs": [],
   "source": [
    "x_post = ed.copy(x, {p: qp})"
   ]
  },
  {
   "cell_type": "code",
   "execution_count": 191,
   "metadata": {},
   "outputs": [
    {
     "data": {
      "image/png": "[encoded data removed]",
      "text/plain": [
       "<Figure size 432x288 with 1 Axes>"
      ]
     },
     "metadata": {},
     "output_type": "display_data"
    }
   ],
   "source": [
    "import matplotlib.pyplot as plt\n",
    "\n",
    "y = np.random.randn(20)\n",
    "y_rep = np.random.randn(20, 20)\n",
    "\n",
    "ed.ppc_density_plot(y, y_rep)\n",
    "plt.show()"
   ]
  }
 ],
 "metadata": {
  "kernelspec": {
   "display_name": "Python 3",
   "language": "python",
   "name": "python3"
  },
  "language_info": {
   "codemirror_mode": {
    "name": "ipython",
    "version": 3
   },
   "file_extension": ".py",
   "mimetype": "text/x-python",
   "name": "python",
   "nbconvert_exporter": "python",
   "pygments_lexer": "ipython3",
   "version": "3.6.5"
  }
 },
 "nbformat": 4,
 "nbformat_minor": 2
}
